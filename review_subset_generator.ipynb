{
 "cells": [
  {
   "cell_type": "code",
   "execution_count": 1,
   "metadata": {
    "collapsed": true
   },
   "outputs": [],
   "source": [
    "import codecs\n",
    "import pandas as pd\n",
    "import itertools as it\n",
    "\n",
    "from pandas import DataFrame\n",
    "import os\n",
    "\n",
    "import spacy\n",
    "from gensim.models import Phrases\n",
    "from gensim.models.word2vec import LineSentence\n",
    "\n",
    "import en_core_web_sm\n",
    "nlp = spacy.load('en')"
   ]
  },
  {
   "cell_type": "code",
   "execution_count": 2,
   "metadata": {
    "collapsed": true
   },
   "outputs": [],
   "source": [
    "stars_filepath = 'review_stars_rest_subset.txt'\n",
    "review_txt_filepath = 'review_text_rest_subset.txt'\n",
    "business_filepath = 'review_business_rest_subset.txt'\n",
    "user_filepath = 'review_user_rest_subset.txt'"
   ]
  },
  {
   "cell_type": "code",
   "execution_count": 3,
   "metadata": {
    "collapsed": true
   },
   "outputs": [],
   "source": [
    "def line_review(filename):\n",
    "    \"\"\"\n",
    "    generator function to read in reviews from the file\n",
    "    and un-escape the original line breaks in the text\n",
    "    \"\"\"\n",
    "    \n",
    "    with codecs.open(filename, encoding='utf_8') as f:\n",
    "        for review in f:\n",
    "            yield review.replace('\\\\n', '\\n')"
   ]
  },
  {
   "cell_type": "code",
   "execution_count": 4,
   "metadata": {
    "collapsed": true
   },
   "outputs": [],
   "source": [
    "def get_data(filepath,review_number):\n",
    "    \"\"\"\n",
    "    retrieve a particular review index\n",
    "    from the reviews file and return it\n",
    "    \"\"\"\n",
    "    \n",
    "    return list(it.islice(line_review(filepath),\n",
    "                          review_number, review_number+1))[0]"
   ]
  },
  {
   "cell_type": "code",
   "execution_count": 5,
   "metadata": {
    "collapsed": true
   },
   "outputs": [],
   "source": [
    "with open(stars_filepath) as f:\n",
    "    stars = f.readlines()\n",
    "# remove whitespace characters like `\\n` at the end of each line\n",
    "stars = [x.strip() for x in stars]"
   ]
  },
  {
   "cell_type": "code",
   "execution_count": 6,
   "metadata": {
    "collapsed": true
   },
   "outputs": [],
   "source": [
    "with open(review_txt_filepath) as f:\n",
    "    texts = f.readlines()\n",
    "# remove whitespace characters like `\\n` at the end of each line\n",
    "texts = [x.strip() for x in texts]"
   ]
  },
  {
   "cell_type": "code",
   "execution_count": 7,
   "metadata": {
    "collapsed": true
   },
   "outputs": [],
   "source": [
    "with open(business_filepath) as f:\n",
    "    business = f.readlines()\n",
    "# remove whitespace characters like `\\n` at the end of each line\n",
    "business = [x.strip() for x in business]"
   ]
  },
  {
   "cell_type": "code",
   "execution_count": 8,
   "metadata": {
    "collapsed": true
   },
   "outputs": [],
   "source": [
    "with open(user_filepath) as f:\n",
    "    user = f.readlines()\n",
    "# remove whitespace characters like `\\n` at the end of each line\n",
    "user = [x.strip() for x in user]"
   ]
  },
  {
   "cell_type": "code",
   "execution_count": 9,
   "metadata": {
    "collapsed": false
   },
   "outputs": [
    {
     "name": "stdout",
     "output_type": "stream",
     "text": [
      "1570963 1570963 1570963 1570963\n"
     ]
    }
   ],
   "source": [
    "#test lengths, all should be the same\n",
    "print(len(stars), len(texts), len(business), len(user))"
   ]
  },
  {
   "cell_type": "code",
   "execution_count": 10,
   "metadata": {
    "collapsed": false
   },
   "outputs": [
    {
     "name": "stdout",
     "output_type": "stream",
     "text": [
      "52810\n"
     ]
    }
   ],
   "source": [
    "bus_set = frozenset(business)\n",
    "print(len(bus_set))"
   ]
  },
  {
   "cell_type": "code",
   "execution_count": 11,
   "metadata": {
    "collapsed": false
   },
   "outputs": [
    {
     "name": "stdout",
     "output_type": "stream",
     "text": [
      "169373\n"
     ]
    }
   ],
   "source": [
    "user_set = frozenset(user)\n",
    "print(len(user_set))"
   ]
  },
  {
   "cell_type": "code",
   "execution_count": 13,
   "metadata": {
    "collapsed": false
   },
   "outputs": [
    {
     "name": "stdout",
     "output_type": "stream",
     "text": [
      "frozenset({'5r6-G9C4YLbC7Ziz57l3rQ', 'XWTPNfskXoUL-Lf32wSk0Q', 'I8rveLd-dl81u6c8YqAxmw', 'Eox_Qq74oaFZ-YjthpHhBw', '0W4lkclzZThpx3V65bVgig', 'zxJlg4XCHNoFy78WZPv89w', 'Aov96CM4FZAXeZvKtsStdA', 'oWTn2IzrprsRkPfULtjZtQ', 'z8oIoCT1cXz7gZP5GeU5OA', '4_GIJk0tX3k0x0FcUv4sNA', 'a9aW5e731lplWGHUZ02-zQ', 'Xy74meQwdTnloAAyRC-4cg', 'PFPUMF38-lraKzLcTiz5gQ', 'N93EYZy9R0sdlEvubu94ig', 'ZnxudK5ExgpfXs4bicS4IA', 'zgQHtqX0gqMw1nlBZl2VnQ', '28adZ4lsuUeVB2aWzohK9g', 'hjk3ox7w1akbEuOgTJ03Bw', 'RtUvSWO_UZ8V3Wpj0n077w'})\n"
     ]
    }
   ],
   "source": [
    "test_set = frozenset(business[1:20])\n",
    "print(test_set)"
   ]
  },
  {
   "cell_type": "markdown",
   "metadata": {},
   "source": [
    "Make collased business text file"
   ]
  },
  {
   "cell_type": "code",
   "execution_count": 16,
   "metadata": {
    "collapsed": true
   },
   "outputs": [],
   "source": [
    "all_bus_filepath = \"collapsed_business_rest_subset.txt\""
   ]
  },
  {
   "cell_type": "code",
   "execution_count": 14,
   "metadata": {
    "collapsed": true
   },
   "outputs": [],
   "source": [
    "all_test_filepath = \"collapsed_business_rest_subset_test.txt\""
   ]
  },
  {
   "cell_type": "code",
   "execution_count": 17,
   "metadata": {
    "collapsed": false
   },
   "outputs": [
    {
     "name": "stdout",
     "output_type": "stream",
     "text": [
      "CPU times: user 1h 51min 35s, sys: 3.08 s, total: 1h 51min 38s\n",
      "Wall time: 1h 51min 51s\n"
     ]
    }
   ],
   "source": [
    "%%time\n",
    "#function to loop through all business ids, collapse all reviews for that business into one string\n",
    "if 1 == 0:\n",
    "    with codecs.open(all_bus_filepath, 'w', encoding='utf_8') as f:\n",
    "        for x in bus_set:\n",
    "            review_index = [i for i,j in enumerate(business) if j == x]\n",
    "            review_sub = [texts[ind] for ind in review_index]\n",
    "            review_out = ''.join(map(str, review_sub))\n",
    "            f.write(review_out + '\\n')\n",
    "            #print(x)\n",
    "    "
   ]
  },
  {
   "cell_type": "code",
   "execution_count": 18,
   "metadata": {
    "collapsed": true
   },
   "outputs": [],
   "source": [
    "collapsed_business = LineSentence(all_bus_filepath)"
   ]
  },
  {
   "cell_type": "code",
   "execution_count": 25,
   "metadata": {
    "collapsed": false
   },
   "outputs": [
    {
     "data": {
      "text/plain": [
       "<gensim.models.word2vec.LineSentence at 0x7fa49e78e4a8>"
      ]
     },
     "execution_count": 25,
     "metadata": {},
     "output_type": "execute_result"
    }
   ],
   "source": [
    "collapsed_business"
   ]
  },
  {
   "cell_type": "markdown",
   "metadata": {},
   "source": [
    "Make collapsed user text file"
   ]
  },
  {
   "cell_type": "code",
   "execution_count": 19,
   "metadata": {
    "collapsed": true
   },
   "outputs": [],
   "source": [
    "all_user_filepath = \"collapsed_user_rest_subset.txt\""
   ]
  },
  {
   "cell_type": "code",
   "execution_count": 20,
   "metadata": {
    "collapsed": false
   },
   "outputs": [
    {
     "name": "stdout",
     "output_type": "stream",
     "text": [
      "CPU times: user 5h 44min 44s, sys: 5.56 s, total: 5h 44min 49s\n",
      "Wall time: 5h 45min 12s\n"
     ]
    }
   ],
   "source": [
    "%%time\n",
    "#function to loop through all business ids, collapse all reviews for that business into one string\n",
    "if 1 == 0:\n",
    "    with codecs.open(all_user_filepath, 'w', encoding='utf_8') as f:\n",
    "        for x in user_set:\n",
    "            review_index = [i for i,j in enumerate(user) if j == x]\n",
    "            review_sub = [texts[ind] for ind in review_index]\n",
    "            review_out = ''.join(map(str, review_sub))\n",
    "            f.write(review_out + '\\n')"
   ]
  },
  {
   "cell_type": "markdown",
   "metadata": {
    "collapsed": true
   },
   "source": [
    "Setup and define function for NLP"
   ]
  },
  {
   "cell_type": "code",
   "execution_count": 27,
   "metadata": {
    "collapsed": true
   },
   "outputs": [],
   "source": [
    "#helper functions from modern nlp in python\n",
    "def punct_space(token):\n",
    "    \"\"\"\n",
    "    helper function to eliminate tokens\n",
    "    that are pure punctuation or whitespace\n",
    "    \"\"\"\n",
    "    \n",
    "    return token.is_punct or token.is_space\n",
    "\n",
    "def line_review(filename):\n",
    "    \"\"\"\n",
    "    generator function to read in reviews from the file\n",
    "    and un-escape the original line breaks in the text\n",
    "    \"\"\"\n",
    "    \n",
    "    with codecs.open(filename, encoding='utf_8') as f:\n",
    "        for review in f:\n",
    "            yield review.replace('\\\\n', '\\n')\n",
    "            \n",
    "def lemmatized_sentence_corpus(filename):\n",
    "    \"\"\"\n",
    "    generator function to use spaCy to parse reviews,\n",
    "    lemmatize the text, and yield sentences\n",
    "    \"\"\"\n",
    "    \n",
    "    for parsed_review in nlp.pipe(line_review(filename),\n",
    "                                  batch_size=10000, n_threads=4):\n",
    "        \n",
    "        for sent in parsed_review.sents:\n",
    "            yield u' '.join([token.lemma_ for token in sent\n",
    "                             if not punct_space(token)])"
   ]
  },
  {
   "cell_type": "code",
   "execution_count": 28,
   "metadata": {
    "collapsed": true
   },
   "outputs": [],
   "source": [
    "def get_sample_review(review_txt_filepath, review_number):\n",
    "    \"\"\"\n",
    "    retrieve a particular review index\n",
    "    from the reviews file and return it\n",
    "    \"\"\"\n",
    "    \n",
    "    return list(it.islice(line_review(review_txt_filepath),\n",
    "                          review_number, review_number+1))[0]"
   ]
  },
  {
   "cell_type": "code",
   "execution_count": 31,
   "metadata": {
    "collapsed": true
   },
   "outputs": [],
   "source": [
    "from gensim.corpora import Dictionary, MmCorpus\n",
    "from gensim.models.ldamulticore import LdaMulticore\n",
    "\n",
    "import pyLDAvis\n",
    "import pyLDAvis.gensim\n",
    "import warnings\n",
    "import _pickle as pickle"
   ]
  },
  {
   "cell_type": "code",
   "execution_count": 29,
   "metadata": {
    "collapsed": true
   },
   "outputs": [],
   "source": [
    "lda_model_filepath = 'lda_model_eat_30'\n",
    "trigram_dictionary_filepath = 'trigram_dict_eat_30.dict'\n",
    "trigram_model_filepath = 'trigram_model_all_eat_30'\n",
    "bigram_model_filepath = 'bigram_model_all_eat_30'"
   ]
  },
  {
   "cell_type": "code",
   "execution_count": 32,
   "metadata": {
    "collapsed": false
   },
   "outputs": [],
   "source": [
    "lda = LdaMulticore.load(lda_model_filepath)\n",
    "trigram_dictionary = Dictionary.load(trigram_dictionary_filepath)\n",
    "trigram_model = Phrases.load(trigram_model_filepath)\n",
    "bigram_model = Phrases.load(bigram_model_filepath)"
   ]
  },
  {
   "cell_type": "code",
   "execution_count": 55,
   "metadata": {
    "collapsed": false
   },
   "outputs": [],
   "source": [
    "def lda_description(review_text, min_topic_freq=0.05):\n",
    "    \"\"\"\n",
    "    accept the original text of a review and (1) parse it with spaCy,\n",
    "    (2) apply text pre-proccessing steps, (3) create a bag-of-words\n",
    "    representation, (4) create an LDA representation, and\n",
    "    (5) print a sorted list of the top topics in the LDA representation\n",
    "    \"\"\"\n",
    "    \n",
    "    # parse the review text with spaCy\n",
    "    parsed_review = nlp(review_text)\n",
    "    \n",
    "    # lemmatize the text and remove punctuation and whitespace\n",
    "    unigram_review = [token.lemma_ for token in parsed_review\n",
    "                      if not punct_space(token)]\n",
    "    \n",
    "    # apply the first-order and secord-order phrase models\n",
    "    bigram_review = bigram_model[unigram_review]\n",
    "    trigram_review = trigram_model[bigram_review]\n",
    "    \n",
    "    # remove any remaining stopwords\n",
    "    trigram_review = [term for term in trigram_review\n",
    "                      if not term in spacy.lang.en.stop_words.STOP_WORDS]\n",
    "    \n",
    "    # create a bag-of-words representation\n",
    "    review_bow = trigram_dictionary.doc2bow(trigram_review)\n",
    "    \n",
    "    # create an LDA representation\n",
    "    review_lda = lda[review_bow]\n",
    "    \n",
    "    # sort with the most highly related topics first\n",
    "    review_lda = sorted(review_lda, key=lambda review_lda: -review_lda[1])\n",
    "                       \n",
    "    for topic_number, freq in review_lda:\n",
    "#        if freq < min_topic_freq:\n",
    "#            break\n",
    "            \n",
    "        # print the most highly related topic names and frequencies\n",
    "        print('{:25} {}'.format(topic_names[topic_number],\n",
    "                                round(freq, 50)))"
   ]
  },
  {
   "cell_type": "code",
   "execution_count": 35,
   "metadata": {
    "collapsed": true
   },
   "outputs": [],
   "source": [
    "topic_names = {0: u'chinese',\n",
    "               1: u'thai',\n",
    "               2: u'healthy',\n",
    "               3: u'smell',\n",
    "               4: u'japanese',\n",
    "               5: u'toronto',\n",
    "               6: u'service',\n",
    "               7: u'experience',\n",
    "               8: u'asian soup',\n",
    "               9: u'grocery',\n",
    "               10: u'parking',\n",
    "               11: u'bar ambiance',\n",
    "               12: u'uk',\n",
    "               13: u'good service',\n",
    "               14: u'fun ambiance',\n",
    "               15: u'young',\n",
    "               16: u'comfort food',\n",
    "               17: u'greek',\n",
    "               18: u'high end',\n",
    "               19: u'hotwing',\n",
    "               20: u'breakfast',\n",
    "               21: u'sweet',\n",
    "               22: u'wine & dine',\n",
    "               23: u'pubs',\n",
    "               24: u'good taste',\n",
    "               25: u'na drinks',\n",
    "               26: u'desserts',\n",
    "               27: u'coffee shop',\n",
    "               28: u'mexican',\n",
    "               29: u'reviews',\n",
    "               30: u'new york',\n",
    "               31: u'general restaurant',\n",
    "               32: u'beach',\n",
    "               33: u'location',\n",
    "               34: u'happy hour',\n",
    "               35: u'amazing',\n",
    "               36: u'vietnamese',\n",
    "               37: u'time',\n",
    "               38: u'vas legas',\n",
    "               39: u'montreal',\n",
    "               40: u'deli',\n",
    "               41: u'buffet',\n",
    "               42: u'bbq',\n",
    "               43: u'french',\n",
    "               44: u'money',\n",
    "               45: u'street taco',\n",
    "               46: u'pizza',\n",
    "               47: u'airport & delivery',\n",
    "               48: u'burger & fries',\n",
    "               49: u'italian'}"
   ]
  },
  {
   "cell_type": "code",
   "execution_count": 36,
   "metadata": {
    "collapsed": false
   },
   "outputs": [],
   "source": [
    "topic_names_filepath = 'topic_names_eats_30.pkl'\n",
    "\n",
    "with open(topic_names_filepath, 'wb') as f:\n",
    "    pickle.dump(topic_names, f)"
   ]
  },
  {
   "cell_type": "code",
   "execution_count": null,
   "metadata": {
    "collapsed": true
   },
   "outputs": [],
   "source": [
    "all_test_filepath"
   ]
  },
  {
   "cell_type": "code",
   "execution_count": 41,
   "metadata": {
    "collapsed": false
   },
   "outputs": [
    {
     "name": "stdout",
     "output_type": "stream",
     "text": [
      "This place is awesome! Definitely authentic!!!  My two favourite dishes are the rice flour rolls and the chicken pho. The rice flour rolls are always fresh whenever I'm there! And the chicken pho is always flavourful!! mmmm....just thinking of it makes me want some!  My boyfriend is Vietnamese and he agrees that this place is authentic and one of the best Vietnamese restaurants he has ever eaten at.  Prices are very reasonable too!i love this joint.  really down to earth people.  the pho and the broth is minimal but good. less is more.  no funny dry mouth feeling because of the the msg.  tons of bean sprouts and the herbal lettuce stuff.  fast service, most of the times.  the prices are very reasonable.  it's a small place but it's big enough.  just go after lunch.  the menu is not that big which is a good thing.I think this is the best sit down meal you can get in the city for $10, all in. The Banh Cuon, soups and noodle bows are tasty and comforting. It's around the corner from our house and my husband and I like to duck in and out for a quick lunch whenever we can.  Service is usually speedy since the restaurant is small and they like to turn over the tables quickly. Take notice if planning to go for dinner: they close at 7pm most days.Best pho ga and  banh cuon in the city. No lie....also  the owners are the sweetest! Just go eat there and you won't regret it. THE HUT FOR LIFE! Riverside!Must Get the rice noodle rolls! I've been to other places, but none of them top these ones!   Reasonable priced, amazing portions, great quality food, and friendly service. Washrooms are also very clean! A bonus since this is located in china town.   Loved the bun! Noodles are nice and soft. Meat is nicely grilled and flavoured.   Pho soup is very flavourful. Didn't like the noodles very much. Found them a bit hard.   Server asks if you want cold or hot tea. The cold tea is actually served cold, not like ones with ice in it! Haven't seen this at any other asian places.   Vietnamese coffee is great! Very potent.   Cash only!   My go to Vietnamese place in Toronto!Located off the Main Street of Gerrard on a side street and in a converted home so it's definitely different. Came here for lunch and we were seated immediately. Staff speak Vietnamese and Cantonese. Fiancé ordered bamboo shoots and duck noodles in soup - she rates it as good, broth is excellent (she drank a lot of it lol) but bamboo sticks don't seem fresh. Not a deal breaker and still worth trying. I ordered pork chop on rice with fried egg - it was different from what I expected, no tomatoes, two pieces of pork chops (instead of the usual 1 piece) rice texture seemed closer to regular rice than broken rice but it was still ok - overall, it was mediocre but I wouldn't truly recommend it. Next time, I'll try the Phoactual rating 3.5  I went here for lunch a second time today.  Last time was better.  This time it took quite a while to get our order.  As always when I have Vietnamese food, I ordered the Bun.  I am not a huge fan of their noodles here; they are a little too thick.  And the meat that comes on the Bun has very little flavour.  The spring roll is decent, but nothing to rave about.  But the people are nice.  And the place itself is kind of cute in a sketchy way.  And it's a very cheap lunch, so it's hard to be too fussy.We got the Que Ling special pho in size large for $6.67. The broth is amazing here. De-li-cious, authentic, tastes homemade.   We also ordered spring rolls, they were ok. Tasty but a little dry for my taste.   The interior is a small cozy shack where you are very close to other patrons. They have a plastic by the door to break the wind and a heater mounted by the doorway. Staff is very friendly in spite of the fact that we didn't speak a word of Cantonese.   Would definitely go back.My fave pho in town, hands down. I grew up in Toronto and all the pho around town all have that fake universal pho-restaurant taste, which is never like homemade pho. The pho here is flavorful and hearty and tastes like the broth was simmered properly with proper ingredients.Ah, I love hole in the wall restaurants. Que Ling is a hidden gem in Riverdale, right by the high school. It's a great place to get authentic and tasty pho on the east side. The broth, noodles & toppings very flavourful and delicious. Don't let the exterior throw you off (it looks like the restaurant is built upon an old backyard shack/hut - it is a cute and cozy family owned restaurant inside. You feel like you're having some home cooking when you're here; which I like. Just as a couple of notes, the Vietnamese coffee is super potent so make sure you can take caffeine well or don't have it after 3pm (or in the evening before you sleep). Also, the place only takes cash so be mindful and bring cash to the restaurant.Ahhh Que Ling! Literally a hole in the wall though and kinda smelly inside, perhaps not for squeamish diners. It would definitely fit the bill for a \"pho\" shack! However they reportedly serve up one of the city's finer phos. I did not find it to be anything special, broth was rather salty, no special notes of flavour detected in the stock however the accompanying herb plate was full of saw, basil and cilantro-bonus points for that. And the beef is kinda \"scrungy\" looking and suffers from massive shrinkage once submerged in the broth but still tastes okay.  Banh Cuon here is good, the rice rolls are filled with ground pork and mushroom and the wrapping is thin and light. Will prolly venture back at some point, the prices are low across the board and there's always a stream of neighborhood regulars coming in and out.Terrible service.  Nothing like getting yelled at because you finished your meal, asked for your drink which never came and then asked for them to remove it from the bill.  ClassyWhat a bargain! You can't get viet food at this price any where else.   We ordered spring rolls, banh Cuong and bun bo hue with a durian milk shake. The bill was $22!!!! I liked the texture of the banh Cuong, it was smooth and soft however I wish there was a bit more filling inside. My husband's bun bo hue was very flavourful and tasty but we noticed there wasn't a lot of meat. I really liked the springs rolls because there was a lot more veggies than meat but to each its own. The durian milkshake was more on the icy side then smoothy side which would have been my preference.   This place is really small and a bit dirty so despite the value, I won't be making a trip just to eat here but if you are in the neighbourhood, it's worth dropping in.I've heard about this place for a long time but never tried it.  Finally decide to swing by to try out their pho.  Ordered house special pho and spring roll.  Spring roll doesn't quite look the part but actually tastes ok.  The wrap is crispy and crunchy and filling tastes quite authentic.  Pho on the other hand left something to be desired.  The broth is clear and fresh alright, but not quite as flavourful as another place nearby.  The portion is fair and I think their pho used combination of chicken and beef.  Bun bo hue is disappointing tho, the broth is too mild, kind of bland, not spicy at all.  It just doesn't taste like traditional bun bo hue I typically had. The place looks like old and beat up but they are actually busy during lunch time.  Table setting seems a bit weird and they did arrange different customers in a long table.  Service is fast so turnover is high when it's packed.  I really want to like this place as I see this is a family oriented place and the boss seems pretty nice.  But the food just doesn't hit my spot.  They are well known for their banh cuon so perhaps I will try banh cuon next time if I ever visit again.This is by far my favourite pho place in all of the Gta. My fiancé and I come here whenever we can. The people who work here are nice and super efficient. They remember us and are happy to greet us when we walk in.   We always get the large bahn cuõn with meat, which are so delicious, especially with the sauce. We also get the rare beef pho. A small is a good portion, but we usually get a large each. Because we love their pho that much. The broth is so flavourful and the beef is delicious, too. The bean sprouts and other fixings they give are always fresh. The prices are also great for what you get. We get the large bahn cuõn and two large pho and the bill is under $20.This place has great pho for under $7. My husband always gets the vermicelli and grilled pork and he loves it. Great food, great price point. Two can dine for $20. The only thing is that they have odd hours, so be aware of that.In an area where there's much competition for Vietnamese restaurants, this is by far the best one in East Chinatown. The quality of all their dishes are amazing. They have a small menu but they all deliver. My go to is usually bun bo hue and they do an especially amazing job of banh cuon.   The service is very quick. However, sometimes I feel a little rushed by the servers.  That might be due to the rush hour and small seating that they want a higher turnover, but it still makes me feel bad...they need to smile a little more. Other than that, this place is top notch.   P. S.  - they're cash only, make sure you got dollas on yaFor an east end Viet restaurant, this place really is one of the best in the area. The storefront is very unassuming, and unless you are looking for it specifically, you might just pass it by. I haven't been back in ages, but decided to visit again and try it out.   As with most Pho places, don't judge a book by it's cover. The plastic wind flaps at the front door, dated decor, and small tables should not deter you. Food is pretty fantastic!  The Banh Cuon (steamed rice rolls) is one of their specialties, so we ordered a large plate. Their rolls were filled with pork and mushroom, and the rice roll itself was nice and thin. Comes with the standard cha lua, but the dish itself is easily one of the best in Toronto.   Also ordered The Bun Bo Hue (Spicy Beef Noodle Soup), a northern dish - extra spicy. Their broth is very authentic, using a mixed pork/ beef base. Definitely one of the better dishes in the area as well, although I wish they would give you more herbs instead of just lettuce and bean sprouts.   It's definitely the spot to go if you are looking cheap, authentic Viet food. I will be back to try the bun rieu cua ( crab noodle soup) soon!.This is the most authentic Vietnamese place I've been to.  My parents actually really like going here and my dad regularly eats the blood jello dish, which is literally blood that's thickened into a jello consistency served with peanuts, fish sauce and coriander/cilantro.  I don't touch that stuff though.  I've never been to Vietnam but I'd imagine that they'd have little pho shops like this all over the place.  The owners actually speak Vietnamese and not Chinese. (Actually, they speak really poor Chinese too - I just remembered that).  The pho is just regular, nothing special.  My mom likes that she can order half pho rice noodles and half regular flour noodles and she raves about the chicken broth pho here - again, I think it's just okay.  Maybe she likes it because it kind of tastes like her rendition of these dishes.  They also make the \"banh cuon\" dish, which is a rice flour roll with pork/mushrooms inside and it's not like steamed in a steamer, but are made by having a boiling pot of water and a stretched fabric over-top and cooking the rice flour and water on top of the fabric and then hand rolling it.  My dad buys these for take out and they taste really good even after bringing it home, but I feel gross if I eat the whole box.  If you want a truly authentic Vietnamese place to go to - this is it, but if you're looking for taste, ambiance, decor, cleanliness or some kind of excellent service... you're better off going somewhere else.Super fast and friendly service. They have all the standard Vietnamese restaurant options. One of the best pho restaurants on the east end in my opinion.This is a restaurant in which the floral store (located right next door) has nicer flowers than the interior decor and the random people on the street would more likely give you a smile than the waitresses. My mom once asked the waitress, \"just wondering when we can expect to get our coffee,\" in which the waitress responded with, \"we didn't make it yet because you just ordered it.\" Well, we ordered it 10 mins ago. None of that matters because you came here for the food and that is all you can expect.  Go for: Vietnamese steam rolls (i.e. banh cuon), OK pho, cheapest and best (for the price) Vietnamese food you'll find anywhere  Don't go for: a \"thank you\" or a \"please come again\" or a \"hello\"Best item here is a rice dumpling, but the pho is awful. Lots of MSG left me very thirsty and they were very light on the meat.  This neighborhood is spoiled by Bach Yen (just on Gerrard) but it was closed.  We won't return.Every now and then, you hear about something that makes you want to go just because you're curious about if what you had heard was true and have to see for yourself. This was what brought me to Que Ling: The stories about how there was this place that made some tasty pho, but also offered to do alterations on your clothes. Yep, you heard correctly, it's a pho stop and a tailor shop all in one. And from what I understand, both are pretty damn good.  Now, I'm not doing a review of a place I've never eaten at. I've had the pho here a few times, and it's always been great. But I've never had them hem a pair of pants or bespoke a shirt for me. But I could if I wanted to, and that's more than you could probably say for most pho places or restaurants in general!  The Pho: Not as large of a serving as I'd usually like, but the soup itself is very good. Tasty, clear broth, and noodles that are perfectly cooked to go along with the thinly sliced beef and onions. Overall flavor was great. Aside from the pho itself, my friends and I also ordered some of the pork stuffed flour rolls and they were a cut above. Good portion, sprinkled with French fried onions and Vietnamese sausage, and fairly priced at $8 or so.   This particular place is a bit off of where I usually am, so I don't frequent it, but it's definitely not because it's not worthy. The lady who runs it is also a sweetheart, just in case you're more of a service oriented recommendation.   Worth it. You Should Go!It's a small family run business. Hot, hearty, cheap. A staple food place Highlights : rice roll and vietnamese coffee. Doesn't disappoint.Think I've found my new go-to take out pho place. The Mien Ga here is one of the best I've tried. Really rich and flavourful broth, fresh and springy noodles and a variety of toppings. Excellent price as well!My go-to Viet place! This place is always packed with people especially during weekends which is a good sign ,right?  Although East Chinatown is much much smaller compared to the one in downtown, there are a few restaurants where you can still get a decent meal. And Que Ling is one of them!  I have had pho, this spicy beef rice noodles, duck meat rice noodles, and Banh bao. I really enjoyed their Banh bao which is packed with pork filling and a half of hard-boiled egg. But duck meat rice noodles (sorry I don't know the name of this dish) lacked in flavour.    Overall, very good food, consistent quality, quick and friendly service, and a reasonable price (most items are under $10). I would recommend this place to anyone!I really really wanted to like this place.  I love sketchy holes-in-the-wall that serve authentic grub...but this place....meh....  1. Known for the banh cuon (rice flour rolls with pork and mushroom) this place doesn't deliver the goods.  We saw them grab these from a big tupperware container and throw it into the microwave.  My mom's version destroys these re-heated rolls.  And when I go out to eat, I don't want to eat leftovers, thanks!  2. Bun Bo Hue broth is all wrong -- also likely re-heated since the broth was \"separated\" and \"settled\".  The meat in this dish was chewy (at least the tendon and some other mystery meats).  Pork blood was good though.  3. I thought it would be hard to mess up rice with pork chop and fried egg.  Not at this place!  They do use broken rice (+1), but the rice had a distinct smell of \"not-so-fresh\".  The Chinese have a word for it (\"sook\"?), but I don't know the exact translation to Engrish.  Meat and egg were fairly average.  4. The good?  They have cold tea (actual tea that is cold...not beer!).  This was really nice on a hot day.    I do like the \"family-ness\" of this place -- with their son watching Sponge Bob and working sewing in the dining room.  However, I can't deny that the food simply wasn't good.  Sidenote: they have weird ass hours.  Most nights, I think they're done around 7pm.My husband and I walked at 9:15am this morning, and they welcomed us in even though they're just prepping to be open. We were initially waiting for another brunch place to open, but we wandered in to Que Ling for their Vietnamese steamed rice rolls.   Their rice rolls come in large ($6.25) or small ($5.31). It's really good, and economical. The delicate rice rolls are stuffed with minced meat then steamed to perfect goodness. It's paired with a dipping sauce composed of fish sauce, garlic and chillies. It's our go to dish at Que Ling when we're craving it.  My husband and I loved the fact that they welcomed us instead of turning us away when they're not really open.\n",
      "\n"
     ]
    }
   ],
   "source": [
    "sample_review = get_sample_review(all_test_filepath, 6)\n",
    "print(sample_review)"
   ]
  },
  {
   "cell_type": "code",
   "execution_count": 56,
   "metadata": {
    "collapsed": false
   },
   "outputs": [
    {
     "name": "stdout",
     "output_type": "stream",
     "text": [
      "chinese                   inf\n",
      "vietnamese                inf\n",
      "service                   inf\n",
      "reviews                   inf\n",
      "amazing                   inf\n",
      "good service              inf\n",
      "greek                     inf\n",
      "time                      inf\n",
      "general restaurant        inf\n",
      "money                     inf\n",
      "montreal                  inf\n",
      "coffee shop               inf\n",
      "airport & delivery        inf\n",
      "vas legas                 inf\n",
      "parking                   inf\n",
      "grocery                   inf\n",
      "na drinks                 inf\n",
      "japanese                  inf\n",
      "good taste                inf\n",
      "smell                     inf\n",
      "pubs                      inf\n"
     ]
    },
    {
     "name": "stderr",
     "output_type": "stream",
     "text": [
      "/home/rlrognstad/anaconda3/lib/python3.6/site-packages/gensim/models/phrases.py:486: UserWarning: For a faster implementation, use the gensim.models.phrases.Phraser class\n",
      "  warnings.warn(\"For a faster implementation, use the gensim.models.phrases.Phraser class\")\n",
      "/home/rlrognstad/anaconda3/lib/python3.6/site-packages/ipykernel/__main__.py:39: RuntimeWarning: overflow encountered in multiply\n"
     ]
    }
   ],
   "source": [
    "lda_description(sample_review)"
   ]
  },
  {
   "cell_type": "code",
   "execution_count": 44,
   "metadata": {
    "collapsed": false
   },
   "outputs": [
    {
     "name": "stdout",
     "output_type": "stream",
     "text": [
      "This place is awesome! Definitely authentic!!!  My two favourite dishes are the rice flour rolls and the chicken pho. The rice flour rolls are always fresh whenever I'm there! And the chicken pho is always flavourful!! mmmm....just thinking of it makes me want some!  My boyfriend is Vietnamese and he agrees that this place is authentic and one of the best Vietnamese restaurants he has ever eaten at.  Prices are very reasonable too!i love this joint.  really down to earth people.  the pho and the broth is minimal but good. less is more.  no funny dry mouth feeling because of the the msg.  tons of bean sprouts and the herbal lettuce stuff.  fast service, most of the times.  the prices are very reasonable.  it's a small place but it's big enough.  just go after lunch.  the menu is not that big which is a good thing.I think this is the best sit down meal you can get in the city for $10, all in. The Banh Cuon, soups and noodle bows are tasty and comforting. It's around the corner from our house and my husband and I like to duck in and out for a quick lunch whenever we can.  Service is usually speedy since the restaurant is small and they like to turn over the tables quickly. Take notice if planning to go for dinner: they close at 7pm most days.Best pho ga and  banh cuon in the city. No lie....also  the owners are the sweetest! Just go eat there and you won't regret it. THE HUT FOR LIFE! Riverside!Must Get the rice noodle rolls! I've been to other places, but none of them top these ones!   Reasonable priced, amazing portions, great quality food, and friendly service. Washrooms are also very clean! A bonus since this is located in china town.   Loved the bun! Noodles are nice and soft. Meat is nicely grilled and flavoured.   Pho soup is very flavourful. Didn't like the noodles very much. Found them a bit hard.   Server asks if you want cold or hot tea. The cold tea is actually served cold, not like ones with ice in it! Haven't seen this at any other asian places.   Vietnamese coffee is great! Very potent.   Cash only!   My go to Vietnamese place in Toronto!Located off the Main Street of Gerrard on a side street and in a converted home so it's definitely different. Came here for lunch and we were seated immediately. Staff speak Vietnamese and Cantonese. Fiancé ordered bamboo shoots and duck noodles in soup - she rates it as good, broth is excellent (she drank a lot of it lol) but bamboo sticks don't seem fresh. Not a deal breaker and still worth trying. I ordered pork chop on rice with fried egg - it was different from what I expected, no tomatoes, two pieces of pork chops (instead of the usual 1 piece) rice texture seemed closer to regular rice than broken rice but it was still ok - overall, it was mediocre but I wouldn't truly recommend it. Next time, I'll try the Phoactual rating 3.5  I went here for lunch a second time today.  Last time was better.  This time it took quite a while to get our order.  As always when I have Vietnamese food, I ordered the Bun.  I am not a huge fan of their noodles here; they are a little too thick.  And the meat that comes on the Bun has very little flavour.  The spring roll is decent, but nothing to rave about.  But the people are nice.  And the place itself is kind of cute in a sketchy way.  And it's a very cheap lunch, so it's hard to be too fussy.We got the Que Ling special pho in size large for $6.67. The broth is amazing here. De-li-cious, authentic, tastes homemade.   We also ordered spring rolls, they were ok. Tasty but a little dry for my taste.   The interior is a small cozy shack where you are very close to other patrons. They have a plastic by the door to break the wind and a heater mounted by the doorway. Staff is very friendly in spite of the fact that we didn't speak a word of Cantonese.   Would definitely go back.My fave pho in town, hands down. I grew up in Toronto and all the pho around town all have that fake universal pho-restaurant taste, which is never like homemade pho. The pho here is flavorful and hearty and tastes like the broth was simmered properly with proper ingredients.Ah, I love hole in the wall restaurants. Que Ling is a hidden gem in Riverdale, right by the high school. It's a great place to get authentic and tasty pho on the east side. The broth, noodles & toppings very flavourful and delicious. Don't let the exterior throw you off (it looks like the restaurant is built upon an old backyard shack/hut - it is a cute and cozy family owned restaurant inside. You feel like you're having some home cooking when you're here; which I like. Just as a couple of notes, the Vietnamese coffee is super potent so make sure you can take caffeine well or don't have it after 3pm (or in the evening before you sleep). Also, the place only takes cash so be mindful and bring cash to the restaurant.Ahhh Que Ling! Literally a hole in the wall though and kinda smelly inside, perhaps not for squeamish diners. It would definitely fit the bill for a \"pho\" shack! However they reportedly serve up one of the city's finer phos. I did not find it to be anything special, broth was rather salty, no special notes of flavour detected in the stock however the accompanying herb plate was full of saw, basil and cilantro-bonus points for that. And the beef is kinda \"scrungy\" looking and suffers from massive shrinkage once submerged in the broth but still tastes okay.  Banh Cuon here is good, the rice rolls are filled with ground pork and mushroom and the wrapping is thin and light. Will prolly venture back at some point, the prices are low across the board and there's always a stream of neighborhood regulars coming in and out.Terrible service.  Nothing like getting yelled at because you finished your meal, asked for your drink which never came and then asked for them to remove it from the bill.  ClassyWhat a bargain! You can't get viet food at this price any where else.   We ordered spring rolls, banh Cuong and bun bo hue with a durian milk shake. The bill was $22!!!! I liked the texture of the banh Cuong, it was smooth and soft however I wish there was a bit more filling inside. My husband's bun bo hue was very flavourful and tasty but we noticed there wasn't a lot of meat. I really liked the springs rolls because there was a lot more veggies than meat but to each its own. The durian milkshake was more on the icy side then smoothy side which would have been my preference.   This place is really small and a bit dirty so despite the value, I won't be making a trip just to eat here but if you are in the neighbourhood, it's worth dropping in.I've heard about this place for a long time but never tried it.  Finally decide to swing by to try out their pho.  Ordered house special pho and spring roll.  Spring roll doesn't quite look the part but actually tastes ok.  The wrap is crispy and crunchy and filling tastes quite authentic.  Pho on the other hand left something to be desired.  The broth is clear and fresh alright, but not quite as flavourful as another place nearby.  The portion is fair and I think their pho used combination of chicken and beef.  Bun bo hue is disappointing tho, the broth is too mild, kind of bland, not spicy at all.  It just doesn't taste like traditional bun bo hue I typically had. The place looks like old and beat up but they are actually busy during lunch time.  Table setting seems a bit weird and they did arrange different customers in a long table.  Service is fast so turnover is high when it's packed.  I really want to like this place as I see this is a family oriented place and the boss seems pretty nice.  But the food just doesn't hit my spot.  They are well known for their banh cuon so perhaps I will try banh cuon next time if I ever visit again.This is by far my favourite pho place in all of the Gta. My fiancé and I come here whenever we can. The people who work here are nice and super efficient. They remember us and are happy to greet us when we walk in.   We always get the large bahn cuõn with meat, which are so delicious, especially with the sauce. We also get the rare beef pho. A small is a good portion, but we usually get a large each. Because we love their pho that much. The broth is so flavourful and the beef is delicious, too. The bean sprouts and other fixings they give are always fresh. The prices are also great for what you get. We get the large bahn cuõn and two large pho and the bill is under $20.This place has great pho for under $7. My husband always gets the vermicelli and grilled pork and he loves it. Great food, great price point. Two can dine for $20. The only thing is that they have odd hours, so be aware of that.In an area where there's much competition for Vietnamese restaurants, this is by far the best one in East Chinatown. The quality of all their dishes are amazing. They have a small menu but they all deliver. My go to is usually bun bo hue and they do an especially amazing job of banh cuon.   The service is very quick. However, sometimes I feel a little rushed by the servers.  That might be due to the rush hour and small seating that they want a higher turnover, but it still makes me feel bad...they need to smile a little more. Other than that, this place is top notch.   P. S.  - they're cash only, make sure you got dollas on yaFor an east end Viet restaurant, this place really is one of the best in the area. The storefront is very unassuming, and unless you are looking for it specifically, you might just pass it by. I haven't been back in ages, but decided to visit again and try it out.   As with most Pho places, don't judge a book by it's cover. The plastic wind flaps at the front door, dated decor, and small tables should not deter you. Food is pretty fantastic!  The Banh Cuon (steamed rice rolls) is one of their specialties, so we ordered a large plate. Their rolls were filled with pork and mushroom, and the rice roll itself was nice and thin. Comes with the standard cha lua, but the dish itself is easily one of the best in Toronto.   Also ordered The Bun Bo Hue (Spicy Beef Noodle Soup), a northern dish - extra spicy. Their broth is very authentic, using a mixed pork/ beef base. Definitely one of the better dishes in the area as well, although I wish they would give you more herbs instead of just lettuce and bean sprouts.   It's definitely the spot to go if you are looking cheap, authentic Viet food. I will be back to try the bun rieu cua ( crab noodle soup) soon!.This is the most authentic Vietnamese place I've been to.  My parents actually really like going here and my dad regularly eats the blood jello dish, which is literally blood that's thickened into a jello consistency served with peanuts, fish sauce and coriander/cilantro.  I don't touch that stuff though.  I've never been to Vietnam but I'd imagine that they'd have little pho shops like this all over the place.  The owners actually speak Vietnamese and not Chinese. (Actually, they speak really poor Chinese too - I just remembered that).  The pho is just regular, nothing special.  My mom likes that she can order half pho rice noodles and half regular flour noodles and she raves about the chicken broth pho here - again, I think it's just okay.  Maybe she likes it because it kind of tastes like her rendition of these dishes.  They also make the \"banh cuon\" dish, which is a rice flour roll with pork/mushrooms inside and it's not like steamed in a steamer, but are made by having a boiling pot of water and a stretched fabric over-top and cooking the rice flour and water on top of the fabric and then hand rolling it.  My dad buys these for take out and they taste really good even after bringing it home, but I feel gross if I eat the whole box.  If you want a truly authentic Vietnamese place to go to - this is it, but if you're looking for taste, ambiance, decor, cleanliness or some kind of excellent service... you're better off going somewhere else.Super fast and friendly service. They have all the standard Vietnamese restaurant options. One of the best pho restaurants on the east end in my opinion.This is a restaurant in which the floral store (located right next door) has nicer flowers than the interior decor and the random people on the street would more likely give you a smile than the waitresses. My mom once asked the waitress, \"just wondering when we can expect to get our coffee,\" in which the waitress responded with, \"we didn't make it yet because you just ordered it.\" Well, we ordered it 10 mins ago. None of that matters because you came here for the food and that is all you can expect.  Go for: Vietnamese steam rolls (i.e. banh cuon), OK pho, cheapest and best (for the price) Vietnamese food you'll find anywhere  Don't go for: a \"thank you\" or a \"please come again\" or a \"hello\"Best item here is a rice dumpling, but the pho is awful. Lots of MSG left me very thirsty and they were very light on the meat.  This neighborhood is spoiled by Bach Yen (just on Gerrard) but it was closed.  We won't return.Every now and then, you hear about something that makes you want to go just because you're curious about if what you had heard was true and have to see for yourself. This was what brought me to Que Ling: The stories about how there was this place that made some tasty pho, but also offered to do alterations on your clothes. Yep, you heard correctly, it's a pho stop and a tailor shop all in one. And from what I understand, both are pretty damn good.  Now, I'm not doing a review of a place I've never eaten at. I've had the pho here a few times, and it's always been great. But I've never had them hem a pair of pants or bespoke a shirt for me. But I could if I wanted to, and that's more than you could probably say for most pho places or restaurants in general!  The Pho: Not as large of a serving as I'd usually like, but the soup itself is very good. Tasty, clear broth, and noodles that are perfectly cooked to go along with the thinly sliced beef and onions. Overall flavor was great. Aside from the pho itself, my friends and I also ordered some of the pork stuffed flour rolls and they were a cut above. Good portion, sprinkled with French fried onions and Vietnamese sausage, and fairly priced at $8 or so.   This particular place is a bit off of where I usually am, so I don't frequent it, but it's definitely not because it's not worthy. The lady who runs it is also a sweetheart, just in case you're more of a service oriented recommendation.   Worth it. You Should Go!It's a small family run business. Hot, hearty, cheap. A staple food place Highlights : rice roll and vietnamese coffee. Doesn't disappoint.Think I've found my new go-to take out pho place. The Mien Ga here is one of the best I've tried. Really rich and flavourful broth, fresh and springy noodles and a variety of toppings. Excellent price as well!My go-to Viet place! This place is always packed with people especially during weekends which is a good sign ,right?  Although East Chinatown is much much smaller compared to the one in downtown, there are a few restaurants where you can still get a decent meal. And Que Ling is one of them!  I have had pho, this spicy beef rice noodles, duck meat rice noodles, and Banh bao. I really enjoyed their Banh bao which is packed with pork filling and a half of hard-boiled egg. But duck meat rice noodles (sorry I don't know the name of this dish) lacked in flavour.    Overall, very good food, consistent quality, quick and friendly service, and a reasonable price (most items are under $10). I would recommend this place to anyone!I really really wanted to like this place.  I love sketchy holes-in-the-wall that serve authentic grub...but this place....meh....  1. Known for the banh cuon (rice flour rolls with pork and mushroom) this place doesn't deliver the goods.  We saw them grab these from a big tupperware container and throw it into the microwave.  My mom's version destroys these re-heated rolls.  And when I go out to eat, I don't want to eat leftovers, thanks!  2. Bun Bo Hue broth is all wrong -- also likely re-heated since the broth was \"separated\" and \"settled\".  The meat in this dish was chewy (at least the tendon and some other mystery meats).  Pork blood was good though.  3. I thought it would be hard to mess up rice with pork chop and fried egg.  Not at this place!  They do use broken rice (+1), but the rice had a distinct smell of \"not-so-fresh\".  The Chinese have a word for it (\"sook\"?), but I don't know the exact translation to Engrish.  Meat and egg were fairly average.  4. The good?  They have cold tea (actual tea that is cold...not beer!).  This was really nice on a hot day.    I do like the \"family-ness\" of this place -- with their son watching Sponge Bob and working sewing in the dining room.  However, I can't deny that the food simply wasn't good.  Sidenote: they have weird ass hours.  Most nights, I think they're done around 7pm.My husband and I walked at 9:15am this morning, and they welcomed us in even though they're just prepping to be open. We were initially waiting for another brunch place to open, but we wandered in to Que Ling for their Vietnamese steamed rice rolls.   Their rice rolls come in large ($6.25) or small ($5.31). It's really good, and economical. The delicate rice rolls are stuffed with minced meat then steamed to perfect goodness. It's paired with a dipping sauce composed of fish sauce, garlic and chillies. It's our go to dish at Que Ling when we're craving it.  My husband and I loved the fact that they welcomed us instead of turning us away when they're not really open.\n",
      "\n"
     ]
    }
   ],
   "source": [
    "parsed_review = nlp(sample_review)\n",
    "print(parsed_review)"
   ]
  },
  {
   "cell_type": "code",
   "execution_count": 46,
   "metadata": {
    "collapsed": false
   },
   "outputs": [
    {
     "name": "stdout",
     "output_type": "stream",
     "text": [
      "['this', 'place', 'be', 'awesome', 'definitely', 'authentic', '-PRON-', 'two', 'favourite', 'dish', 'be', 'the', 'rice', 'flour', 'roll', 'and', 'the', 'chicken', 'pho', 'the', 'rice', 'flour', 'roll', 'be', 'always', 'fresh', 'whenever', '-PRON-', 'be', 'there', 'and', 'the', 'chicken', 'pho', 'be', 'always', 'flavourful', 'mmmm', 'just', 'think', 'of', '-PRON-', 'make', '-PRON-', 'want', 'some', '-PRON-', 'boyfriend', 'be', 'vietnamese', 'and', '-PRON-', 'agree', 'that', 'this', 'place', 'be', 'authentic', 'and', 'one', 'of', 'the', 'good', 'vietnamese', 'restaurant', '-PRON-', 'have', 'ever', 'eat', 'at', 'price', 'be', 'very', 'reasonable', 'too!i', 'love', 'this', 'joint', 'really', 'down', 'to', 'earth', 'people', 'the', 'pho', 'and', 'the', 'broth', 'be', 'minimal', 'but', 'good', 'less', 'be', 'more', 'no', 'funny', 'dry', 'mouth', 'feeling', 'because', 'of', 'the', 'the', 'msg', 'ton', 'of', 'bean', 'sprout', 'and', 'the', 'herbal', 'lettuce', 'stuff', 'fast', 'service', 'most', 'of', 'the', 'time', 'the', 'price', 'be', 'very', 'reasonable', '-PRON-', 'be', 'a', 'small', 'place', 'but', '-PRON-', 'be', 'big', 'enough', 'just', 'go', 'after', 'lunch', 'the', 'menu', 'be', 'not', 'that', 'big', 'which', 'be', 'a', 'good', 'thing', '-PRON-', 'think', 'this', 'be', 'the', 'good', 'sit', 'down', 'meal', '-PRON-', 'can', 'get', 'in', 'the', 'city', 'for', '$', '10', 'all', 'in', 'the', 'banh', 'cuon', 'soup', 'and', 'noodle', 'bow', 'be', 'tasty', 'and', 'comforting', '-PRON-', 'be', 'around', 'the', 'corner', 'from', '-PRON-', 'house', 'and', '-PRON-', 'husband', 'and', '-PRON-', 'like', 'to', 'duck', 'in', 'and', 'out', 'for', 'a', 'quick', 'lunch', 'whenever', '-PRON-', 'can', 'service', 'be', 'usually', 'speedy', 'since', 'the', 'restaurant', 'be', 'small', 'and', '-PRON-', 'like', 'to', 'turn', 'over', 'the', 'table', 'quickly', 'take', 'notice', 'if', 'plan', 'to', 'go', 'for', 'dinner', '-PRON-', 'close', 'at', '7', 'p.m.', 'most', 'day', 'good', 'pho', 'ga', 'and', 'banh', 'cuon', 'in', 'the', 'city', 'no', 'lie', 'also', 'the', 'owner', 'be', 'the', 'sweet', 'just', 'go', 'eat', 'there', 'and', '-PRON-', 'will', 'not', 'regret', '-PRON-', 'the', 'hut', 'for', 'life', 'riverside!must', 'get', 'the', 'rice', 'noodle', 'roll', '-PRON-', 'have', 'be', 'to', 'other', 'place', 'but', 'none', 'of', '-PRON-', 'top', 'these', 'one', 'reasonable', 'price', 'amazing', 'portion', 'great', 'quality', 'food', 'and', 'friendly', 'service', 'washroom', 'be', 'also', 'very', 'clean', 'a', 'bonus', 'since', 'this', 'be', 'locate', 'in', 'china', 'town', 'love', 'the', 'bun', 'noodle', 'be', 'nice', 'and', 'soft', 'meat', 'be', 'nicely', 'grill', 'and', 'flavour', 'pho', 'soup', 'be', 'very', 'flavourful', 'do', 'not', 'like', 'the', 'noodle', 'very', 'much', 'find', '-PRON-', 'a', 'bit', 'hard', 'server', 'ask', 'if', '-PRON-', 'want', 'cold', 'or', 'hot', 'tea', 'the', 'cold', 'tea', 'be', 'actually', 'serve', 'cold', 'not', 'like', 'one', 'with', 'ice', 'in', '-PRON-', 'have', 'not', 'see', 'this', 'at', 'any', 'other', 'asian', 'place', 'vietnamese', 'coffee', 'be', 'great', 'very', 'potent', 'cash', 'only', '-PRON-', 'go', 'to', 'vietnamese', 'place', 'in', 'toronto!locat', 'off', 'the', 'main', 'street', 'of', 'gerrard', 'on', 'a', 'side', 'street', 'and', 'in', 'a', 'convert', 'home', 'so', '-PRON-', 'be', 'definitely', 'different', 'come', 'here', 'for', 'lunch', 'and', '-PRON-', 'be', 'seat', 'immediately', 'staff', 'speak', 'vietnamese', 'and', 'cantonese', 'fiancé', 'order', 'bamboo', 'shoot', 'and', 'duck', 'noodle', 'in', 'soup', '-PRON-', 'rat', '-PRON-', 'as', 'good', 'broth', 'be', 'excellent', '-PRON-', 'drink', 'a', 'lot', 'of', '-PRON-', 'lol', 'but', 'bamboo', 'stick', 'do', 'not', 'seem', 'fresh', 'not', 'a', 'deal', 'breaker', 'and', 'still', 'worth', 'try', '-PRON-', 'order', 'pork', 'chop', 'on', 'rice', 'with', 'fry', 'egg', '-PRON-', 'be', 'different', 'from', 'what', '-PRON-', 'expect', 'no', 'tomato', 'two', 'piece', 'of', 'pork', 'chop', 'instead', 'of', 'the', 'usual', '1', 'piece', 'rice', 'texture', 'seem', 'closer', 'to', 'regular', 'rice', 'than', 'broken', 'rice', 'but', '-PRON-', 'be', 'still', 'ok', 'overall', '-PRON-', 'be', 'mediocre', 'but', '-PRON-', 'would', 'not', 'truly', 'recommend', '-PRON-', 'next', 'time', '-PRON-', 'will', 'try', 'the', 'phoactual', 'rating', '3.5', '-PRON-', 'go', 'here', 'for', 'lunch', 'a', 'second', 'time', 'today', 'last', 'time', 'be', 'good', 'this', 'time', '-PRON-', 'take', 'quite', 'a', 'while', 'to', 'get', '-PRON-', 'order', 'as', 'always', 'when', '-PRON-', 'have', 'vietnamese', 'food', '-PRON-', 'order', 'the', 'bun', '-PRON-', 'be', 'not', 'a', 'huge', 'fan', 'of', '-PRON-', 'noodle', 'here', '-PRON-', 'be', 'a', 'little', 'too', 'thick', 'and', 'the', 'meat', 'that', 'come', 'on', 'the', 'bun', 'have', 'very', 'little', 'flavour', 'the', 'spring', 'roll', 'be', 'decent', 'but', 'nothing', 'to', 'rave', 'about', 'but', 'the', 'people', 'be', 'nice', 'and', 'the', 'place', '-PRON-', 'be', 'kind', 'of', 'cute', 'in', 'a', 'sketchy', 'way', 'and', '-PRON-', 'be', 'a', 'very', 'cheap', 'lunch', 'so', '-PRON-', 'be', 'hard', 'to', 'be', 'too', 'fussy', '-PRON-', 'get', 'the', 'que', 'ling', 'special', 'pho', 'in', 'size', 'large', 'for', '$', '6.67', 'the', 'broth', 'be', 'amazing', 'here', 'de', 'li', 'cious', 'authentic', 'taste', 'homemade', '-PRON-', 'also', 'order', 'spring', 'roll', '-PRON-', 'be', 'ok', 'tasty', 'but', 'a', 'little', 'dry', 'for', '-PRON-', 'taste', 'the', 'interior', 'be', 'a', 'small', 'cozy', 'shack', 'where', '-PRON-', 'be', 'very', 'close', 'to', 'other', 'patron', '-PRON-', 'have', 'a', 'plastic', 'by', 'the', 'door', 'to', 'break', 'the', 'wind', 'and', 'a', 'heater', 'mount', 'by', 'the', 'doorway', 'staff', 'be', 'very', 'friendly', 'in', 'spite', 'of', 'the', 'fact', 'that', '-PRON-', 'do', 'not', 'speak', 'a', 'word', 'of', 'cantonese', 'would', 'definitely', 'go', 'back', '-PRON-', 'fave', 'pho', 'in', 'town', 'hand', 'down', '-PRON-', 'grow', 'up', 'in', 'toronto', 'and', 'all', 'the', 'pho', 'around', 'town', 'all', 'have', 'that', 'fake', 'universal', 'pho', 'restaurant', 'taste', 'which', 'be', 'never', 'like', 'homemade', 'pho', 'the', 'pho', 'here', 'be', 'flavorful', 'and', 'hearty', 'and', 'taste', 'like', 'the', 'broth', 'be', 'simmer', 'properly', 'with', 'proper', 'ingredient', 'ah', '-PRON-', 'love', 'hole', 'in', 'the', 'wall', 'restaurant', 'que', 'ling', 'be', 'a', 'hidden', 'gem', 'in', 'riverdale', 'right', 'by', 'the', 'high', 'school', '-PRON-', 'be', 'a', 'great', 'place', 'to', 'get', 'authentic', 'and', 'tasty', 'pho', 'on', 'the', 'east', 'side', 'the', 'broth', 'noodle', 'topping', 'very', 'flavourful', 'and', 'delicious', 'do', 'not', 'let', 'the', 'exterior', 'throw', '-PRON-', 'off', '-PRON-', 'look', 'like', 'the', 'restaurant', 'be', 'build', 'upon', 'an', 'old', 'backyard', 'shack', 'hut', '-PRON-', 'be', 'a', 'cute', 'and', 'cozy', 'family', 'own', 'restaurant', 'inside', '-PRON-', 'feel', 'like', '-PRON-', 'be', 'have', 'some', 'home', 'cooking', 'when', '-PRON-', 'be', 'here', 'which', '-PRON-', 'like', 'just', 'as', 'a', 'couple', 'of', 'note', 'the', 'vietnamese', 'coffee', 'be', 'super', 'potent', 'so', 'make', 'sure', '-PRON-', 'can', 'take', 'caffeine', 'well', 'or', 'do', 'not', 'have', '-PRON-', 'after', '3', 'p.m.', 'or', 'in', 'the', 'evening', 'before', '-PRON-', 'sleep', 'also', 'the', 'place', 'only', 'take', 'cash', 'so', 'be', 'mindful', 'and', 'bring', 'cash', 'to', 'the', 'restaurant', 'ahhh', 'que', 'ling', 'literally', 'a', 'hole', 'in', 'the', 'wall', 'though', 'and', 'kinda', 'smelly', 'inside', 'perhaps', 'not', 'for', 'squeamish', 'diner', '-PRON-', 'would', 'definitely', 'fit', 'the', 'bill', 'for', 'a', 'pho', 'shack', 'however', '-PRON-', 'reportedly', 'serve', 'up', 'one', 'of', 'the', 'city', \"'s\", 'fine', 'phos', '-PRON-', 'do', 'not', 'find', '-PRON-', 'to', 'be', 'anything', 'special', 'broth', 'be', 'rather', 'salty', 'no', 'special', 'note', 'of', 'flavour', 'detect', 'in', 'the', 'stock', 'however', 'the', 'accompanying', 'herb', 'plate', 'be', 'full', 'of', 'saw', 'basil', 'and', 'cilantro', 'bonus', 'point', 'for', 'that', 'and', 'the', 'beef', 'be', 'kinda', 'scrungy', 'look', 'and', 'suffer', 'from', 'massive', 'shrinkage', 'once', 'submerge', 'in', 'the', 'broth', 'but', 'still', 'taste', 'okay', 'banh', 'cuon', 'here', 'be', 'good', 'the', 'rice', 'roll', 'be', 'fill', 'with', 'ground', 'pork', 'and', 'mushroom', 'and', 'the', 'wrapping', 'be', 'thin', 'and', 'light', 'will', 'prolly', 'venture', 'back', 'at', 'some', 'point', 'the', 'price', 'be', 'low', 'across', 'the', 'board', 'and', 'there', 'be', 'always', 'a', 'stream', 'of', 'neighborhood', 'regular', 'come', 'in', 'and', 'out', 'terrible', 'service', 'nothing', 'like', 'get', 'yell', 'at', 'because', '-PRON-', 'finish', '-PRON-', 'meal', 'ask', 'for', '-PRON-', 'drink', 'which', 'never', 'come', 'and', 'then', 'ask', 'for', '-PRON-', 'to', 'remove', '-PRON-', 'from', 'the', 'bill', 'classywhat', 'a', 'bargain', '-PRON-', 'can', 'not', 'get', 'viet', 'food', 'at', 'this', 'price', 'any', 'where', 'else', '-PRON-', 'order', 'spring', 'roll', 'banh', 'cuong', 'and', 'bun', 'bo', 'hue', 'with', 'a', 'durian', 'milk', 'shake', 'the', 'bill', 'be', '$', '22', '-PRON-', 'like', 'the', 'texture', 'of', 'the', 'banh', 'cuong', '-PRON-', 'be', 'smooth', 'and', 'soft', 'however', '-PRON-', 'wish', 'there', 'be', 'a', 'bit', 'more', 'filling', 'inside', '-PRON-', 'husband', \"'s\", 'bun', 'bo', 'hue', 'be', 'very', 'flavourful', 'and', 'tasty', 'but', '-PRON-', 'notice', 'there', 'be', 'not', 'a', 'lot', 'of', 'meat', '-PRON-', 'really', 'like', 'the', 'spring', 'roll', 'because', 'there', 'be', 'a', 'lot', 'more', 'veggie', 'than', 'meat', 'but', 'to', 'each', '-PRON-', 'own', 'the', 'durian', 'milkshake', 'be', 'more', 'on', 'the', 'icy', 'side', 'then', 'smoothy', 'side', 'which', 'would', 'have', 'be', '-PRON-', 'preference', 'this', 'place', 'be', 'really', 'small', 'and', 'a', 'bit', 'dirty', 'so', 'despite', 'the', 'value', '-PRON-', 'will', 'not', 'be', 'make', 'a', 'trip', 'just', 'to', 'eat', 'here', 'but', 'if', '-PRON-', 'be', 'in', 'the', 'neighbourhood', '-PRON-', 'be', 'worth', 'drop', 'in', \"i've\", 'hear', 'about', 'this', 'place', 'for', 'a', 'long', 'time', 'but', 'never', 'try', '-PRON-', 'finally', 'decide', 'to', 'swing', 'by', 'to', 'try', 'out', '-PRON-', 'pho', 'order', 'house', 'special', 'pho', 'and', 'spring', 'roll', 'spring', 'roll', 'do', 'not', 'quite', 'look', 'the', 'part', 'but', 'actually', 'taste', 'ok', 'the', 'wrap', 'be', 'crispy', 'and', 'crunchy', 'and', 'fill', 'taste', 'quite', 'authentic', 'pho', 'on', 'the', 'other', 'hand', 'leave', 'something', 'to', 'be', 'desire', 'the', 'broth', 'be', 'clear', 'and', 'fresh', 'alright', 'but', 'not', 'quite', 'as', 'flavourful', 'as', 'another', 'place', 'nearby', 'the', 'portion', 'be', 'fair', 'and', '-PRON-', 'think', '-PRON-', 'pho', 'use', 'combination', 'of', 'chicken', 'and', 'beef', 'bun', 'bo', 'hue', 'be', 'disappointing', 'tho', 'the', 'broth', 'be', 'too', 'mild', 'kind', 'of', 'bland', 'not', 'spicy', 'at', 'all', '-PRON-', 'just', 'do', 'not', 'taste', 'like', 'traditional', 'bun', 'bo', 'hue', '-PRON-', 'typically', 'have', 'the', 'place', 'look', 'like', 'old', 'and', 'beat', 'up', 'but', '-PRON-', 'be', 'actually', 'busy', 'during', 'lunch', 'time', 'table', 'setting', 'seem', 'a', 'bit', 'weird', 'and', '-PRON-', 'do', 'arrange', 'different', 'customer', 'in', 'a', 'long', 'table', 'service', 'be', 'fast', 'so', 'turnover', 'be', 'high', 'when', '-PRON-', 'be', 'pack', '-PRON-', 'really', 'want', 'to', 'like', 'this', 'place', 'as', '-PRON-', 'see', 'this', 'be', 'a', 'family', 'orient', 'place', 'and', 'the', 'boss', 'seem', 'pretty', 'nice', 'but', 'the', 'food', 'just', 'do', 'not', 'hit', '-PRON-', 'spot', '-PRON-', 'be', 'well', 'know', 'for', '-PRON-', 'banh', 'cuon', 'so', 'perhaps', '-PRON-', 'will', 'try', 'banh', 'cuon', 'next', 'time', 'if', '-PRON-', 'ever', 'visit', 'again', 'this', 'be', 'by', 'far', '-PRON-', 'favourite', 'pho', 'place', 'in', 'all', 'of', 'the', 'gta', '-PRON-', 'fiancé', 'and', '-PRON-', 'come', 'here', 'whenever', '-PRON-', 'can', 'the', 'people', 'who', 'work', 'here', 'be', 'nice', 'and', 'super', 'efficient', '-PRON-', 'remember', '-PRON-', 'and', 'be', 'happy', 'to', 'greet', '-PRON-', 'when', '-PRON-', 'walk', 'in', '-PRON-', 'always', 'get', 'the', 'large', 'bahn', 'cuõn', 'with', 'meat', 'which', 'be', 'so', 'delicious', 'especially', 'with', 'the', 'sauce', '-PRON-', 'also', 'get', 'the', 'rare', 'beef', 'pho', 'a', 'small', 'be', 'a', 'good', 'portion', 'but', '-PRON-', 'usually', 'get', 'a', 'large', 'each', 'because', '-PRON-', 'love', '-PRON-', 'pho', 'that', 'much', 'the', 'broth', 'be', 'so', 'flavourful', 'and', 'the', 'beef', 'be', 'delicious', 'too', 'the', 'bean', 'sprout', 'and', 'other', 'fixing', '-PRON-', 'give', 'be', 'always', 'fresh', 'the', 'price', 'be', 'also', 'great', 'for', 'what', '-PRON-', 'get', '-PRON-', 'get', 'the', 'large', 'bahn', 'cuõn', 'and', 'two', 'large', 'pho', 'and', 'the', 'bill', 'be', 'under', '$', '20.this', 'place', 'have', 'great', 'pho', 'for', 'under', '$', '7', '-PRON-', 'husband', 'always', 'get', 'the', 'vermicelli', 'and', 'grill', 'pork', 'and', '-PRON-', 'love', '-PRON-', 'great', 'food', 'great', 'price', 'point', 'two', 'can', 'dine', 'for', '$', '20', 'the', 'only', 'thing', 'be', 'that', '-PRON-', 'have', 'odd', 'hour', 'so', 'be', 'aware', 'of', 'that', 'in', 'an', 'area', 'where', 'there', 'be', 'much', 'competition', 'for', 'vietnamese', 'restaurant', 'this', 'be', 'by', 'far', 'the', 'good', 'one', 'in', 'east', 'chinatown', 'the', 'quality', 'of', 'all', '-PRON-', 'dish', 'be', 'amazing', '-PRON-', 'have', 'a', 'small', 'menu', 'but', '-PRON-', 'all', 'deliver', '-PRON-', 'go', 'to', 'be', 'usually', 'bun', 'bo', 'hue', 'and', '-PRON-', 'do', 'an', 'especially', 'amazing', 'job', 'of', 'banh', 'cuon', 'the', 'service', 'be', 'very', 'quick', 'however', 'sometimes', '-PRON-', 'feel', 'a', 'little', 'rush', 'by', 'the', 'server', 'that', 'may', 'be', 'due', 'to', 'the', 'rush', 'hour', 'and', 'small', 'seating', 'that', '-PRON-', 'want', 'a', 'high', 'turnover', 'but', '-PRON-', 'still', 'make', '-PRON-', 'feel', 'bad', '-PRON-', 'need', 'to', 'smile', 'a', 'little', 'more', 'other', 'than', 'that', 'this', 'place', 'be', 'top', 'notch', 'p.', 's.', '-PRON-', 'be', 'cash', 'only', 'make', 'sure', '-PRON-', 'get', 'dolla', 'on', 'yafor', 'an', 'east', 'end', 'viet', 'restaurant', 'this', 'place', 'really', 'be', 'one', 'of', 'the', 'good', 'in', 'the', 'area', 'the', 'storefront', 'be', 'very', 'unassuming', 'and', 'unless', '-PRON-', 'be', 'look', 'for', '-PRON-', 'specifically', '-PRON-', 'may', 'just', 'pass', '-PRON-', 'by', '-PRON-', 'have', 'not', 'be', 'back', 'in', 'age', 'but', 'decide', 'to', 'visit', 'again', 'and', 'try', '-PRON-', 'out', 'as', 'with', 'most', 'pho', 'place', 'do', 'not', 'judge', 'a', 'book', 'by', '-PRON-', 'be', 'cover', 'the', 'plastic', 'wind', 'flap', 'at', 'the', 'front', 'door', 'date', 'decor', 'and', 'small', 'table', 'should', 'not', 'deter', '-PRON-', 'food', 'be', 'pretty', 'fantastic', 'the', 'banh', 'cuon', 'steam', 'rice', 'roll', 'be', 'one', 'of', '-PRON-', 'specialty', 'so', '-PRON-', 'order', 'a', 'large', 'plate', '-PRON-', 'roll', 'be', 'fill', 'with', 'pork', 'and', 'mushroom', 'and', 'the', 'rice', 'roll', '-PRON-', 'be', 'nice', 'and', 'thin', 'come', 'with', 'the', 'standard', 'cha', 'lua', 'but', 'the', 'dish', '-PRON-', 'be', 'easily', 'one', 'of', 'the', 'good', 'in', 'toronto', 'also', 'order', 'the', 'bun', 'bo', 'hue', 'spicy', 'beef', 'noodle', 'soup', 'a', 'northern', 'dish', 'extra', 'spicy', '-PRON-', 'broth', 'be', 'very', 'authentic', 'use', 'a', 'mixed', 'pork/', 'beef', 'base', 'definitely', 'one', 'of', 'the', 'good', 'dish', 'in', 'the', 'area', 'as', 'well', 'although', '-PRON-', 'wish', '-PRON-', 'would', 'give', '-PRON-', 'more', 'herb', 'instead', 'of', 'just', 'lettuce', 'and', 'bean', 'sprout', '-PRON-', 'be', 'definitely', 'the', 'spot', 'to', 'go', 'if', '-PRON-', 'be', 'look', 'cheap', 'authentic', 'viet', 'food', '-PRON-', 'will', 'be', 'back', 'to', 'try', 'the', 'bun', 'rieu', 'cua', 'crab', 'noodle', 'soup', 'soon!.this', 'be', 'the', 'most', 'authentic', 'vietnamese', 'place', '-PRON-', 'have', 'be', 'to', '-PRON-', 'parent', 'actually', 'really', 'like', 'go', 'here', 'and', '-PRON-', 'dad', 'regularly', 'eat', 'the', 'blood', 'jello', 'dish', 'which', 'be', 'literally', 'blood', 'that', 'be', 'thicken', 'into', 'a', 'jello', 'consistency', 'serve', 'with', 'peanut', 'fish', 'sauce', 'and', 'coriander', 'cilantro', '-PRON-', 'do', 'not', 'touch', 'that', 'stuff', 'though', '-PRON-', 'have', 'never', 'be', 'to', 'vietnam', 'but', '-PRON-', 'would', 'imagine', 'that', '-PRON-', 'would', 'have', 'little', 'pho', 'shop', 'like', 'this', 'all', 'over', 'the', 'place', 'the', 'owner', 'actually', 'speak', 'vietnamese', 'and', 'not', 'chinese', 'actually', '-PRON-', 'speak', 'really', 'poor', 'chinese', 'too', '-PRON-', 'just', 'remember', 'that', 'the', 'pho', 'be', 'just', 'regular', 'nothing', 'special', '-PRON-', 'mom', 'like', 'that', '-PRON-', 'can', 'order', 'half', 'pho', 'rice', 'noodle', 'and', 'half', 'regular', 'flour', 'noodle', 'and', '-PRON-', 'rave', 'about', 'the', 'chicken', 'broth', 'pho', 'here', 'again', '-PRON-', 'think', '-PRON-', 'be', 'just', 'okay', 'maybe', '-PRON-', 'like', '-PRON-', 'because', '-PRON-', 'kind', 'of', 'taste', 'like', '-PRON-', 'rendition', 'of', 'these', 'dish', '-PRON-', 'also', 'make', 'the', 'banh', 'cuon', 'dish', 'which', 'be', 'a', 'rice', 'flour', 'roll', 'with', 'pork', 'mushroom', 'inside', 'and', '-PRON-', 'be', 'not', 'like', 'steam', 'in', 'a', 'steamer', 'but', 'be', 'make', 'by', 'have', 'a', 'boiling', 'pot', 'of', 'water', 'and', 'a', 'stretched', 'fabric', 'over', 'top', 'and', 'cook', 'the', 'rice', 'flour', 'and', 'water', 'on', 'top', 'of', 'the', 'fabric', 'and', 'then', 'hand', 'roll', '-PRON-', '-PRON-', 'dad', 'buy', 'these', 'for', 'take', 'out', 'and', '-PRON-', 'taste', 'really', 'good', 'even', 'after', 'bring', '-PRON-', 'home', 'but', '-PRON-', 'feel', 'gross', 'if', '-PRON-', 'eat', 'the', 'whole', 'box', 'if', '-PRON-', 'want', 'a', 'truly', 'authentic', 'vietnamese', 'place', 'to', 'go', 'to', 'this', 'be', '-PRON-', 'but', 'if', '-PRON-', 'be', 'look', 'for', 'taste', 'ambiance', 'decor', 'cleanliness', 'or', 'some', 'kind', 'of', 'excellent', 'service', '-PRON-', 'be', 'good', 'off', 'go', 'somewhere', 'else', 'super', 'fast', 'and', 'friendly', 'service', '-PRON-', 'have', 'all', 'the', 'standard', 'vietnamese', 'restaurant', 'option', 'one', 'of', 'the', 'good', 'pho', 'restaurant', 'on', 'the', 'east', 'end', 'in', '-PRON-', 'opinion', 'this', 'be', 'a', 'restaurant', 'in', 'which', 'the', 'floral', 'store', 'locate', 'right', 'next', 'door', 'have', 'nice', 'flower', 'than', 'the', 'interior', 'decor', 'and', 'the', 'random', 'people', 'on', 'the', 'street', 'would', 'more', 'likely', 'give', '-PRON-', 'a', 'smile', 'than', 'the', 'waitress', '-PRON-', 'mom', 'once', 'ask', 'the', 'waitress', 'just', 'wonder', 'when', '-PRON-', 'can', 'expect', 'to', 'get', '-PRON-', 'coffee', 'in', 'which', 'the', 'waitress', 'respond', 'with', '-PRON-', 'do', 'not', 'make', '-PRON-', 'yet', 'because', '-PRON-', 'just', 'order', '-PRON-', 'well', '-PRON-', 'order', '-PRON-', '10', 'min', 'ago', 'none', 'of', 'that', 'matter', 'because', '-PRON-', 'come', 'here', 'for', 'the', 'food', 'and', 'that', 'be', 'all', '-PRON-', 'can', 'expect', 'go', 'for', 'vietnamese', 'steam', 'roll', 'i.e.', 'banh', 'cuon', 'ok', 'pho', 'cheap', 'and', 'good', 'for', 'the', 'price', 'vietnamese', 'food', '-PRON-', 'will', 'find', 'anywhere', 'do', 'not', 'go', 'for', 'a', 'thank', '-PRON-', 'or', 'a', 'please', 'come', 'again', 'or', 'a', 'hello\"b', 'item', 'here', 'be', 'a', 'rice', 'dumpling', 'but', 'the', 'pho', 'be', 'awful', 'lot', 'of', 'msg', 'leave', '-PRON-', 'very', 'thirsty', 'and', '-PRON-', 'be', 'very', 'light', 'on', 'the', 'meat', 'this', 'neighborhood', 'be', 'spoil', 'by', 'bach', 'yen', 'just', 'on', 'gerrard', 'but', '-PRON-', 'be', 'close', '-PRON-', 'will', 'not', 'return', 'every', 'now', 'and', 'then', '-PRON-', 'hear', 'about', 'something', 'that', 'make', '-PRON-', 'want', 'to', 'go', 'just', 'because', '-PRON-', 'be', 'curious', 'about', 'if', 'what', '-PRON-', 'have', 'hear', 'be', 'true', 'and', 'have', 'to', 'see', 'for', '-PRON-', 'this', 'be', 'what', 'bring', '-PRON-', 'to', 'que', 'ling', 'the', 'story', 'about', 'how', 'there', 'be', 'this', 'place', 'that', 'make', 'some', 'tasty', 'pho', 'but', 'also', 'offer', 'to', 'do', 'alteration', 'on', '-PRON-', 'clothe', 'yep', '-PRON-', 'hear', 'correctly', '-PRON-', 'be', 'a', 'pho', 'stop', 'and', 'a', 'tailor', 'shop', 'all', 'in', 'one', 'and', 'from', 'what', '-PRON-', 'understand', 'both', 'be', 'pretty', 'damn', 'good', 'now', '-PRON-', 'be', 'not', 'do', 'a', 'review', 'of', 'a', 'place', '-PRON-', 'have', 'never', 'eat', 'at', '-PRON-', 'have', 'have', 'the', 'pho', 'here', 'a', 'few', 'time', 'and', '-PRON-', 'be', 'always', 'be', 'great', 'but', '-PRON-', 'have', 'never', 'have', '-PRON-', 'hem', 'a', 'pair', 'of', 'pant', 'or', 'bespoke', 'a', 'shirt', 'for', '-PRON-', 'but', '-PRON-', 'could', 'if', '-PRON-', 'want', 'to', 'and', 'that', 'be', 'more', 'than', '-PRON-', 'could', 'probably', 'say', 'for', 'most', 'pho', 'place', 'or', 'restaurant', 'in', 'general', 'the', 'pho', 'not', 'as', 'large', 'of', 'a', 'serving', 'as', '-PRON-', 'would', 'usually', 'like', 'but', 'the', 'soup', '-PRON-', 'be', 'very', 'good', 'tasty', 'clear', 'broth', 'and', 'noodle', 'that', 'be', 'perfectly', 'cook', 'to', 'go', 'along', 'with', 'the', 'thinly', 'sliced', 'beef', 'and', 'onion', 'overall', 'flavor', 'be', 'great', 'aside', 'from', 'the', 'pho', '-PRON-', '-PRON-', 'friend', 'and', '-PRON-', 'also', 'order', 'some', 'of', 'the', 'pork', 'stuff', 'flour', 'roll', 'and', '-PRON-', 'be', 'a', 'cut', 'above', 'good', 'portion', 'sprinkle', 'with', 'french', 'fry', 'onion', 'and', 'vietnamese', 'sausage', 'and', 'fairly', 'price', 'at', '$', '8', 'or', 'so', 'this', 'particular', 'place', 'be', 'a', 'bit', 'off', 'of', 'where', '-PRON-', 'usually', 'be', 'so', '-PRON-', 'do', 'not', 'frequent', '-PRON-', 'but', '-PRON-', 'be', 'definitely', 'not', 'because', '-PRON-', 'be', 'not', 'worthy', 'the', 'lady', 'who', 'run', '-PRON-', 'be', 'also', 'a', 'sweetheart', 'just', 'in', 'case', '-PRON-', 'be', 'more', 'of', 'a', 'service', 'orient', 'recommendation', 'worth', '-PRON-', '-PRON-', 'should', 'go!it', 'be', 'a', 'small', 'family', 'run', 'business', 'hot', 'hearty', 'cheap', 'a', 'staple', 'food', 'place', 'highlights', 'rice', 'roll', 'and', 'vietnamese', 'coffee', 'do', 'not', 'disappoint', 'think', '-PRON-', 'have', 'find', '-PRON-', 'new', 'go', 'to', 'take', 'out', 'pho', 'place', 'the', 'mien', 'ga', 'here', 'be', 'one', 'of', 'the', 'good', '-PRON-', 'have', 'try', 'really', 'rich', 'and', 'flavourful', 'broth', 'fresh', 'and', 'springy', 'noodle', 'and', 'a', 'variety', 'of', 'topping', 'excellent', 'price', 'as', 'well!my', 'go', 'to', 'viet', 'place', 'this', 'place', 'be', 'always', 'pack', 'with', 'people', 'especially', 'during', 'weekend', 'which', 'be', 'a', 'good', 'sign', 'right', 'although', 'east', 'chinatown', 'be', 'much', 'much', 'small', 'compare', 'to', 'the', 'one', 'in', 'downtown', 'there', 'be', 'a', 'few', 'restaurant', 'where', '-PRON-', 'can', 'still', 'get', 'a', 'decent', 'meal', 'and', 'que', 'ling', 'be', 'one', 'of', '-PRON-', '-PRON-', 'have', 'have', 'pho', 'this', 'spicy', 'beef', 'rice', 'noodle', 'duck', 'meat', 'rice', 'noodle', 'and', 'banh', 'bao', '-PRON-', 'really', 'enjoy', '-PRON-', 'banh', 'bao', 'which', 'be', 'pack', 'with', 'pork', 'filling', 'and', 'a', 'half', 'of', 'hard', 'boil', 'egg', 'but', 'duck', 'meat', 'rice', 'noodle', 'sorry', '-PRON-', 'do', 'not', 'know', 'the', 'name', 'of', 'this', 'dish', 'lack', 'in', 'flavour', 'overall', 'very', 'good', 'food', 'consistent', 'quality', 'quick', 'and', 'friendly', 'service', 'and', 'a', 'reasonable', 'price', 'most', 'item', 'be', 'under', '$', '10', '-PRON-', 'would', 'recommend', 'this', 'place', 'to', 'anyone!i', 'really', 'really', 'want', 'to', 'like', 'this', 'place', '-PRON-', 'love', 'sketchy', 'hole', 'in', 'the', 'wall', 'that', 'serve', 'authentic', 'grub', 'but', 'this', 'place', 'meh', '1', 'know', 'for', 'the', 'banh', 'cuon', 'rice', 'flour', 'roll', 'with', 'pork', 'and', 'mushroom', 'this', 'place', 'do', 'not', 'deliver', 'the', 'good', '-PRON-', 'see', '-PRON-', 'grab', 'these', 'from', 'a', 'big', 'tupperware', 'container', 'and', 'throw', '-PRON-', 'into', 'the', 'microwave', '-PRON-', 'mom', \"'s\", 'version', 'destroy', 'these', 're', 'heated', 'roll', 'and', 'when', '-PRON-', 'go', 'out', 'to', 'eat', '-PRON-', 'do', 'not', 'want', 'to', 'eat', 'leftover', 'thank', '2', 'bun', 'bo', 'hue', 'broth', 'be', 'all', 'wrong', 'also', 'likely', 're', 'heated', 'since', 'the', 'broth', 'be', 'separate', 'and', 'settle', 'the', 'meat', 'in', 'this', 'dish', 'be', 'chewy', 'at', 'least', 'the', 'tendon', 'and', 'some', 'other', 'mystery', 'meat', 'pork', 'blood', 'be', 'good', 'though', '3', '-PRON-', 'think', '-PRON-', 'would', 'be', 'hard', 'to', 'mess', 'up', 'rice', 'with', 'pork', 'chop', 'and', 'fry', 'egg', 'not', 'at', 'this', 'place', '-PRON-', 'do', 'use', 'broken', 'rice', '+', '1', 'but', 'the', 'rice', 'have', 'a', 'distinct', 'smell', 'of', 'not', 'so', 'fresh', 'the', 'chinese', 'have', 'a', 'word', 'for', '-PRON-', 'sook', 'but', '-PRON-', 'do', 'not', 'know', 'the', 'exact', 'translation', 'to', 'engrish', 'meat', 'and', 'egg', 'be', 'fairly', 'average', '4', 'the', 'good', '-PRON-', 'have', 'cold', 'tea', 'actual', 'tea', 'that', 'be', 'cold', 'not', 'beer', 'this', 'be', 'really', 'nice', 'on', 'a', 'hot', 'day', '-PRON-', 'do', 'like', 'the', 'family', 'ness', 'of', 'this', 'place', 'with', '-PRON-', 'son', 'watch', 'sponge', 'bob', 'and', 'work', 'sewing', 'in', 'the', 'dining', 'room', 'however', '-PRON-', 'can', 'not', 'deny', 'that', 'the', 'food', 'simply', 'be', 'not', 'good', 'sidenote', '-PRON-', 'have', 'weird', 'ass', 'hour', 'most', 'night', '-PRON-', 'think', '-PRON-', 'be', 'do', 'around', '7pm', '-PRON-', 'husband', 'and', '-PRON-', 'walk', 'at', '9:15am', 'this', 'morning', 'and', '-PRON-', 'welcome', '-PRON-', 'in', 'even', 'though', '-PRON-', 'be', 'just', 'prepp', 'to', 'be', 'open', '-PRON-', 'be', 'initially', 'wait', 'for', 'another', 'brunch', 'place', 'to', 'open', 'but', '-PRON-', 'wander', 'in', 'to', 'que', 'ling', 'for', '-PRON-', 'vietnamese', 'steamed', 'rice', 'roll', '-PRON-', 'rice', 'roll', 'come', 'in', 'large', '$', '6.25', 'or', 'small', '$', '5.31', '-PRON-', 'be', 'really', 'good', 'and', 'economical', 'the', 'delicate', 'rice', 'roll', 'be', 'stuff', 'with', 'mince', 'meat', 'then', 'steam', 'to', 'perfect', 'goodness', '-PRON-', 'be', 'pair', 'with', 'a', 'dipping', 'sauce', 'compose', 'of', 'fish', 'sauce', 'garlic', 'and', 'chilli', '-PRON-', 'be', '-PRON-', 'go', 'to', 'dish', 'at', 'que', 'ling', 'when', '-PRON-', 'be', 'crave', '-PRON-', '-PRON-', 'husband', 'and', '-PRON-', 'love', 'the', 'fact', 'that', '-PRON-', 'welcome', '-PRON-', 'instead', 'of', 'turn', '-PRON-', 'away', 'when', '-PRON-', 'be', 'not', 'really', 'open']\n"
     ]
    }
   ],
   "source": [
    "unigram_review = [token.lemma_ for token in parsed_review\n",
    "        if not punct_space(token)]\n",
    "print(unigram_review)"
   ]
  },
  {
   "cell_type": "code",
   "execution_count": 47,
   "metadata": {
    "collapsed": false
   },
   "outputs": [
    {
     "name": "stdout",
     "output_type": "stream",
     "text": [
      "['this', 'place', 'be', 'awesome', 'definitely', 'authentic', '-PRON-', 'two', 'favourite', 'dish', 'be', 'the', 'rice', 'flour', 'roll', 'and', 'the', 'chicken', 'pho', 'the', 'rice', 'flour', 'roll', 'be', 'always', 'fresh', 'whenever', '-PRON-', 'be', 'there', 'and', 'the', 'chicken', 'pho', 'be', 'always', 'flavourful', 'mmmm', 'just', 'think', 'of', '-PRON-', 'make', '-PRON-', 'want', 'some', '-PRON-', 'boyfriend', 'be', 'vietnamese', 'and', '-PRON-', 'agree', 'that', 'this', 'place', 'be', 'authentic', 'and', 'one', 'of', 'the', 'good', 'vietnamese', 'restaurant', '-PRON-', 'have', 'ever', 'eat', 'at', 'price', 'be', 'very', 'reasonable', 'too!i', 'love', 'this', 'joint', 'really', 'down', 'to', 'earth', 'people', 'the', 'pho', 'and', 'the', 'broth', 'be', 'minimal', 'but', 'good', 'less', 'be', 'more', 'no', 'funny', 'dry', 'mouth', 'feeling', 'because', 'of', 'the', 'the', 'msg', 'ton', 'of', 'bean_sprout', 'and', 'the', 'herbal', 'lettuce', 'stuff', 'fast', 'service', 'most', 'of', 'the', 'time', 'the', 'price', 'be', 'very', 'reasonable', '-PRON-', 'be', 'a', 'small', 'place', 'but', '-PRON-', 'be', 'big', 'enough', 'just', 'go', 'after', 'lunch', 'the', 'menu', 'be', 'not', 'that', 'big', 'which', 'be', 'a', 'good', 'thing', '-PRON-', 'think', 'this', 'be', 'the', 'good', 'sit', 'down', 'meal', '-PRON-', 'can', 'get', 'in', 'the', 'city', 'for', '$', '10', 'all', 'in', 'the', 'banh_cuon', 'soup', 'and', 'noodle', 'bow', 'be', 'tasty', 'and', 'comforting', '-PRON-', 'be', 'around', 'the', 'corner', 'from', '-PRON-', 'house', 'and', '-PRON-', 'husband', 'and', '-PRON-', 'like', 'to', 'duck', 'in', 'and', 'out', 'for', 'a', 'quick', 'lunch', 'whenever', '-PRON-', 'can', 'service', 'be', 'usually', 'speedy', 'since', 'the', 'restaurant', 'be', 'small', 'and', '-PRON-', 'like', 'to', 'turn', 'over', 'the', 'table', 'quickly', 'take', 'notice', 'if', 'plan', 'to', 'go', 'for', 'dinner', '-PRON-', 'close', 'at', '7_p.m.', 'most', 'day', 'good', 'pho_ga', 'and', 'banh_cuon', 'in', 'the', 'city', 'no', 'lie', 'also', 'the', 'owner', 'be', 'the', 'sweet', 'just', 'go', 'eat', 'there', 'and', '-PRON-', 'will', 'not', 'regret', '-PRON-', 'the', 'hut', 'for', 'life', 'riverside!must', 'get', 'the', 'rice', 'noodle', 'roll', '-PRON-', 'have', 'be', 'to', 'other', 'place', 'but', 'none', 'of', '-PRON-', 'top', 'these', 'one', 'reasonable', 'price', 'amazing', 'portion', 'great', 'quality', 'food', 'and', 'friendly', 'service', 'washroom', 'be', 'also', 'very', 'clean', 'a', 'bonus', 'since', 'this', 'be', 'locate', 'in', 'china_town', 'love', 'the', 'bun', 'noodle', 'be', 'nice', 'and', 'soft', 'meat', 'be', 'nicely', 'grill', 'and', 'flavour', 'pho', 'soup', 'be', 'very', 'flavourful', 'do', 'not', 'like', 'the', 'noodle', 'very', 'much', 'find', '-PRON-', 'a', 'bit', 'hard', 'server', 'ask', 'if', '-PRON-', 'want', 'cold', 'or', 'hot', 'tea', 'the', 'cold', 'tea', 'be', 'actually', 'serve', 'cold', 'not', 'like', 'one', 'with', 'ice', 'in', '-PRON-', 'have', 'not', 'see', 'this', 'at', 'any', 'other', 'asian', 'place', 'vietnamese', 'coffee', 'be', 'great', 'very', 'potent', 'cash', 'only', '-PRON-', 'go', 'to', 'vietnamese', 'place', 'in', 'toronto!locat', 'off', 'the', 'main', 'street', 'of', 'gerrard', 'on', 'a', 'side', 'street', 'and', 'in', 'a', 'convert', 'home', 'so', '-PRON-', 'be', 'definitely', 'different', 'come', 'here', 'for', 'lunch', 'and', '-PRON-', 'be', 'seat_immediately', 'staff', 'speak', 'vietnamese', 'and', 'cantonese', 'fiancé', 'order', 'bamboo_shoot', 'and', 'duck', 'noodle', 'in', 'soup', '-PRON-', 'rat', '-PRON-', 'as', 'good', 'broth', 'be', 'excellent', '-PRON-', 'drink', 'a', 'lot', 'of', '-PRON-', 'lol', 'but', 'bamboo', 'stick', 'do', 'not', 'seem', 'fresh', 'not', 'a', 'deal_breaker', 'and', 'still', 'worth', 'try', '-PRON-', 'order', 'pork_chop', 'on', 'rice', 'with', 'fry', 'egg', '-PRON-', 'be', 'different', 'from', 'what', '-PRON-', 'expect', 'no', 'tomato', 'two', 'piece', 'of', 'pork_chop', 'instead', 'of', 'the', 'usual', '1', 'piece', 'rice', 'texture', 'seem', 'closer', 'to', 'regular', 'rice', 'than', 'broken_rice', 'but', '-PRON-', 'be', 'still', 'ok', 'overall', '-PRON-', 'be', 'mediocre', 'but', '-PRON-', 'would', 'not', 'truly', 'recommend', '-PRON-', 'next', 'time', '-PRON-', 'will', 'try', 'the', 'phoactual', 'rating', '3.5', '-PRON-', 'go', 'here', 'for', 'lunch', 'a', 'second', 'time', 'today', 'last', 'time', 'be', 'good', 'this', 'time', '-PRON-', 'take', 'quite', 'a', 'while', 'to', 'get', '-PRON-', 'order', 'as', 'always', 'when', '-PRON-', 'have', 'vietnamese', 'food', '-PRON-', 'order', 'the', 'bun', '-PRON-', 'be', 'not', 'a', 'huge', 'fan', 'of', '-PRON-', 'noodle', 'here', '-PRON-', 'be', 'a', 'little', 'too', 'thick', 'and', 'the', 'meat', 'that', 'come', 'on', 'the', 'bun', 'have', 'very', 'little', 'flavour', 'the', 'spring_roll', 'be', 'decent', 'but', 'nothing', 'to', 'rave_about', 'but', 'the', 'people', 'be', 'nice', 'and', 'the', 'place', '-PRON-', 'be', 'kind', 'of', 'cute', 'in', 'a', 'sketchy', 'way', 'and', '-PRON-', 'be', 'a', 'very', 'cheap', 'lunch', 'so', '-PRON-', 'be', 'hard', 'to', 'be', 'too', 'fussy', '-PRON-', 'get', 'the', 'que_ling', 'special', 'pho', 'in', 'size', 'large', 'for', '$', '6.67', 'the', 'broth', 'be', 'amazing', 'here', 'de_li_cious', 'authentic', 'taste', 'homemade', '-PRON-', 'also', 'order', 'spring_roll', '-PRON-', 'be', 'ok', 'tasty', 'but', 'a', 'little', 'dry', 'for', '-PRON-', 'taste', 'the', 'interior', 'be', 'a', 'small', 'cozy', 'shack', 'where', '-PRON-', 'be', 'very', 'close', 'to', 'other', 'patron', '-PRON-', 'have', 'a', 'plastic', 'by', 'the', 'door', 'to', 'break', 'the', 'wind', 'and', 'a', 'heater', 'mount', 'by', 'the', 'doorway', 'staff', 'be', 'very', 'friendly', 'in', 'spite', 'of', 'the', 'fact', 'that', '-PRON-', 'do', 'not', 'speak', 'a', 'word', 'of', 'cantonese', 'would', 'definitely', 'go', 'back', '-PRON-', 'fave', 'pho', 'in', 'town', 'hand_down', '-PRON-', 'grow', 'up', 'in', 'toronto', 'and', 'all', 'the', 'pho', 'around', 'town', 'all', 'have', 'that', 'fake', 'universal', 'pho', 'restaurant', 'taste', 'which', 'be', 'never', 'like', 'homemade', 'pho', 'the', 'pho', 'here', 'be', 'flavorful', 'and', 'hearty', 'and', 'taste', 'like', 'the', 'broth', 'be', 'simmer', 'properly', 'with', 'proper', 'ingredient', 'ah', '-PRON-', 'love', 'hole', 'in', 'the', 'wall', 'restaurant', 'que_ling', 'be', 'a', 'hidden_gem', 'in', 'riverdale', 'right', 'by', 'the', 'high_school', '-PRON-', 'be', 'a', 'great', 'place', 'to', 'get', 'authentic', 'and', 'tasty', 'pho', 'on', 'the', 'east', 'side', 'the', 'broth', 'noodle', 'topping', 'very', 'flavourful', 'and', 'delicious', 'do', 'not', 'let', 'the', 'exterior', 'throw', '-PRON-', 'off', '-PRON-', 'look', 'like', 'the', 'restaurant', 'be', 'build', 'upon', 'an', 'old', 'backyard', 'shack', 'hut', '-PRON-', 'be', 'a', 'cute', 'and', 'cozy', 'family', 'own', 'restaurant', 'inside', '-PRON-', 'feel', 'like', '-PRON-', 'be', 'have', 'some', 'home', 'cooking', 'when', '-PRON-', 'be', 'here', 'which', '-PRON-', 'like', 'just', 'as', 'a', 'couple', 'of', 'note', 'the', 'vietnamese', 'coffee', 'be', 'super', 'potent', 'so', 'make', 'sure', '-PRON-', 'can', 'take', 'caffeine', 'well', 'or', 'do', 'not', 'have', '-PRON-', 'after', '3', 'p.m.', 'or', 'in', 'the', 'evening', 'before', '-PRON-', 'sleep', 'also', 'the', 'place', 'only', 'take', 'cash', 'so', 'be', 'mindful', 'and', 'bring', 'cash', 'to', 'the', 'restaurant', 'ahhh', 'que_ling', 'literally', 'a', 'hole', 'in', 'the', 'wall', 'though', 'and', 'kinda', 'smelly', 'inside', 'perhaps', 'not', 'for', 'squeamish', 'diner', '-PRON-', 'would', 'definitely', 'fit', 'the', 'bill', 'for', 'a', 'pho', 'shack', 'however', '-PRON-', 'reportedly', 'serve', 'up', 'one', 'of', 'the', 'city', \"'s\", 'fine', 'phos', '-PRON-', 'do', 'not', 'find', '-PRON-', 'to', 'be', 'anything', 'special', 'broth', 'be', 'rather', 'salty', 'no', 'special', 'note', 'of', 'flavour', 'detect', 'in', 'the', 'stock', 'however', 'the', 'accompanying', 'herb', 'plate', 'be', 'full', 'of', 'saw', 'basil', 'and', 'cilantro', 'bonus_point', 'for', 'that', 'and', 'the', 'beef', 'be', 'kinda', 'scrungy', 'look', 'and', 'suffer', 'from', 'massive', 'shrinkage', 'once', 'submerge', 'in', 'the', 'broth', 'but', 'still', 'taste', 'okay', 'banh_cuon', 'here', 'be', 'good', 'the', 'rice', 'roll', 'be', 'fill', 'with', 'ground', 'pork', 'and', 'mushroom', 'and', 'the', 'wrapping', 'be', 'thin', 'and', 'light', 'will', 'prolly', 'venture', 'back', 'at', 'some', 'point', 'the', 'price', 'be', 'low', 'across', 'the', 'board', 'and', 'there', 'be', 'always', 'a', 'stream', 'of', 'neighborhood', 'regular', 'come', 'in', 'and', 'out', 'terrible', 'service', 'nothing', 'like', 'get', 'yell', 'at', 'because', '-PRON-', 'finish', '-PRON-', 'meal', 'ask', 'for', '-PRON-', 'drink', 'which', 'never', 'come', 'and', 'then', 'ask', 'for', '-PRON-', 'to', 'remove', '-PRON-', 'from', 'the', 'bill', 'classywhat', 'a', 'bargain', '-PRON-', 'can', 'not', 'get', 'viet', 'food', 'at', 'this', 'price', 'any', 'where', 'else', '-PRON-', 'order', 'spring_roll', 'banh', 'cuong', 'and', 'bun_bo_hue', 'with', 'a', 'durian', 'milk_shake', 'the', 'bill', 'be', '$_22', '-PRON-', 'like', 'the', 'texture', 'of', 'the', 'banh', 'cuong', '-PRON-', 'be', 'smooth', 'and', 'soft', 'however', '-PRON-', 'wish', 'there', 'be', 'a', 'bit', 'more', 'filling', 'inside', '-PRON-', 'husband', \"'s\", 'bun_bo_hue', 'be', 'very', 'flavourful', 'and', 'tasty', 'but', '-PRON-', 'notice', 'there', 'be', 'not', 'a', 'lot', 'of', 'meat', '-PRON-', 'really', 'like', 'the', 'spring_roll', 'because', 'there', 'be', 'a', 'lot', 'more', 'veggie', 'than', 'meat', 'but', 'to', 'each', '-PRON-', 'own', 'the', 'durian', 'milkshake', 'be', 'more', 'on', 'the', 'icy', 'side', 'then', 'smoothy', 'side', 'which', 'would', 'have', 'be', '-PRON-', 'preference', 'this', 'place', 'be', 'really', 'small', 'and', 'a', 'bit', 'dirty', 'so', 'despite', 'the', 'value', '-PRON-', 'will', 'not', 'be', 'make', 'a', 'trip', 'just', 'to', 'eat', 'here', 'but', 'if', '-PRON-', 'be', 'in', 'the', 'neighbourhood', '-PRON-', 'be', 'worth', 'drop', 'in', \"i've\", 'hear', 'about', 'this', 'place', 'for', 'a', 'long', 'time', 'but', 'never', 'try', '-PRON-', 'finally', 'decide', 'to', 'swing_by', 'to', 'try', 'out', '-PRON-', 'pho', 'order', 'house', 'special', 'pho', 'and', 'spring_roll', 'spring_roll', 'do', 'not', 'quite', 'look', 'the', 'part', 'but', 'actually', 'taste', 'ok', 'the', 'wrap', 'be', 'crispy', 'and', 'crunchy', 'and', 'fill', 'taste', 'quite', 'authentic', 'pho', 'on', 'the', 'other', 'hand', 'leave', 'something', 'to', 'be', 'desire', 'the', 'broth', 'be', 'clear', 'and', 'fresh', 'alright', 'but', 'not', 'quite', 'as', 'flavourful', 'as', 'another', 'place', 'nearby', 'the', 'portion', 'be', 'fair', 'and', '-PRON-', 'think', '-PRON-', 'pho', 'use', 'combination', 'of', 'chicken', 'and', 'beef', 'bun_bo_hue', 'be', 'disappointing', 'tho', 'the', 'broth', 'be', 'too', 'mild', 'kind', 'of', 'bland', 'not', 'spicy', 'at', 'all', '-PRON-', 'just', 'do', 'not', 'taste', 'like', 'traditional', 'bun_bo_hue', '-PRON-', 'typically', 'have', 'the', 'place', 'look', 'like', 'old', 'and', 'beat', 'up', 'but', '-PRON-', 'be', 'actually', 'busy', 'during', 'lunch', 'time', 'table', 'setting', 'seem', 'a', 'bit', 'weird', 'and', '-PRON-', 'do', 'arrange', 'different', 'customer', 'in', 'a', 'long', 'table', 'service', 'be', 'fast', 'so', 'turnover', 'be', 'high', 'when', '-PRON-', 'be', 'pack', '-PRON-', 'really', 'want', 'to', 'like', 'this', 'place', 'as', '-PRON-', 'see', 'this', 'be', 'a', 'family_orient', 'place', 'and', 'the', 'boss', 'seem', 'pretty', 'nice', 'but', 'the', 'food', 'just', 'do', 'not', 'hit', '-PRON-', 'spot', '-PRON-', 'be', 'well', 'know', 'for', '-PRON-', 'banh_cuon', 'so', 'perhaps', '-PRON-', 'will', 'try', 'banh_cuon', 'next', 'time', 'if', '-PRON-', 'ever', 'visit', 'again', 'this', 'be', 'by', 'far', '-PRON-', 'favourite', 'pho', 'place', 'in', 'all', 'of', 'the', 'gta', '-PRON-', 'fiancé', 'and', '-PRON-', 'come', 'here', 'whenever', '-PRON-', 'can', 'the', 'people', 'who', 'work', 'here', 'be', 'nice', 'and', 'super', 'efficient', '-PRON-', 'remember', '-PRON-', 'and', 'be', 'happy', 'to', 'greet', '-PRON-', 'when', '-PRON-', 'walk', 'in', '-PRON-', 'always', 'get', 'the', 'large', 'bahn', 'cuõn', 'with', 'meat', 'which', 'be', 'so', 'delicious', 'especially', 'with', 'the', 'sauce', '-PRON-', 'also', 'get', 'the', 'rare', 'beef', 'pho', 'a', 'small', 'be', 'a', 'good', 'portion', 'but', '-PRON-', 'usually', 'get', 'a', 'large', 'each', 'because', '-PRON-', 'love', '-PRON-', 'pho', 'that', 'much', 'the', 'broth', 'be', 'so', 'flavourful', 'and', 'the', 'beef', 'be', 'delicious', 'too', 'the', 'bean_sprout', 'and', 'other', 'fixing', '-PRON-', 'give', 'be', 'always', 'fresh', 'the', 'price', 'be', 'also', 'great', 'for', 'what', '-PRON-', 'get', '-PRON-', 'get', 'the', 'large', 'bahn', 'cuõn', 'and', 'two', 'large', 'pho', 'and', 'the', 'bill', 'be', 'under', '$', '20.this', 'place', 'have', 'great', 'pho', 'for', 'under', '$', '7', '-PRON-', 'husband', 'always', 'get', 'the', 'vermicelli', 'and', 'grill', 'pork', 'and', '-PRON-', 'love', '-PRON-', 'great', 'food', 'great', 'price', 'point', 'two', 'can', 'dine', 'for', '$_20', 'the', 'only', 'thing', 'be', 'that', '-PRON-', 'have', 'odd', 'hour', 'so', 'be', 'aware', 'of', 'that', 'in', 'an', 'area', 'where', 'there', 'be', 'much', 'competition', 'for', 'vietnamese', 'restaurant', 'this', 'be', 'by', 'far', 'the', 'good', 'one', 'in', 'east', 'chinatown', 'the', 'quality', 'of', 'all', '-PRON-', 'dish', 'be', 'amazing', '-PRON-', 'have', 'a', 'small', 'menu', 'but', '-PRON-', 'all', 'deliver', '-PRON-', 'go', 'to', 'be', 'usually', 'bun_bo_hue', 'and', '-PRON-', 'do', 'an', 'especially', 'amazing', 'job', 'of', 'banh_cuon', 'the', 'service', 'be', 'very', 'quick', 'however', 'sometimes', '-PRON-', 'feel', 'a', 'little', 'rush', 'by', 'the', 'server', 'that', 'may', 'be', 'due', 'to', 'the', 'rush', 'hour', 'and', 'small', 'seating', 'that', '-PRON-', 'want', 'a', 'high_turnover', 'but', '-PRON-', 'still', 'make', '-PRON-', 'feel', 'bad', '-PRON-', 'need', 'to', 'smile', 'a', 'little', 'more', 'other', 'than', 'that', 'this', 'place', 'be', 'top_notch', 'p._s.', '-PRON-', 'be', 'cash', 'only', 'make', 'sure', '-PRON-', 'get', 'dolla', 'on', 'yafor', 'an', 'east', 'end', 'viet', 'restaurant', 'this', 'place', 'really', 'be', 'one', 'of', 'the', 'good', 'in', 'the', 'area', 'the', 'storefront', 'be', 'very', 'unassuming', 'and', 'unless', '-PRON-', 'be', 'look', 'for', '-PRON-', 'specifically', '-PRON-', 'may', 'just', 'pass', '-PRON-', 'by', '-PRON-', 'have', 'not', 'be', 'back', 'in', 'age', 'but', 'decide', 'to', 'visit', 'again', 'and', 'try', '-PRON-', 'out', 'as', 'with', 'most', 'pho', 'place', 'do', 'not', 'judge', 'a', 'book', 'by', '-PRON-', 'be', 'cover', 'the', 'plastic', 'wind', 'flap', 'at', 'the', 'front_door', 'date', 'decor', 'and', 'small', 'table', 'should', 'not', 'deter', '-PRON-', 'food', 'be', 'pretty', 'fantastic', 'the', 'banh_cuon_steam', 'rice', 'roll', 'be', 'one', 'of', '-PRON-', 'specialty', 'so', '-PRON-', 'order', 'a', 'large', 'plate', '-PRON-', 'roll', 'be', 'fill', 'with', 'pork', 'and', 'mushroom', 'and', 'the', 'rice', 'roll', '-PRON-', 'be', 'nice', 'and', 'thin', 'come', 'with', 'the', 'standard', 'cha_lua', 'but', 'the', 'dish', '-PRON-', 'be', 'easily', 'one', 'of', 'the', 'good', 'in', 'toronto', 'also', 'order', 'the', 'bun_bo_hue', 'spicy', 'beef', 'noodle', 'soup', 'a', 'northern', 'dish', 'extra', 'spicy', '-PRON-', 'broth', 'be', 'very', 'authentic', 'use', 'a', 'mixed', 'pork/', 'beef', 'base', 'definitely', 'one', 'of', 'the', 'good', 'dish', 'in', 'the', 'area', 'as', 'well', 'although', '-PRON-', 'wish', '-PRON-', 'would', 'give', '-PRON-', 'more', 'herb', 'instead', 'of', 'just', 'lettuce', 'and', 'bean_sprout', '-PRON-', 'be', 'definitely', 'the', 'spot', 'to', 'go', 'if', '-PRON-', 'be', 'look', 'cheap', 'authentic', 'viet', 'food', '-PRON-', 'will', 'be', 'back', 'to', 'try', 'the', 'bun_rieu_cua', 'crab', 'noodle', 'soup', 'soon!.this', 'be', 'the', 'most', 'authentic', 'vietnamese', 'place', '-PRON-', 'have', 'be', 'to', '-PRON-', 'parent', 'actually', 'really', 'like', 'go', 'here', 'and', '-PRON-', 'dad', 'regularly', 'eat', 'the', 'blood_jello', 'dish', 'which', 'be', 'literally', 'blood', 'that', 'be', 'thicken', 'into', 'a', 'jello', 'consistency', 'serve', 'with', 'peanut', 'fish', 'sauce', 'and', 'coriander', 'cilantro', '-PRON-', 'do', 'not', 'touch', 'that', 'stuff', 'though', '-PRON-', 'have', 'never', 'be', 'to', 'vietnam', 'but', '-PRON-', 'would', 'imagine', 'that', '-PRON-', 'would', 'have', 'little', 'pho', 'shop', 'like', 'this', 'all', 'over', 'the', 'place', 'the', 'owner', 'actually', 'speak', 'vietnamese', 'and', 'not', 'chinese', 'actually', '-PRON-', 'speak', 'really', 'poor', 'chinese', 'too', '-PRON-', 'just', 'remember', 'that', 'the', 'pho', 'be', 'just', 'regular', 'nothing_special', '-PRON-', 'mom', 'like', 'that', '-PRON-', 'can', 'order', 'half', 'pho', 'rice', 'noodle', 'and', 'half', 'regular', 'flour', 'noodle', 'and', '-PRON-', 'rave_about', 'the', 'chicken', 'broth', 'pho', 'here', 'again', '-PRON-', 'think', '-PRON-', 'be', 'just', 'okay', 'maybe', '-PRON-', 'like', '-PRON-', 'because', '-PRON-', 'kind', 'of', 'taste', 'like', '-PRON-', 'rendition', 'of', 'these', 'dish', '-PRON-', 'also', 'make', 'the', 'banh_cuon', 'dish', 'which', 'be', 'a', 'rice', 'flour', 'roll', 'with', 'pork', 'mushroom', 'inside', 'and', '-PRON-', 'be', 'not', 'like', 'steam', 'in', 'a', 'steamer', 'but', 'be', 'make', 'by', 'have', 'a', 'boiling_pot', 'of', 'water', 'and', 'a', 'stretched', 'fabric', 'over', 'top', 'and', 'cook', 'the', 'rice', 'flour', 'and', 'water', 'on', 'top', 'of', 'the', 'fabric', 'and', 'then', 'hand', 'roll', '-PRON-', '-PRON-', 'dad', 'buy', 'these', 'for', 'take', 'out', 'and', '-PRON-', 'taste', 'really', 'good', 'even', 'after', 'bring', '-PRON-', 'home', 'but', '-PRON-', 'feel', 'gross', 'if', '-PRON-', 'eat', 'the', 'whole', 'box', 'if', '-PRON-', 'want', 'a', 'truly', 'authentic', 'vietnamese', 'place', 'to', 'go', 'to', 'this', 'be', '-PRON-', 'but', 'if', '-PRON-', 'be', 'look', 'for', 'taste', 'ambiance', 'decor', 'cleanliness', 'or', 'some', 'kind', 'of', 'excellent', 'service', '-PRON-', 'be', 'good', 'off', 'go', 'somewhere_else', 'super', 'fast', 'and', 'friendly', 'service', '-PRON-', 'have', 'all', 'the', 'standard', 'vietnamese', 'restaurant', 'option', 'one', 'of', 'the', 'good', 'pho', 'restaurant', 'on', 'the', 'east', 'end', 'in', '-PRON-', 'opinion', 'this', 'be', 'a', 'restaurant', 'in', 'which', 'the', 'floral', 'store', 'locate', 'right', 'next_door', 'have', 'nice', 'flower', 'than', 'the', 'interior', 'decor', 'and', 'the', 'random', 'people', 'on', 'the', 'street', 'would', 'more', 'likely', 'give', '-PRON-', 'a', 'smile', 'than', 'the', 'waitress', '-PRON-', 'mom', 'once', 'ask', 'the', 'waitress', 'just', 'wonder', 'when', '-PRON-', 'can', 'expect', 'to', 'get', '-PRON-', 'coffee', 'in', 'which', 'the', 'waitress', 'respond', 'with', '-PRON-', 'do', 'not', 'make', '-PRON-', 'yet', 'because', '-PRON-', 'just', 'order', '-PRON-', 'well', '-PRON-', 'order', '-PRON-', '10_min', 'ago', 'none', 'of', 'that', 'matter', 'because', '-PRON-', 'come', 'here', 'for', 'the', 'food', 'and', 'that', 'be', 'all', '-PRON-', 'can', 'expect', 'go', 'for', 'vietnamese', 'steam', 'roll', 'i.e.', 'banh_cuon', 'ok', 'pho', 'cheap', 'and', 'good', 'for', 'the', 'price', 'vietnamese', 'food', '-PRON-', 'will', 'find', 'anywhere', 'do', 'not', 'go', 'for', 'a', 'thank', '-PRON-', 'or', 'a', 'please', 'come', 'again', 'or', 'a', 'hello\"b', 'item', 'here', 'be', 'a', 'rice', 'dumpling', 'but', 'the', 'pho', 'be', 'awful', 'lot', 'of', 'msg', 'leave', '-PRON-', 'very', 'thirsty', 'and', '-PRON-', 'be', 'very', 'light', 'on', 'the', 'meat', 'this', 'neighborhood', 'be', 'spoil', 'by', 'bach_yen', 'just', 'on', 'gerrard', 'but', '-PRON-', 'be', 'close', '-PRON-', 'will', 'not', 'return', 'every', 'now', 'and', 'then', '-PRON-', 'hear', 'about', 'something', 'that', 'make', '-PRON-', 'want', 'to', 'go', 'just', 'because', '-PRON-', 'be', 'curious', 'about', 'if', 'what', '-PRON-', 'have', 'hear', 'be', 'true', 'and', 'have', 'to', 'see', 'for', '-PRON-', 'this', 'be', 'what', 'bring', '-PRON-', 'to', 'que_ling', 'the', 'story', 'about', 'how', 'there', 'be', 'this', 'place', 'that', 'make', 'some', 'tasty', 'pho', 'but', 'also', 'offer', 'to', 'do', 'alteration', 'on', '-PRON-', 'clothe', 'yep', '-PRON-', 'hear', 'correctly', '-PRON-', 'be', 'a', 'pho', 'stop', 'and', 'a', 'tailor', 'shop', 'all', 'in', 'one', 'and', 'from', 'what', '-PRON-', 'understand', 'both', 'be', 'pretty', 'damn', 'good', 'now', '-PRON-', 'be', 'not', 'do', 'a', 'review', 'of', 'a', 'place', '-PRON-', 'have', 'never', 'eat', 'at', '-PRON-', 'have', 'have', 'the', 'pho', 'here', 'a', 'few', 'time', 'and', '-PRON-', 'be', 'always', 'be', 'great', 'but', '-PRON-', 'have', 'never', 'have', '-PRON-', 'hem', 'a', 'pair', 'of', 'pant', 'or', 'bespoke', 'a', 'shirt', 'for', '-PRON-', 'but', '-PRON-', 'could', 'if', '-PRON-', 'want', 'to', 'and', 'that', 'be', 'more', 'than', '-PRON-', 'could', 'probably', 'say', 'for', 'most', 'pho', 'place', 'or', 'restaurant', 'in', 'general', 'the', 'pho', 'not', 'as', 'large', 'of', 'a', 'serving', 'as', '-PRON-', 'would', 'usually', 'like', 'but', 'the', 'soup', '-PRON-', 'be', 'very', 'good', 'tasty', 'clear', 'broth', 'and', 'noodle', 'that', 'be', 'perfectly_cook', 'to', 'go', 'along', 'with', 'the', 'thinly_sliced_beef', 'and', 'onion', 'overall', 'flavor', 'be', 'great', 'aside_from', 'the', 'pho', '-PRON-', '-PRON-', 'friend', 'and', '-PRON-', 'also', 'order', 'some', 'of', 'the', 'pork', 'stuff', 'flour', 'roll', 'and', '-PRON-', 'be', 'a', 'cut', 'above', 'good', 'portion', 'sprinkle', 'with', 'french', 'fry', 'onion', 'and', 'vietnamese', 'sausage', 'and', 'fairly', 'price', 'at', '$', '8', 'or', 'so', 'this', 'particular', 'place', 'be', 'a', 'bit', 'off', 'of', 'where', '-PRON-', 'usually', 'be', 'so', '-PRON-', 'do', 'not', 'frequent', '-PRON-', 'but', '-PRON-', 'be', 'definitely', 'not', 'because', '-PRON-', 'be', 'not', 'worthy', 'the', 'lady', 'who', 'run', '-PRON-', 'be', 'also', 'a', 'sweetheart', 'just', 'in', 'case', '-PRON-', 'be', 'more', 'of', 'a', 'service', 'orient', 'recommendation', 'worth', '-PRON-', '-PRON-', 'should', 'go!it', 'be', 'a', 'small', 'family', 'run', 'business', 'hot', 'hearty', 'cheap', 'a', 'staple', 'food', 'place', 'highlights', 'rice', 'roll', 'and', 'vietnamese', 'coffee', 'do', 'not', 'disappoint', 'think', '-PRON-', 'have', 'find', '-PRON-', 'new', 'go', 'to', 'take', 'out', 'pho', 'place', 'the', 'mien', 'ga', 'here', 'be', 'one', 'of', 'the', 'good', '-PRON-', 'have', 'try', 'really', 'rich', 'and', 'flavourful', 'broth', 'fresh', 'and', 'springy', 'noodle', 'and', 'a', 'variety', 'of', 'topping', 'excellent', 'price', 'as', 'well!my', 'go', 'to', 'viet', 'place', 'this', 'place', 'be', 'always', 'pack', 'with', 'people', 'especially', 'during', 'weekend', 'which', 'be', 'a', 'good', 'sign', 'right', 'although', 'east', 'chinatown', 'be', 'much', 'much', 'small', 'compare', 'to', 'the', 'one', 'in', 'downtown', 'there', 'be', 'a', 'few', 'restaurant', 'where', '-PRON-', 'can', 'still', 'get', 'a', 'decent', 'meal', 'and', 'que_ling', 'be', 'one', 'of', '-PRON-', '-PRON-', 'have', 'have', 'pho', 'this', 'spicy', 'beef', 'rice', 'noodle', 'duck', 'meat', 'rice', 'noodle', 'and', 'banh_bao', '-PRON-', 'really', 'enjoy', '-PRON-', 'banh_bao', 'which', 'be', 'pack', 'with', 'pork', 'filling', 'and', 'a', 'half', 'of', 'hard_boil_egg', 'but', 'duck', 'meat', 'rice', 'noodle', 'sorry', '-PRON-', 'do', 'not', 'know', 'the', 'name', 'of', 'this', 'dish', 'lack', 'in', 'flavour', 'overall', 'very', 'good', 'food', 'consistent', 'quality', 'quick', 'and', 'friendly', 'service', 'and', 'a', 'reasonable', 'price', 'most', 'item', 'be', 'under', '$', '10', '-PRON-', 'would', 'recommend', 'this', 'place', 'to', 'anyone!i', 'really', 'really', 'want', 'to', 'like', 'this', 'place', '-PRON-', 'love', 'sketchy', 'hole', 'in', 'the', 'wall', 'that', 'serve', 'authentic', 'grub', 'but', 'this', 'place', 'meh', '1', 'know', 'for', 'the', 'banh_cuon', 'rice', 'flour', 'roll', 'with', 'pork', 'and', 'mushroom', 'this', 'place', 'do', 'not', 'deliver', 'the', 'good', '-PRON-', 'see', '-PRON-', 'grab', 'these', 'from', 'a', 'big', 'tupperware_container', 'and', 'throw', '-PRON-', 'into', 'the', 'microwave', '-PRON-', 'mom', \"'s\", 'version', 'destroy', 'these', 're_heated', 'roll', 'and', 'when', '-PRON-', 'go', 'out', 'to', 'eat', '-PRON-', 'do', 'not', 'want', 'to', 'eat', 'leftover', 'thank', '2', 'bun_bo_hue', 'broth', 'be', 'all', 'wrong', 'also', 'likely', 're_heated', 'since', 'the', 'broth', 'be', 'separate', 'and', 'settle', 'the', 'meat', 'in', 'this', 'dish', 'be', 'chewy', 'at', 'least', 'the', 'tendon', 'and', 'some', 'other', 'mystery', 'meat', 'pork_blood', 'be', 'good', 'though', '3', '-PRON-', 'think', '-PRON-', 'would', 'be', 'hard', 'to', 'mess', 'up', 'rice', 'with', 'pork_chop', 'and', 'fry', 'egg', 'not', 'at', 'this', 'place', '-PRON-', 'do', 'use', 'broken_rice', '+', '1', 'but', 'the', 'rice', 'have', 'a', 'distinct', 'smell', 'of', 'not', 'so', 'fresh', 'the', 'chinese', 'have', 'a', 'word', 'for', '-PRON-', 'sook', 'but', '-PRON-', 'do', 'not', 'know', 'the', 'exact', 'translation', 'to', 'engrish', 'meat', 'and', 'egg', 'be', 'fairly', 'average', '4', 'the', 'good', '-PRON-', 'have', 'cold', 'tea', 'actual', 'tea', 'that', 'be', 'cold', 'not', 'beer', 'this', 'be', 'really', 'nice', 'on', 'a', 'hot', 'day', '-PRON-', 'do', 'like', 'the', 'family', 'ness', 'of', 'this', 'place', 'with', '-PRON-', 'son', 'watch', 'sponge_bob', 'and', 'work', 'sewing', 'in', 'the', 'dining_room', 'however', '-PRON-', 'can', 'not', 'deny', 'that', 'the', 'food', 'simply', 'be', 'not', 'good', 'sidenote', '-PRON-', 'have', 'weird', 'ass', 'hour', 'most', 'night', '-PRON-', 'think', '-PRON-', 'be', 'do', 'around', '7pm', '-PRON-', 'husband', 'and', '-PRON-', 'walk', 'at', '9:15am', 'this', 'morning', 'and', '-PRON-', 'welcome', '-PRON-', 'in', 'even', 'though', '-PRON-', 'be', 'just', 'prepp', 'to', 'be', 'open', '-PRON-', 'be', 'initially', 'wait', 'for', 'another', 'brunch', 'place', 'to', 'open', 'but', '-PRON-', 'wander', 'in', 'to', 'que_ling', 'for', '-PRON-', 'vietnamese', 'steamed_rice', 'roll', '-PRON-', 'rice', 'roll', 'come', 'in', 'large', '$_6.25', 'or', 'small', '$_5.31', '-PRON-', 'be', 'really', 'good', 'and', 'economical', 'the', 'delicate', 'rice', 'roll', 'be', 'stuff', 'with', 'mince', 'meat', 'then', 'steam', 'to', 'perfect', 'goodness', '-PRON-', 'be', 'pair', 'with', 'a', 'dipping_sauce', 'compose', 'of', 'fish', 'sauce', 'garlic', 'and', 'chilli', '-PRON-', 'be', '-PRON-', 'go', 'to', 'dish', 'at', 'que_ling', 'when', '-PRON-', 'be', 'crave', '-PRON-', '-PRON-', 'husband', 'and', '-PRON-', 'love', 'the', 'fact', 'that', '-PRON-', 'welcome', '-PRON-', 'instead', 'of', 'turn', '-PRON-', 'away', 'when', '-PRON-', 'be', 'not', 'really', 'open']\n"
     ]
    },
    {
     "name": "stderr",
     "output_type": "stream",
     "text": [
      "/home/rlrognstad/anaconda3/lib/python3.6/site-packages/gensim/models/phrases.py:486: UserWarning: For a faster implementation, use the gensim.models.phrases.Phraser class\n",
      "  warnings.warn(\"For a faster implementation, use the gensim.models.phrases.Phraser class\")\n"
     ]
    }
   ],
   "source": [
    "bigram_review = bigram_model[unigram_review]\n",
    "trigram_review = trigram_model[bigram_review]\n",
    "print(trigram_review)"
   ]
  },
  {
   "cell_type": "code",
   "execution_count": 48,
   "metadata": {
    "collapsed": false,
    "scrolled": false
   },
   "outputs": [
    {
     "name": "stdout",
     "output_type": "stream",
     "text": [
      "['place', 'awesome', 'definitely', 'authentic', '-PRON-', 'favourite', 'dish', 'rice', 'flour', 'roll', 'chicken', 'pho', 'rice', 'flour', 'roll', 'fresh', '-PRON-', 'chicken', 'pho', 'flavourful', 'mmmm', 'think', '-PRON-', '-PRON-', 'want', '-PRON-', 'boyfriend', 'vietnamese', '-PRON-', 'agree', 'place', 'authentic', 'good', 'vietnamese', 'restaurant', '-PRON-', 'eat', 'price', 'reasonable', 'too!i', 'love', 'joint', 'earth', 'people', 'pho', 'broth', 'minimal', 'good', 'funny', 'dry', 'mouth', 'feeling', 'msg', 'ton', 'bean_sprout', 'herbal', 'lettuce', 'stuff', 'fast', 'service', 'time', 'price', 'reasonable', '-PRON-', 'small', 'place', '-PRON-', 'big', 'lunch', 'menu', 'big', 'good', 'thing', '-PRON-', 'think', 'good', 'sit', 'meal', '-PRON-', 'city', '$', '10', 'banh_cuon', 'soup', 'noodle', 'bow', 'tasty', 'comforting', '-PRON-', 'corner', '-PRON-', 'house', '-PRON-', 'husband', '-PRON-', 'like', 'duck', 'quick', 'lunch', '-PRON-', 'service', 'usually', 'speedy', 'restaurant', 'small', '-PRON-', 'like', 'turn', 'table', 'quickly', 'notice', 'plan', 'dinner', '-PRON-', 'close', '7_p.m.', 'day', 'good', 'pho_ga', 'banh_cuon', 'city', 'lie', 'owner', 'sweet', 'eat', '-PRON-', 'regret', '-PRON-', 'hut', 'life', 'riverside!must', 'rice', 'noodle', 'roll', '-PRON-', 'place', '-PRON-', 'reasonable', 'price', 'amazing', 'portion', 'great', 'quality', 'food', 'friendly', 'service', 'washroom', 'clean', 'bonus', 'locate', 'china_town', 'love', 'bun', 'noodle', 'nice', 'soft', 'meat', 'nicely', 'grill', 'flavour', 'pho', 'soup', 'flavourful', 'like', 'noodle', 'find', '-PRON-', 'bit', 'hard', 'server', 'ask', '-PRON-', 'want', 'cold', 'hot', 'tea', 'cold', 'tea', 'actually', 'serve', 'cold', 'like', 'ice', '-PRON-', 'asian', 'place', 'vietnamese', 'coffee', 'great', 'potent', 'cash', '-PRON-', 'vietnamese', 'place', 'toronto!locat', 'main', 'street', 'gerrard', 'street', 'convert', 'home', '-PRON-', 'definitely', 'different', 'come', 'lunch', '-PRON-', 'seat_immediately', 'staff', 'speak', 'vietnamese', 'cantonese', 'fiancé', 'order', 'bamboo_shoot', 'duck', 'noodle', 'soup', '-PRON-', 'rat', '-PRON-', 'good', 'broth', 'excellent', '-PRON-', 'drink', 'lot', '-PRON-', 'lol', 'bamboo', 'stick', 'fresh', 'deal_breaker', 'worth', 'try', '-PRON-', 'order', 'pork_chop', 'rice', 'fry', 'egg', '-PRON-', 'different', '-PRON-', 'expect', 'tomato', 'piece', 'pork_chop', 'instead', 'usual', '1', 'piece', 'rice', 'texture', 'closer', 'regular', 'rice', 'broken_rice', '-PRON-', 'ok', 'overall', '-PRON-', 'mediocre', '-PRON-', 'truly', 'recommend', '-PRON-', 'time', '-PRON-', 'try', 'phoactual', 'rating', '3.5', '-PRON-', 'lunch', 'second', 'time', 'today', 'time', 'good', 'time', '-PRON-', '-PRON-', 'order', '-PRON-', 'vietnamese', 'food', '-PRON-', 'order', 'bun', '-PRON-', 'huge', 'fan', '-PRON-', 'noodle', '-PRON-', 'little', 'thick', 'meat', 'come', 'bun', 'little', 'flavour', 'spring_roll', 'decent', 'rave_about', 'people', 'nice', 'place', '-PRON-', 'kind', 'cute', 'sketchy', 'way', '-PRON-', 'cheap', 'lunch', '-PRON-', 'hard', 'fussy', '-PRON-', 'que_ling', 'special', 'pho', 'size', 'large', '$', '6.67', 'broth', 'amazing', 'de_li_cious', 'authentic', 'taste', 'homemade', '-PRON-', 'order', 'spring_roll', '-PRON-', 'ok', 'tasty', 'little', 'dry', '-PRON-', 'taste', 'interior', 'small', 'cozy', 'shack', '-PRON-', 'close', 'patron', '-PRON-', 'plastic', 'door', 'break', 'wind', 'heater', 'mount', 'doorway', 'staff', 'friendly', 'spite', 'fact', '-PRON-', 'speak', 'word', 'cantonese', 'definitely', '-PRON-', 'fave', 'pho', 'town', 'hand_down', '-PRON-', 'grow', 'toronto', 'pho', 'town', 'fake', 'universal', 'pho', 'restaurant', 'taste', 'like', 'homemade', 'pho', 'pho', 'flavorful', 'hearty', 'taste', 'like', 'broth', 'simmer', 'properly', 'proper', 'ingredient', 'ah', '-PRON-', 'love', 'hole', 'wall', 'restaurant', 'que_ling', 'hidden_gem', 'riverdale', 'right', 'high_school', '-PRON-', 'great', 'place', 'authentic', 'tasty', 'pho', 'east', 'broth', 'noodle', 'topping', 'flavourful', 'delicious', 'let', 'exterior', 'throw', '-PRON-', '-PRON-', 'look', 'like', 'restaurant', 'build', 'old', 'backyard', 'shack', 'hut', '-PRON-', 'cute', 'cozy', 'family', 'restaurant', 'inside', '-PRON-', 'feel', 'like', '-PRON-', 'home', 'cooking', '-PRON-', '-PRON-', 'like', 'couple', 'note', 'vietnamese', 'coffee', 'super', 'potent', 'sure', '-PRON-', 'caffeine', '-PRON-', '3', 'p.m.', 'evening', '-PRON-', 'sleep', 'place', 'cash', 'mindful', 'bring', 'cash', 'restaurant', 'ahhh', 'que_ling', 'literally', 'hole', 'wall', 'kinda', 'smelly', 'inside', 'squeamish', 'diner', '-PRON-', 'definitely', 'fit', 'bill', 'pho', 'shack', '-PRON-', 'reportedly', 'serve', 'city', \"'s\", 'fine', 'phos', '-PRON-', 'find', '-PRON-', 'special', 'broth', 'salty', 'special', 'note', 'flavour', 'detect', 'stock', 'accompanying', 'herb', 'plate', 'saw', 'basil', 'cilantro', 'bonus_point', 'beef', 'kinda', 'scrungy', 'look', 'suffer', 'massive', 'shrinkage', 'submerge', 'broth', 'taste', 'okay', 'banh_cuon', 'good', 'rice', 'roll', 'fill', 'ground', 'pork', 'mushroom', 'wrapping', 'thin', 'light', 'prolly', 'venture', 'point', 'price', 'low', 'board', 'stream', 'neighborhood', 'regular', 'come', 'terrible', 'service', 'like', 'yell', '-PRON-', 'finish', '-PRON-', 'meal', 'ask', '-PRON-', 'drink', 'come', 'ask', '-PRON-', 'remove', '-PRON-', 'bill', 'classywhat', 'bargain', '-PRON-', 'viet', 'food', 'price', '-PRON-', 'order', 'spring_roll', 'banh', 'cuong', 'bun_bo_hue', 'durian', 'milk_shake', 'bill', '$_22', '-PRON-', 'like', 'texture', 'banh', 'cuong', '-PRON-', 'smooth', 'soft', '-PRON-', 'wish', 'bit', 'filling', 'inside', '-PRON-', 'husband', \"'s\", 'bun_bo_hue', 'flavourful', 'tasty', '-PRON-', 'notice', 'lot', 'meat', '-PRON-', 'like', 'spring_roll', 'lot', 'veggie', 'meat', '-PRON-', 'durian', 'milkshake', 'icy', 'smoothy', '-PRON-', 'preference', 'place', 'small', 'bit', 'dirty', 'despite', 'value', '-PRON-', 'trip', 'eat', '-PRON-', 'neighbourhood', '-PRON-', 'worth', 'drop', \"i've\", 'hear', 'place', 'long', 'time', 'try', '-PRON-', 'finally', 'decide', 'swing_by', 'try', '-PRON-', 'pho', 'order', 'house', 'special', 'pho', 'spring_roll', 'spring_roll', 'look', 'actually', 'taste', 'ok', 'wrap', 'crispy', 'crunchy', 'fill', 'taste', 'authentic', 'pho', 'hand', 'leave', 'desire', 'broth', 'clear', 'fresh', 'alright', 'flavourful', 'place', 'nearby', 'portion', 'fair', '-PRON-', 'think', '-PRON-', 'pho', 'use', 'combination', 'chicken', 'beef', 'bun_bo_hue', 'disappointing', 'tho', 'broth', 'mild', 'kind', 'bland', 'spicy', '-PRON-', 'taste', 'like', 'traditional', 'bun_bo_hue', '-PRON-', 'typically', 'place', 'look', 'like', 'old', 'beat', '-PRON-', 'actually', 'busy', 'lunch', 'time', 'table', 'setting', 'bit', 'weird', '-PRON-', 'arrange', 'different', 'customer', 'long', 'table', 'service', 'fast', 'turnover', 'high', '-PRON-', 'pack', '-PRON-', 'want', 'like', 'place', '-PRON-', 'family_orient', 'place', 'boss', 'pretty', 'nice', 'food', 'hit', '-PRON-', 'spot', '-PRON-', 'know', '-PRON-', 'banh_cuon', '-PRON-', 'try', 'banh_cuon', 'time', '-PRON-', 'visit', 'far', '-PRON-', 'favourite', 'pho', 'place', 'gta', '-PRON-', 'fiancé', '-PRON-', 'come', '-PRON-', 'people', 'work', 'nice', 'super', 'efficient', '-PRON-', 'remember', '-PRON-', 'happy', 'greet', '-PRON-', '-PRON-', 'walk', '-PRON-', 'large', 'bahn', 'cuõn', 'meat', 'delicious', 'especially', 'sauce', '-PRON-', 'rare', 'beef', 'pho', 'small', 'good', 'portion', '-PRON-', 'usually', 'large', '-PRON-', 'love', '-PRON-', 'pho', 'broth', 'flavourful', 'beef', 'delicious', 'bean_sprout', 'fixing', '-PRON-', 'fresh', 'price', 'great', '-PRON-', '-PRON-', 'large', 'bahn', 'cuõn', 'large', 'pho', 'bill', '$', '20.this', 'place', 'great', 'pho', '$', '7', '-PRON-', 'husband', 'vermicelli', 'grill', 'pork', '-PRON-', 'love', '-PRON-', 'great', 'food', 'great', 'price', 'point', 'dine', '$_20', 'thing', '-PRON-', 'odd', 'hour', 'aware', 'area', 'competition', 'vietnamese', 'restaurant', 'far', 'good', 'east', 'chinatown', 'quality', '-PRON-', 'dish', 'amazing', '-PRON-', 'small', 'menu', '-PRON-', 'deliver', '-PRON-', 'usually', 'bun_bo_hue', '-PRON-', 'especially', 'amazing', 'job', 'banh_cuon', 'service', 'quick', '-PRON-', 'feel', 'little', 'rush', 'server', 'rush', 'hour', 'small', 'seating', '-PRON-', 'want', 'high_turnover', '-PRON-', '-PRON-', 'feel', 'bad', '-PRON-', 'need', 'smile', 'little', 'place', 'top_notch', 'p._s.', '-PRON-', 'cash', 'sure', '-PRON-', 'dolla', 'yafor', 'east', 'end', 'viet', 'restaurant', 'place', 'good', 'area', 'storefront', 'unassuming', '-PRON-', 'look', '-PRON-', 'specifically', '-PRON-', 'pass', '-PRON-', '-PRON-', 'age', 'decide', 'visit', 'try', '-PRON-', 'pho', 'place', 'judge', 'book', '-PRON-', 'cover', 'plastic', 'wind', 'flap', 'front_door', 'date', 'decor', 'small', 'table', 'deter', '-PRON-', 'food', 'pretty', 'fantastic', 'banh_cuon_steam', 'rice', 'roll', '-PRON-', 'specialty', '-PRON-', 'order', 'large', 'plate', '-PRON-', 'roll', 'fill', 'pork', 'mushroom', 'rice', 'roll', '-PRON-', 'nice', 'thin', 'come', 'standard', 'cha_lua', 'dish', '-PRON-', 'easily', 'good', 'toronto', 'order', 'bun_bo_hue', 'spicy', 'beef', 'noodle', 'soup', 'northern', 'dish', 'extra', 'spicy', '-PRON-', 'broth', 'authentic', 'use', 'mixed', 'pork/', 'beef', 'base', 'definitely', 'good', 'dish', 'area', '-PRON-', 'wish', '-PRON-', '-PRON-', 'herb', 'instead', 'lettuce', 'bean_sprout', '-PRON-', 'definitely', 'spot', '-PRON-', 'look', 'cheap', 'authentic', 'viet', 'food', '-PRON-', 'try', 'bun_rieu_cua', 'crab', 'noodle', 'soup', 'soon!.this', 'authentic', 'vietnamese', 'place', '-PRON-', '-PRON-', 'parent', 'actually', 'like', '-PRON-', 'dad', 'regularly', 'eat', 'blood_jello', 'dish', 'literally', 'blood', 'thicken', 'jello', 'consistency', 'serve', 'peanut', 'fish', 'sauce', 'coriander', 'cilantro', '-PRON-', 'touch', 'stuff', '-PRON-', 'vietnam', '-PRON-', 'imagine', '-PRON-', 'little', 'pho', 'shop', 'like', 'place', 'owner', 'actually', 'speak', 'vietnamese', 'chinese', 'actually', '-PRON-', 'speak', 'poor', 'chinese', '-PRON-', 'remember', 'pho', 'regular', 'nothing_special', '-PRON-', 'mom', 'like', '-PRON-', 'order', 'half', 'pho', 'rice', 'noodle', 'half', 'regular', 'flour', 'noodle', '-PRON-', 'rave_about', 'chicken', 'broth', 'pho', '-PRON-', 'think', '-PRON-', 'okay', 'maybe', '-PRON-', 'like', '-PRON-', '-PRON-', 'kind', 'taste', 'like', '-PRON-', 'rendition', 'dish', '-PRON-', 'banh_cuon', 'dish', 'rice', 'flour', 'roll', 'pork', 'mushroom', 'inside', '-PRON-', 'like', 'steam', 'steamer', 'boiling_pot', 'water', 'stretched', 'fabric', 'cook', 'rice', 'flour', 'water', 'fabric', 'hand', 'roll', '-PRON-', '-PRON-', 'dad', 'buy', '-PRON-', 'taste', 'good', 'bring', '-PRON-', 'home', '-PRON-', 'feel', 'gross', '-PRON-', 'eat', 'box', '-PRON-', 'want', 'truly', 'authentic', 'vietnamese', 'place', '-PRON-', '-PRON-', 'look', 'taste', 'ambiance', 'decor', 'cleanliness', 'kind', 'excellent', 'service', '-PRON-', 'good', 'somewhere_else', 'super', 'fast', 'friendly', 'service', '-PRON-', 'standard', 'vietnamese', 'restaurant', 'option', 'good', 'pho', 'restaurant', 'east', 'end', '-PRON-', 'opinion', 'restaurant', 'floral', 'store', 'locate', 'right', 'next_door', 'nice', 'flower', 'interior', 'decor', 'random', 'people', 'street', 'likely', '-PRON-', 'smile', 'waitress', '-PRON-', 'mom', 'ask', 'waitress', 'wonder', '-PRON-', 'expect', '-PRON-', 'coffee', 'waitress', 'respond', '-PRON-', '-PRON-', '-PRON-', 'order', '-PRON-', '-PRON-', 'order', '-PRON-', '10_min', 'ago', 'matter', '-PRON-', 'come', 'food', '-PRON-', 'expect', 'vietnamese', 'steam', 'roll', 'i.e.', 'banh_cuon', 'ok', 'pho', 'cheap', 'good', 'price', 'vietnamese', 'food', '-PRON-', 'find', 'thank', '-PRON-', 'come', 'hello\"b', 'item', 'rice', 'dumpling', 'pho', 'awful', 'lot', 'msg', 'leave', '-PRON-', 'thirsty', '-PRON-', 'light', 'meat', 'neighborhood', 'spoil', 'bach_yen', 'gerrard', '-PRON-', 'close', '-PRON-', 'return', '-PRON-', 'hear', '-PRON-', 'want', '-PRON-', 'curious', '-PRON-', 'hear', 'true', '-PRON-', 'bring', '-PRON-', 'que_ling', 'story', 'place', 'tasty', 'pho', 'offer', 'alteration', '-PRON-', 'clothe', 'yep', '-PRON-', 'hear', 'correctly', '-PRON-', 'pho', 'stop', 'tailor', 'shop', '-PRON-', 'understand', 'pretty', 'damn', 'good', '-PRON-', 'review', 'place', '-PRON-', 'eat', '-PRON-', 'pho', 'time', '-PRON-', 'great', '-PRON-', '-PRON-', 'hem', 'pair', 'pant', 'bespoke', 'shirt', '-PRON-', '-PRON-', '-PRON-', 'want', '-PRON-', 'probably', 'pho', 'place', 'restaurant', 'general', 'pho', 'large', 'serving', '-PRON-', 'usually', 'like', 'soup', '-PRON-', 'good', 'tasty', 'clear', 'broth', 'noodle', 'perfectly_cook', 'thinly_sliced_beef', 'onion', 'overall', 'flavor', 'great', 'aside_from', 'pho', '-PRON-', '-PRON-', 'friend', '-PRON-', 'order', 'pork', 'stuff', 'flour', 'roll', '-PRON-', 'cut', 'good', 'portion', 'sprinkle', 'french', 'fry', 'onion', 'vietnamese', 'sausage', 'fairly', 'price', '$', '8', 'particular', 'place', 'bit', '-PRON-', 'usually', '-PRON-', 'frequent', '-PRON-', '-PRON-', 'definitely', '-PRON-', 'worthy', 'lady', 'run', '-PRON-', 'sweetheart', 'case', '-PRON-', 'service', 'orient', 'recommendation', 'worth', '-PRON-', '-PRON-', 'go!it', 'small', 'family', 'run', 'business', 'hot', 'hearty', 'cheap', 'staple', 'food', 'place', 'highlights', 'rice', 'roll', 'vietnamese', 'coffee', 'disappoint', 'think', '-PRON-', 'find', '-PRON-', 'new', 'pho', 'place', 'mien', 'ga', 'good', '-PRON-', 'try', 'rich', 'flavourful', 'broth', 'fresh', 'springy', 'noodle', 'variety', 'topping', 'excellent', 'price', 'well!my', 'viet', 'place', 'place', 'pack', 'people', 'especially', 'weekend', 'good', 'sign', 'right', 'east', 'chinatown', 'small', 'compare', 'downtown', 'restaurant', '-PRON-', 'decent', 'meal', 'que_ling', '-PRON-', '-PRON-', 'pho', 'spicy', 'beef', 'rice', 'noodle', 'duck', 'meat', 'rice', 'noodle', 'banh_bao', '-PRON-', 'enjoy', '-PRON-', 'banh_bao', 'pack', 'pork', 'filling', 'half', 'hard_boil_egg', 'duck', 'meat', 'rice', 'noodle', 'sorry', '-PRON-', 'know', 'dish', 'lack', 'flavour', 'overall', 'good', 'food', 'consistent', 'quality', 'quick', 'friendly', 'service', 'reasonable', 'price', 'item', '$', '10', '-PRON-', 'recommend', 'place', 'anyone!i', 'want', 'like', 'place', '-PRON-', 'love', 'sketchy', 'hole', 'wall', 'serve', 'authentic', 'grub', 'place', 'meh', '1', 'know', 'banh_cuon', 'rice', 'flour', 'roll', 'pork', 'mushroom', 'place', 'deliver', 'good', '-PRON-', '-PRON-', 'grab', 'big', 'tupperware_container', 'throw', '-PRON-', 'microwave', '-PRON-', 'mom', \"'s\", 'version', 'destroy', 're_heated', 'roll', '-PRON-', 'eat', '-PRON-', 'want', 'eat', 'leftover', 'thank', '2', 'bun_bo_hue', 'broth', 'wrong', 'likely', 're_heated', 'broth', 'separate', 'settle', 'meat', 'dish', 'chewy', 'tendon', 'mystery', 'meat', 'pork_blood', 'good', '3', '-PRON-', 'think', '-PRON-', 'hard', 'mess', 'rice', 'pork_chop', 'fry', 'egg', 'place', '-PRON-', 'use', 'broken_rice', '+', '1', 'rice', 'distinct', 'smell', 'fresh', 'chinese', 'word', '-PRON-', 'sook', '-PRON-', 'know', 'exact', 'translation', 'engrish', 'meat', 'egg', 'fairly', 'average', '4', 'good', '-PRON-', 'cold', 'tea', 'actual', 'tea', 'cold', 'beer', 'nice', 'hot', 'day', '-PRON-', 'like', 'family', 'ness', 'place', '-PRON-', 'son', 'watch', 'sponge_bob', 'work', 'sewing', 'dining_room', '-PRON-', 'deny', 'food', 'simply', 'good', 'sidenote', '-PRON-', 'weird', 'ass', 'hour', 'night', '-PRON-', 'think', '-PRON-', '7pm', '-PRON-', 'husband', '-PRON-', 'walk', '9:15am', 'morning', '-PRON-', 'welcome', '-PRON-', '-PRON-', 'prepp', 'open', '-PRON-', 'initially', 'wait', 'brunch', 'place', 'open', '-PRON-', 'wander', 'que_ling', '-PRON-', 'vietnamese', 'steamed_rice', 'roll', '-PRON-', 'rice', 'roll', 'come', 'large', '$_6.25', 'small', '$_5.31', '-PRON-', 'good', 'economical', 'delicate', 'rice', 'roll', 'stuff', 'mince', 'meat', 'steam', 'perfect', 'goodness', '-PRON-', 'pair', 'dipping_sauce', 'compose', 'fish', 'sauce', 'garlic', 'chilli', '-PRON-', '-PRON-', 'dish', 'que_ling', '-PRON-', 'crave', '-PRON-', '-PRON-', 'husband', '-PRON-', 'love', 'fact', '-PRON-', 'welcome', '-PRON-', 'instead', 'turn', '-PRON-', 'away', '-PRON-', 'open']\n"
     ]
    }
   ],
   "source": [
    "trigram_review = [term for term in trigram_review\n",
    "                 if not term in spacy.lang.en.stop_words.STOP_WORDS]\n",
    "print(trigram_review)"
   ]
  },
  {
   "cell_type": "code",
   "execution_count": 50,
   "metadata": {
    "collapsed": false,
    "scrolled": true
   },
   "outputs": [
    {
     "name": "stdout",
     "output_type": "stream",
     "text": [
      "[(1, 7), (2, 4), (3, 2), (4, 2), (5, 7), (6, 1), (8, 3), (9, 2), (10, 2), (12, 1), (13, 2), (14, 1), (15, 16), (17, 37), (18, 1), (20, 14), (21, 22), (23, 3), (25, 2), (26, 9), (27, 8), (29, 1), (30, 17), (32, 4), (34, 2), (36, 1), (37, 1), (38, 2), (39, 1), (41, 7), (42, 13), (45, 1), (46, 1), (47, 3), (48, 1), (53, 7), (57, 11), (60, 1), (64, 3), (66, 9), (69, 1), (70, 11), (72, 3), (73, 2), (75, 1), (76, 1), (77, 2), (78, 1), (79, 1), (80, 3), (81, 1), (82, 3), (87, 6), (89, 1), (91, 1), (93, 2), (94, 6), (97, 2), (104, 1), (111, 1), (113, 9), (115, 4), (120, 4), (121, 2), (123, 1), (127, 2), (129, 1), (130, 9), (131, 1), (132, 2), (133, 2), (134, 3), (135, 1), (136, 10), (137, 1), (138, 1), (139, 8), (140, 7), (141, 7), (142, 6), (143, 1), (144, 11), (145, 4), (146, 17), (147, 7), (148, 1), (151, 1), (152, 1), (153, 1), (155, 2), (157, 12), (160, 1), (161, 2), (162, 2), (164, 1), (168, 1), (170, 1), (172, 3), (173, 1), (175, 2), (176, 4), (179, 4), (181, 4), (184, 1), (186, 5), (188, 2), (190, 1), (193, 1), (194, 1), (196, 1), (197, 3), (199, 5), (201, 4), (207, 24), (208, 2), (210, 4), (212, 1), (213, 3), (214, 2), (219, 3), (220, 1), (221, 10), (222, 2), (225, 4), (226, 1), (227, 1), (228, 2), (230, 2), (232, 3), (233, 4), (234, 4), (238, 4), (239, 1), (241, 1), (242, 1), (245, 1), (246, 1), (250, 1), (251, 1), (254, 2), (259, 1), (263, 7), (269, 1), (270, 1), (273, 4), (276, 1), (278, 1), (279, 3), (280, 4), (281, 3), (284, 3), (294, 1), (304, 3), (305, 2), (310, 2), (314, 3), (315, 2), (316, 4), (317, 1), (319, 7), (320, 4), (321, 6), (322, 2), (326, 1), (327, 1), (328, 5), (333, 5), (335, 2), (344, 11), (349, 4), (358, 1), (361, 1), (362, 6), (369, 2), (372, 3), (375, 3), (376, 4), (377, 2), (388, 4), (389, 3), (390, 2), (394, 2), (395, 2), (400, 1), (403, 1), (414, 1), (415, 1), (416, 1), (437, 1), (444, 4), (452, 3), (454, 1), (457, 1), (460, 4), (463, 1), (467, 2), (468, 1), (475, 1), (482, 1), (486, 1), (489, 3), (492, 1), (495, 8), (500, 2), (509, 4), (513, 1), (514, 2), (519, 4), (520, 1), (522, 3), (525, 1), (529, 1), (532, 3), (533, 4), (542, 1), (547, 1), (556, 1), (558, 2), (560, 3), (566, 2), (570, 3), (572, 1), (589, 6), (600, 1), (611, 1), (619, 3), (646, 1), (647, 3), (652, 2), (655, 3), (663, 2), (681, 3), (682, 3), (694, 2), (697, 1), (700, 4), (705, 3), (707, 1), (718, 1), (724, 16), (725, 1), (728, 1), (735, 2), (750, 3), (766, 2), (770, 3), (772, 2), (775, 1), (778, 3), (779, 1), (797, 1), (815, 2), (818, 2), (820, 1), (846, 5), (847, 2), (848, 1), (849, 1), (851, 1), (853, 2), (855, 1), (856, 2), (860, 4), (861, 2), (862, 1), (864, 3), (866, 2), (874, 1), (878, 1), (885, 1), (891, 2), (894, 5), (906, 3), (911, 1), (913, 1), (919, 1), (923, 1), (926, 2), (936, 1), (944, 1), (949, 1), (950, 3), (957, 1), (962, 1), (967, 1), (977, 1), (986, 2), (990, 2), (994, 2), (995, 3), (1003, 1), (1009, 1), (1016, 2), (1018, 1), (1021, 1), (1031, 1), (1044, 1), (1050, 1), (1057, 2), (1068, 2), (1069, 1), (1112, 1), (1116, 1), (1125, 1), (1132, 1), (1137, 3), (1138, 1), (1145, 1), (1151, 2), (1157, 1), (1161, 1), (1166, 1), (1170, 1), (1171, 1), (1179, 1), (1187, 1), (1190, 1), (1213, 1), (1216, 2), (1224, 1), (1237, 6), (1250, 1), (1252, 1), (1254, 3), (1257, 2), (1261, 1), (1280, 1), (1287, 1), (1288, 1), (1295, 1), (1300, 1), (1304, 1), (1341, 1), (1342, 1), (1353, 1), (1370, 1), (1374, 1), (1375, 1), (1389, 2), (1400, 1), (1443, 1), (1455, 2), (1470, 1), (1496, 1), (1501, 1), (1504, 2), (1511, 1), (1519, 1), (1527, 1), (1565, 2), (1571, 1), (1576, 1), (1609, 1), (1624, 1), (1676, 1), (1681, 1), (1707, 1), (1746, 1), (1767, 2), (1768, 1), (1798, 1), (1805, 1), (1822, 1), (1881, 1), (1885, 2), (1894, 1), (1906, 1), (1907, 1), (1917, 1), (1925, 1), (1965, 1), (1978, 2), (1994, 1), (1996, 1), (1998, 1), (2033, 1), (2042, 1), (2050, 1), (2051, 1), (2063, 1), (2071, 1), (2144, 1), (2147, 1), (2148, 1), (2169, 1), (2170, 3), (2174, 1), (2181, 2), (2187, 1), (2214, 1), (2223, 1), (2234, 1), (2235, 1), (2248, 2), (2260, 1), (2317, 1), (2364, 3), (2369, 1), (2392, 1), (2412, 1), (2497, 1), (2515, 1), (2533, 1), (2534, 1), (2537, 1), (2569, 1), (2655, 1), (2662, 1), (2663, 1), (2666, 1), (2687, 1), (2712, 1), (2714, 1), (2752, 1), (2764, 1), (2822, 1), (2881, 1), (2910, 1), (2920, 1), (2923, 1), (2937, 1), (2983, 1), (2984, 2), (2990, 1), (2993, 1), (3001, 1), (3002, 1), (3024, 1), (3083, 2), (3100, 1), (3162, 1), (3165, 2), (3177, 1), (3178, 1), (3317, 1), (3338, 4), (3389, 1), (3403, 1), (3417, 1), (3438, 1), (3475, 1), (3494, 1), (3556, 2), (3575, 1), (3592, 2), (3668, 1), (3704, 1), (3719, 1), (3836, 1), (3881, 1), (3882, 1), (3904, 1), (3930, 2), (3938, 1), (4036, 2), (4339, 1), (4398, 1), (4483, 1), (4488, 1), (4532, 1), (4626, 1), (4645, 1), (4651, 1), (4653, 1), (4750, 1), (4752, 1), (4792, 6), (4974, 1), (5035, 1), (5149, 1), (5189, 1), (5228, 2), (5261, 3), (5319, 1), (5432, 3), (5450, 1), (5462, 1), (5498, 1), (5516, 2), (5694, 1), (5876, 1), (5889, 1), (5906, 1), (6094, 1), (6178, 1), (6188, 1), (6270, 1), (6288, 1), (6309, 1), (6500, 2), (6709, 1), (6765, 1), (6828, 1), (6921, 2), (7057, 1), (7108, 1), (7260, 1), (7286, 1), (7381, 1), (7535, 1), (8427, 1), (8944, 1), (9172, 1), (9201, 1), (9321, 1), (9548, 1), (10883, 1), (10941, 4), (11049, 1), (11205, 1), (11243, 1), (11465, 3), (11484, 2), (11573, 1), (11623, 1), (11887, 1), (12139, 2), (12422, 1), (13469, 1), (13510, 1), (13650, 1), (13720, 2), (13746, 2), (13766, 7), (13838, 1), (14317, 1), (14398, 1), (15094, 2), (15109, 1), (15245, 2), (15855, 1), (15955, 1), (16643, 1), (17309, 1), (17509, 1), (17514, 1), (17883, 1), (18198, 1), (18215, 1), (18745, 1), (18833, 1), (18901, 1), (19148, 9), (20365, 1), (21492, 1), (21739, 1), (22039, 1), (23346, 1), (23526, 1), (23716, 1), (24532, 1), (25172, 1), (25283, 2), (26393, 1), (26409, 1), (27479, 1), (28448, 1), (29273, 1), (29756, 1), (30781, 1), (30793, 1), (31206, 1), (34609, 1), (34921, 1), (37108, 1), (38019, 2), (45127, 1), (45790, 1), (47772, 1), (49521, 1), (54169, 1), (54369, 1), (54423, 1), (58037, 1), (59695, 1), (61700, 1), (63252, 1), (64097, 1), (71441, 2), (73072, 1), (79544, 1), (85960, 2), (86433, 1), (88380, 1), (90774, 1), (95437, 1)]\n"
     ]
    }
   ],
   "source": [
    "review_bow = trigram_dictionary.doc2bow(trigram_review)\n",
    "print(review_bow)"
   ]
  },
  {
   "cell_type": "code",
   "execution_count": 51,
   "metadata": {
    "collapsed": false
   },
   "outputs": [
    {
     "name": "stdout",
     "output_type": "stream",
     "text": [
      "[(0, 0.3742013), (3, 0.011497187), (4, 0.013167743), (6, 0.062449753), (9, 0.015615614), (10, 0.016892921), (13, 0.03469188), (17, 0.0336184), (23, 0.010528261), (24, 0.01236545), (25, 0.014293573), (27, 0.019657997), (29, 0.06155967), (31, 0.027089786), (35, 0.044541087), (36, 0.07107436), (37, 0.031105291), (38, 0.017945733), (39, 0.02027938), (44, 0.024539562), (47, 0.018142685)]\n"
     ]
    }
   ],
   "source": [
    "review_lda = lda[review_bow]\n",
    "print(review_lda)"
   ]
  },
  {
   "cell_type": "code",
   "execution_count": 52,
   "metadata": {
    "collapsed": false,
    "scrolled": true
   },
   "outputs": [
    {
     "name": "stdout",
     "output_type": "stream",
     "text": [
      "[(0, 0.3742013), (36, 0.07107436), (6, 0.062449753), (29, 0.06155967), (35, 0.044541087), (13, 0.03469188), (17, 0.0336184), (37, 0.031105291), (31, 0.027089786), (44, 0.024539562), (39, 0.02027938), (27, 0.019657997), (47, 0.018142685), (38, 0.017945733), (10, 0.016892921), (9, 0.015615614), (25, 0.014293573), (4, 0.013167743), (24, 0.01236545), (3, 0.011497187), (23, 0.010528261)]\n"
     ]
    }
   ],
   "source": [
    "review_lda = sorted(review_lda, key=lambda review_lda: -review_lda[1])\n",
    "print(review_lda)"
   ]
  },
  {
   "cell_type": "code",
   "execution_count": 75,
   "metadata": {
    "collapsed": false,
    "scrolled": true
   },
   "outputs": [
    {
     "ename": "TypeError",
     "evalue": "'Series' objects are mutable, thus they cannot be hashed",
     "output_type": "error",
     "traceback": [
      "\u001b[0;31m---------------------------------------------------------------------------\u001b[0m",
      "\u001b[0;31mTypeError\u001b[0m                                 Traceback (most recent call last)",
      "\u001b[0;32m<ipython-input-75-d647d3123281>\u001b[0m in \u001b[0;36m<module>\u001b[0;34m()\u001b[0m\n\u001b[1;32m      1\u001b[0m \u001b[0mdf\u001b[0m \u001b[0;34m=\u001b[0m \u001b[0mpd\u001b[0m\u001b[0;34m.\u001b[0m\u001b[0mDataFrame\u001b[0m\u001b[0;34m(\u001b[0m\u001b[0mreview_lda\u001b[0m\u001b[0;34m)\u001b[0m\u001b[0;34m\u001b[0m\u001b[0m\n\u001b[1;32m      2\u001b[0m \u001b[0mdf\u001b[0m\u001b[0;34m.\u001b[0m\u001b[0mcolumns\u001b[0m \u001b[0;34m=\u001b[0m \u001b[0;34m[\u001b[0m\u001b[0;34m'topic_number'\u001b[0m\u001b[0;34m,\u001b[0m \u001b[0;34m'freq'\u001b[0m\u001b[0;34m]\u001b[0m\u001b[0;34m\u001b[0m\u001b[0m\n\u001b[0;32m----> 3\u001b[0;31m \u001b[0mdf\u001b[0m \u001b[0;34m=\u001b[0m \u001b[0mdf\u001b[0m\u001b[0;34m.\u001b[0m\u001b[0massign\u001b[0m\u001b[0;34m(\u001b[0m\u001b[0mtopic\u001b[0m\u001b[0;34m=\u001b[0m\u001b[0mtopic_names\u001b[0m\u001b[0;34m[\u001b[0m\u001b[0mdf\u001b[0m\u001b[0;34m[\u001b[0m\u001b[0;34m'topic_number'\u001b[0m\u001b[0;34m]\u001b[0m\u001b[0;34m]\u001b[0m\u001b[0;34m)\u001b[0m\u001b[0;34m\u001b[0m\u001b[0m\n\u001b[0m\u001b[1;32m      4\u001b[0m \u001b[0mprint\u001b[0m\u001b[0;34m(\u001b[0m\u001b[0mdf\u001b[0m\u001b[0;34m)\u001b[0m\u001b[0;34m\u001b[0m\u001b[0m\n",
      "\u001b[0;32m/home/rlrognstad/anaconda3/lib/python3.6/site-packages/pandas/core/generic.py\u001b[0m in \u001b[0;36m__hash__\u001b[0;34m(self)\u001b[0m\n\u001b[1;32m    875\u001b[0m     \u001b[0;32mdef\u001b[0m \u001b[0m__hash__\u001b[0m\u001b[0;34m(\u001b[0m\u001b[0mself\u001b[0m\u001b[0;34m)\u001b[0m\u001b[0;34m:\u001b[0m\u001b[0;34m\u001b[0m\u001b[0m\n\u001b[1;32m    876\u001b[0m         raise TypeError('{0!r} objects are mutable, thus they cannot be'\n\u001b[0;32m--> 877\u001b[0;31m                         ' hashed'.format(self.__class__.__name__))\n\u001b[0m\u001b[1;32m    878\u001b[0m \u001b[0;34m\u001b[0m\u001b[0m\n\u001b[1;32m    879\u001b[0m     \u001b[0;32mdef\u001b[0m \u001b[0m__iter__\u001b[0m\u001b[0;34m(\u001b[0m\u001b[0mself\u001b[0m\u001b[0;34m)\u001b[0m\u001b[0;34m:\u001b[0m\u001b[0;34m\u001b[0m\u001b[0m\n",
      "\u001b[0;31mTypeError\u001b[0m: 'Series' objects are mutable, thus they cannot be hashed"
     ]
    }
   ],
   "source": [
    "df = pd.DataFrame(review_lda)\n",
    "df.columns = ['topic_number', 'freq']\n",
    "df = df.assign(topic=topic_names[df['topic_number']])\n",
    "print(df)"
   ]
  },
  {
   "cell_type": "code",
   "execution_count": 81,
   "metadata": {
    "collapsed": false
   },
   "outputs": [
    {
     "name": "stdout",
     "output_type": "stream",
     "text": [
      "            topic_name    freq\n",
      "0              chinese  0.3742\n",
      "1           vietnamese  0.0711\n",
      "2              service  0.0624\n",
      "3              reviews  0.0616\n",
      "4              amazing  0.0445\n",
      "5         good service  0.0347\n",
      "6                greek  0.0336\n",
      "7                 time  0.0311\n",
      "8   general restaurant  0.0271\n",
      "9                money  0.0245\n",
      "10            montreal  0.0203\n",
      "11         coffee shop  0.0197\n",
      "12  airport & delivery  0.0181\n",
      "13           vas legas  0.0179\n",
      "14             parking  0.0169\n",
      "15             grocery  0.0156\n",
      "16           na drinks  0.0143\n",
      "17            japanese  0.0132\n",
      "18          good taste  0.0124\n",
      "19               smell  0.0115\n",
      "20                pubs  0.0105\n"
     ]
    }
   ],
   "source": [
    "df = pd.DataFrame(columns=[\"topic_name\", \"freq\"])\n",
    "for topic_number, freq in review_lda:\n",
    "    df = df.append({\n",
    "     \"topic_name\": topic_names[topic_number],\n",
    "     \"freq\":  round(freq, 4)\n",
    "      }, ignore_index=True)\n",
    "print(df)"
   ]
  },
  {
   "cell_type": "code",
   "execution_count": 63,
   "metadata": {
    "collapsed": false
   },
   "outputs": [
    {
     "name": "stdout",
     "output_type": "stream",
     "text": [
      "chinese                   0.3741999864578247\n",
      "vietnamese                0.07109999656677246\n",
      "service                   0.06239999830722809\n",
      "reviews                   0.06159999966621399\n",
      "amazing                   0.04450000077486038\n",
      "good service              0.034699998795986176\n",
      "greek                     0.03359999880194664\n",
      "time                      0.031099999323487282\n",
      "general restaurant        0.02710000053048134\n",
      "money                     0.02449999935925007\n",
      "montreal                  0.0203000009059906\n",
      "coffee shop               0.019700000062584877\n",
      "airport & delivery        0.01810000091791153\n",
      "vas legas                 0.017899999395012856\n",
      "parking                   0.016899999231100082\n",
      "grocery                   0.015599999576807022\n",
      "na drinks                 0.014299999922513962\n",
      "japanese                  0.013199999928474426\n",
      "good taste                0.012400000356137753\n",
      "smell                     0.011500000022351742\n",
      "pubs                      0.010499999858438969\n"
     ]
    }
   ],
   "source": [
    " for topic_number, freq in review_lda:\n",
    "#        if freq < min_topic_freq:\n",
    "#            break\n",
    "            \n",
    "        # print the most highly related topic names and frequencies\n",
    "    print('{:25} {}'.format(topic_names[topic_number],\n",
    "                                round(freq, 4)))"
   ]
  },
  {
   "cell_type": "code",
   "execution_count": null,
   "metadata": {
    "collapsed": true
   },
   "outputs": [],
   "source": []
  },
  {
   "cell_type": "code",
   "execution_count": null,
   "metadata": {
    "collapsed": true
   },
   "outputs": [],
   "source": []
  }
 ],
 "metadata": {
  "kernelspec": {
   "display_name": "Python 3",
   "language": "python",
   "name": "python3"
  },
  "language_info": {
   "codemirror_mode": {
    "name": "ipython",
    "version": 3
   },
   "file_extension": ".py",
   "mimetype": "text/x-python",
   "name": "python",
   "nbconvert_exporter": "python",
   "pygments_lexer": "ipython3",
   "version": "3.6.0"
  }
 },
 "nbformat": 4,
 "nbformat_minor": 2
}
