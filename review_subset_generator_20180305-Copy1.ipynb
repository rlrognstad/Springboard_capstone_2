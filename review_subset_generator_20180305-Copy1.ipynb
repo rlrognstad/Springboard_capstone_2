{
 "cells": [
  {
   "cell_type": "code",
   "execution_count": 1,
   "metadata": {
    "collapsed": true
   },
   "outputs": [],
   "source": [
    "import codecs\n",
    "import pandas as pd\n",
    "import itertools as it\n",
    "\n",
    "from pandas import DataFrame\n",
    "import os\n",
    "\n",
    "import spacy\n",
    "from gensim.models import Phrases\n",
    "from gensim.models.word2vec import LineSentence\n",
    "\n",
    "import en_core_web_sm\n",
    "nlp = spacy.load('en')"
   ]
  },
  {
   "cell_type": "code",
   "execution_count": 2,
   "metadata": {
    "collapsed": true
   },
   "outputs": [],
   "source": [
    "stars_filepath = 'review_stars_rest_subset.txt'\n",
    "review_txt_filepath = 'review_text_rest_subset.txt'\n",
    "business_filepath = 'review_business_rest_subset.txt'\n",
    "user_filepath = 'review_user_rest_subset.txt'"
   ]
  },
  {
   "cell_type": "code",
   "execution_count": 3,
   "metadata": {
    "collapsed": true
   },
   "outputs": [],
   "source": [
    "def line_review(filename):\n",
    "    \"\"\"\n",
    "    generator function to read in reviews from the file\n",
    "    and un-escape the original line breaks in the text\n",
    "    \"\"\"\n",
    "    \n",
    "    with codecs.open(filename, encoding='utf_8') as f:\n",
    "        for review in f:\n",
    "            yield review.replace('\\\\n', '\\n')"
   ]
  },
  {
   "cell_type": "code",
   "execution_count": 4,
   "metadata": {
    "collapsed": true
   },
   "outputs": [],
   "source": [
    "def get_data(filepath,review_number):\n",
    "    \"\"\"\n",
    "    retrieve a particular review index\n",
    "    from the reviews file and return it\n",
    "    \"\"\"\n",
    "    \n",
    "    return list(it.islice(line_review(filepath),\n",
    "                          review_number, review_number+1))[0]"
   ]
  },
  {
   "cell_type": "code",
   "execution_count": 5,
   "metadata": {
    "collapsed": true
   },
   "outputs": [],
   "source": [
    "with open(stars_filepath) as f:\n",
    "    stars = f.readlines()\n",
    "# remove whitespace characters like `\\n` at the end of each line\n",
    "stars = [x.strip() for x in stars]"
   ]
  },
  {
   "cell_type": "code",
   "execution_count": 6,
   "metadata": {
    "collapsed": true
   },
   "outputs": [],
   "source": [
    "with open(review_txt_filepath) as f:\n",
    "    texts = f.readlines()\n",
    "# remove whitespace characters like `\\n` at the end of each line\n",
    "texts = [x.strip() for x in texts]"
   ]
  },
  {
   "cell_type": "code",
   "execution_count": 7,
   "metadata": {
    "collapsed": true
   },
   "outputs": [],
   "source": [
    "with open(business_filepath) as f:\n",
    "    business = f.readlines()\n",
    "# remove whitespace characters like `\\n` at the end of each line\n",
    "business = [x.strip() for x in business]"
   ]
  },
  {
   "cell_type": "code",
   "execution_count": 8,
   "metadata": {
    "collapsed": true
   },
   "outputs": [],
   "source": [
    "with open(user_filepath) as f:\n",
    "    user = f.readlines()\n",
    "# remove whitespace characters like `\\n` at the end of each line\n",
    "user = [x.strip() for x in user]"
   ]
  },
  {
   "cell_type": "code",
   "execution_count": 9,
   "metadata": {
    "collapsed": false
   },
   "outputs": [
    {
     "name": "stdout",
     "output_type": "stream",
     "text": [
      "1570963 1570963 1570963 1570963\n"
     ]
    }
   ],
   "source": [
    "#test lengths, all should be the same\n",
    "print(len(stars), len(texts), len(business), len(user))"
   ]
  },
  {
   "cell_type": "code",
   "execution_count": 10,
   "metadata": {
    "collapsed": false
   },
   "outputs": [
    {
     "name": "stdout",
     "output_type": "stream",
     "text": [
      "52810\n"
     ]
    }
   ],
   "source": [
    "bus_set = frozenset(business)\n",
    "print(len(bus_set))"
   ]
  },
  {
   "cell_type": "code",
   "execution_count": 11,
   "metadata": {
    "collapsed": false
   },
   "outputs": [
    {
     "name": "stdout",
     "output_type": "stream",
     "text": [
      "169373\n"
     ]
    }
   ],
   "source": [
    "user_set = frozenset(user)\n",
    "print(len(user_set))"
   ]
  },
  {
   "cell_type": "code",
   "execution_count": 12,
   "metadata": {
    "collapsed": false
   },
   "outputs": [
    {
     "name": "stdout",
     "output_type": "stream",
     "text": [
      "frozenset({'ZnxudK5ExgpfXs4bicS4IA', 'hjk3ox7w1akbEuOgTJ03Bw', 'Xy74meQwdTnloAAyRC-4cg', '0W4lkclzZThpx3V65bVgig', '4_GIJk0tX3k0x0FcUv4sNA', 'PFPUMF38-lraKzLcTiz5gQ', 'XWTPNfskXoUL-Lf32wSk0Q', 'a9aW5e731lplWGHUZ02-zQ', '5r6-G9C4YLbC7Ziz57l3rQ', '28adZ4lsuUeVB2aWzohK9g', 'Eox_Qq74oaFZ-YjthpHhBw', 'N93EYZy9R0sdlEvubu94ig', 'oWTn2IzrprsRkPfULtjZtQ', 'Aov96CM4FZAXeZvKtsStdA', 'zxJlg4XCHNoFy78WZPv89w', 'RtUvSWO_UZ8V3Wpj0n077w', 'z8oIoCT1cXz7gZP5GeU5OA', 'I8rveLd-dl81u6c8YqAxmw', 'zgQHtqX0gqMw1nlBZl2VnQ'})\n"
     ]
    }
   ],
   "source": [
    "test_set = frozenset(business[1:20])\n",
    "print(test_set)"
   ]
  },
  {
   "cell_type": "markdown",
   "metadata": {},
   "source": [
    "Make collased business text file"
   ]
  },
  {
   "cell_type": "code",
   "execution_count": 13,
   "metadata": {
    "collapsed": true
   },
   "outputs": [],
   "source": [
    "all_bus_filepath = \"collapsed_business_rest_subset.txt\""
   ]
  },
  {
   "cell_type": "code",
   "execution_count": 14,
   "metadata": {
    "collapsed": true
   },
   "outputs": [],
   "source": [
    "all_test_filepath = \"collapsed_business_rest_subset_test.txt\""
   ]
  },
  {
   "cell_type": "code",
   "execution_count": 17,
   "metadata": {
    "collapsed": false
   },
   "outputs": [
    {
     "name": "stdout",
     "output_type": "stream",
     "text": [
      "CPU times: user 1h 51min 35s, sys: 3.08 s, total: 1h 51min 38s\n",
      "Wall time: 1h 51min 51s\n"
     ]
    }
   ],
   "source": [
    "%%time\n",
    "#function to loop through all business ids, collapse all reviews for that business into one string\n",
    "if 1 == 0:\n",
    "    with codecs.open(all_bus_filepath, 'w', encoding='utf_8') as f:\n",
    "        for x in bus_set:\n",
    "            review_index = [i for i,j in enumerate(business) if j == x]\n",
    "            review_sub = [texts[ind] for ind in review_index]\n",
    "            review_out = ''.join(map(str, review_sub))\n",
    "            f.write(review_out + '\\n')\n",
    "            #print(x)\n",
    "    "
   ]
  },
  {
   "cell_type": "code",
   "execution_count": 18,
   "metadata": {
    "collapsed": true
   },
   "outputs": [],
   "source": [
    "collapsed_business = LineSentence(all_bus_filepath)"
   ]
  },
  {
   "cell_type": "code",
   "execution_count": 25,
   "metadata": {
    "collapsed": false
   },
   "outputs": [
    {
     "data": {
      "text/plain": [
       "<gensim.models.word2vec.LineSentence at 0x7fa49e78e4a8>"
      ]
     },
     "execution_count": 25,
     "metadata": {},
     "output_type": "execute_result"
    }
   ],
   "source": [
    "collapsed_business"
   ]
  },
  {
   "cell_type": "code",
   "execution_count": 15,
   "metadata": {
    "collapsed": true
   },
   "outputs": [],
   "source": [
    "with open(all_bus_filepath) as f:\n",
    "    all_bus = f.readlines()\n",
    "# remove whitespace characters like `\\n` at the end of each line\n",
    "all_bus = [x.strip() for x in all_bus]"
   ]
  },
  {
   "cell_type": "code",
   "execution_count": 16,
   "metadata": {
    "collapsed": false
   },
   "outputs": [
    {
     "data": {
      "text/plain": [
       "52810"
      ]
     },
     "execution_count": 16,
     "metadata": {},
     "output_type": "execute_result"
    }
   ],
   "source": [
    "len(all_bus)"
   ]
  },
  {
   "cell_type": "code",
   "execution_count": 17,
   "metadata": {
    "collapsed": true
   },
   "outputs": [],
   "source": [
    "with open(all_test_filepath) as f:\n",
    "    test_bus = f.readlines()\n",
    "# remove whitespace characters like `\\n` at the end of each line\n",
    "test_bus = [x.strip() for x in test_bus]"
   ]
  },
  {
   "cell_type": "code",
   "execution_count": 18,
   "metadata": {
    "collapsed": false
   },
   "outputs": [
    {
     "data": {
      "text/plain": [
       "19"
      ]
     },
     "execution_count": 18,
     "metadata": {},
     "output_type": "execute_result"
    }
   ],
   "source": [
    "len(test_bus)"
   ]
  },
  {
   "cell_type": "markdown",
   "metadata": {},
   "source": [
    "Make collapsed user text file"
   ]
  },
  {
   "cell_type": "code",
   "execution_count": 19,
   "metadata": {
    "collapsed": true
   },
   "outputs": [],
   "source": [
    "all_user_filepath = \"collapsed_user_rest_subset.txt\""
   ]
  },
  {
   "cell_type": "code",
   "execution_count": 20,
   "metadata": {
    "collapsed": false
   },
   "outputs": [
    {
     "name": "stdout",
     "output_type": "stream",
     "text": [
      "CPU times: user 5h 44min 44s, sys: 5.56 s, total: 5h 44min 49s\n",
      "Wall time: 5h 45min 12s\n"
     ]
    }
   ],
   "source": [
    "%%time\n",
    "#function to loop through all business ids, collapse all reviews for that business into one string\n",
    "if 1 == 0:\n",
    "    with codecs.open(all_user_filepath, 'w', encoding='utf_8') as f:\n",
    "        for x in user_set:\n",
    "            review_index = [i for i,j in enumerate(user) if j == x]\n",
    "            review_sub = [texts[ind] for ind in review_index]\n",
    "            review_out = ''.join(map(str, review_sub))\n",
    "            f.write(review_out + '\\n')"
   ]
  },
  {
   "cell_type": "markdown",
   "metadata": {
    "collapsed": true
   },
   "source": [
    "Setup and define function for NLP"
   ]
  },
  {
   "cell_type": "code",
   "execution_count": 20,
   "metadata": {
    "collapsed": true
   },
   "outputs": [],
   "source": [
    "#helper functions from modern nlp in python\n",
    "def punct_space(token):\n",
    "    \"\"\"\n",
    "    helper function to eliminate tokens\n",
    "    that are pure punctuation or whitespace\n",
    "    \"\"\"\n",
    "    \n",
    "    return token.is_punct or token.is_space\n",
    "\n",
    "def line_review(filename):\n",
    "    \"\"\"\n",
    "    generator function to read in reviews from the file\n",
    "    and un-escape the original line breaks in the text\n",
    "    \"\"\"\n",
    "    \n",
    "    with codecs.open(filename, encoding='utf_8') as f:\n",
    "        for review in f:\n",
    "            yield review.replace('\\\\n', '\\n')\n",
    "            \n",
    "def lemmatized_sentence_corpus(filename):\n",
    "    \"\"\"\n",
    "    generator function to use spaCy to parse reviews,\n",
    "    lemmatize the text, and yield sentences\n",
    "    \"\"\"\n",
    "    \n",
    "    for parsed_review in nlp.pipe(line_review(filename),\n",
    "                                  batch_size=10000, n_threads=4):\n",
    "        \n",
    "        for sent in parsed_review.sents:\n",
    "            yield u' '.join([token.lemma_ for token in sent\n",
    "                             if not punct_space(token)])"
   ]
  },
  {
   "cell_type": "code",
   "execution_count": 21,
   "metadata": {
    "collapsed": true
   },
   "outputs": [],
   "source": [
    "def get_sample_review(review_txt_filepath, review_number):\n",
    "    \"\"\"\n",
    "    retrieve a particular review index\n",
    "    from the reviews file and return it\n",
    "    \"\"\"\n",
    "    \n",
    "    return list(it.islice(line_review(review_txt_filepath),\n",
    "                          review_number, review_number+1))[0]"
   ]
  },
  {
   "cell_type": "code",
   "execution_count": 22,
   "metadata": {
    "collapsed": true
   },
   "outputs": [],
   "source": [
    "from gensim.corpora import Dictionary, MmCorpus\n",
    "from gensim.models.ldamulticore import LdaMulticore\n",
    "\n",
    "import pyLDAvis\n",
    "import pyLDAvis.gensim\n",
    "import warnings\n",
    "import _pickle as pickle"
   ]
  },
  {
   "cell_type": "code",
   "execution_count": 23,
   "metadata": {
    "collapsed": true
   },
   "outputs": [],
   "source": [
    "lda_model_filepath = 'lda_model_eat_30'\n",
    "trigram_dictionary_filepath = 'trigram_dict_eat_30.dict'\n",
    "trigram_model_filepath = 'trigram_model_all_eat_30'\n",
    "bigram_model_filepath = 'bigram_model_all_eat_30'"
   ]
  },
  {
   "cell_type": "code",
   "execution_count": 24,
   "metadata": {
    "collapsed": false
   },
   "outputs": [],
   "source": [
    "lda = LdaMulticore.load(lda_model_filepath)\n",
    "trigram_dictionary = Dictionary.load(trigram_dictionary_filepath)\n",
    "trigram_model = Phrases.load(trigram_model_filepath)\n",
    "bigram_model = Phrases.load(bigram_model_filepath)"
   ]
  },
  {
   "cell_type": "code",
   "execution_count": 25,
   "metadata": {
    "collapsed": false
   },
   "outputs": [],
   "source": [
    "def lda_description(review_text, min_topic_freq=0.05):\n",
    "    \"\"\"\n",
    "    accept the original text of a review and (1) parse it with spaCy,\n",
    "    (2) apply text pre-proccessing steps, (3) create a bag-of-words\n",
    "    representation, (4) create an LDA representation, and\n",
    "    (5) print a sorted list of the top topics in the LDA representation\n",
    "    \"\"\"\n",
    "    \n",
    "    # parse the review text with spaCy\n",
    "    parsed_review = nlp(review_text)\n",
    "    \n",
    "    # lemmatize the text and remove punctuation and whitespace\n",
    "    unigram_review = [token.lemma_ for token in parsed_review\n",
    "                      if not punct_space(token)]\n",
    "    \n",
    "    # apply the first-order and secord-order phrase models\n",
    "    bigram_review = bigram_model[unigram_review]\n",
    "    trigram_review = trigram_model[bigram_review]\n",
    "    \n",
    "    # remove any remaining stopwords\n",
    "    trigram_review = [term for term in trigram_review\n",
    "                      if not term in spacy.lang.en.stop_words.STOP_WORDS]\n",
    "    \n",
    "    # create a bag-of-words representation\n",
    "    review_bow = trigram_dictionary.doc2bow(trigram_review)\n",
    "    \n",
    "    # create an LDA representation\n",
    "    review_lda = lda[review_bow]\n",
    "    \n",
    "    # sort with the most highly related topics first\n",
    "    review_lda = sorted(review_lda, key=lambda review_lda: -review_lda[1])\n",
    "                       \n",
    "    for topic_number, freq in review_lda:\n",
    "#        if freq < min_topic_freq:\n",
    "#            break\n",
    "            \n",
    "        # print the most highly related topic names and frequencies\n",
    "        print('{:25} {}'.format(topic_names[topic_number],\n",
    "                                round(freq, 50)))"
   ]
  },
  {
   "cell_type": "code",
   "execution_count": 26,
   "metadata": {
    "collapsed": true
   },
   "outputs": [],
   "source": [
    "topic_names = {0: u'chinese',\n",
    "               1: u'thai',\n",
    "               2: u'healthy',\n",
    "               3: u'smell',\n",
    "               4: u'japanese',\n",
    "               5: u'toronto',\n",
    "               6: u'service',\n",
    "               7: u'experience',\n",
    "               8: u'asian soup',\n",
    "               9: u'grocery',\n",
    "               10: u'parking',\n",
    "               11: u'bar ambiance',\n",
    "               12: u'uk',\n",
    "               13: u'good service',\n",
    "               14: u'fun ambiance',\n",
    "               15: u'young',\n",
    "               16: u'comfort food',\n",
    "               17: u'greek',\n",
    "               18: u'high end',\n",
    "               19: u'hotwing',\n",
    "               20: u'breakfast',\n",
    "               21: u'sweet',\n",
    "               22: u'wine & dine',\n",
    "               23: u'pubs',\n",
    "               24: u'good taste',\n",
    "               25: u'na drinks',\n",
    "               26: u'desserts',\n",
    "               27: u'coffee shop',\n",
    "               28: u'mexican',\n",
    "               29: u'reviews',\n",
    "               30: u'new york',\n",
    "               31: u'general restaurant',\n",
    "               32: u'beach',\n",
    "               33: u'location',\n",
    "               34: u'happy hour',\n",
    "               35: u'amazing',\n",
    "               36: u'vietnamese',\n",
    "               37: u'time',\n",
    "               38: u'vas legas',\n",
    "               39: u'montreal',\n",
    "               40: u'deli',\n",
    "               41: u'buffet',\n",
    "               42: u'bbq',\n",
    "               43: u'french',\n",
    "               44: u'money',\n",
    "               45: u'street taco',\n",
    "               46: u'pizza',\n",
    "               47: u'airport & delivery',\n",
    "               48: u'burger & fries',\n",
    "               49: u'italian'}"
   ]
  },
  {
   "cell_type": "code",
   "execution_count": 36,
   "metadata": {
    "collapsed": false
   },
   "outputs": [],
   "source": [
    "#topic_names_filepath = 'topic_names_eats_30.pkl'\n",
    "\n",
    "#with open(topic_names_filepath, 'wb') as f:\n",
    "#    pickle.dump(topic_names, f)"
   ]
  },
  {
   "cell_type": "code",
   "execution_count": 27,
   "metadata": {
    "collapsed": false
   },
   "outputs": [],
   "source": [
    "sample_review = get_sample_review(all_test_filepath, 6)\n",
    "#print(sample_review)"
   ]
  },
  {
   "cell_type": "code",
   "execution_count": 29,
   "metadata": {
    "collapsed": false
   },
   "outputs": [],
   "source": [
    "#lda_description(sample_review)"
   ]
  },
  {
   "cell_type": "code",
   "execution_count": 89,
   "metadata": {
    "collapsed": false,
    "scrolled": false
   },
   "outputs": [
    {
     "name": "stdout",
     "output_type": "stream",
     "text": [
      "            topic_name\n",
      "0              chinese\n",
      "1                 thai\n",
      "2              healthy\n",
      "3                smell\n",
      "4             japanese\n",
      "5              toronto\n",
      "6              service\n",
      "7           experience\n",
      "8           asian soup\n",
      "9              grocery\n",
      "10             parking\n",
      "11        bar ambiance\n",
      "12                  uk\n",
      "13        good service\n",
      "14        fun ambiance\n",
      "15               young\n",
      "16        comfort food\n",
      "17               greek\n",
      "18            high end\n",
      "19             hotwing\n",
      "20           breakfast\n",
      "21               sweet\n",
      "22         wine & dine\n",
      "23                pubs\n",
      "24          good taste\n",
      "25           na drinks\n",
      "26            desserts\n",
      "27         coffee shop\n",
      "28             mexican\n",
      "29             reviews\n",
      "30            new york\n",
      "31  general restaurant\n",
      "32               beach\n",
      "33            location\n",
      "34          happy hour\n",
      "35             amazing\n",
      "36          vietnamese\n",
      "37                time\n",
      "38           vas legas\n",
      "39            montreal\n",
      "40                deli\n",
      "41              buffet\n",
      "42                 bbq\n",
      "43              french\n",
      "44               money\n",
      "45         street taco\n",
      "46               pizza\n",
      "47  airport & delivery\n",
      "48      burger & fries\n"
     ]
    }
   ],
   "source": [
    "all_numbers = list(range(0,49))\n",
    "df_topics = pd.DataFrame(columns =[\"topic_name\"])\n",
    "\n",
    "for topic_number in all_numbers:\n",
    "    df_topics = df_topics.append({\n",
    "     \"topic_name\": topic_names[topic_number]\n",
    "      }, ignore_index=True)\n",
    "#print(df_topics)"
   ]
  },
  {
   "cell_type": "code",
   "execution_count": 94,
   "metadata": {
    "collapsed": false
   },
   "outputs": [
    {
     "name": "stdout",
     "output_type": "stream",
     "text": [
      "            topic_name    freq\n",
      "0              chinese  0.3742\n",
      "1                 thai  0.0000\n",
      "2              healthy  0.0000\n",
      "3                smell  0.0115\n",
      "4             japanese  0.0132\n",
      "5              toronto  0.0000\n",
      "6              service  0.0624\n",
      "7           experience  0.0000\n",
      "8           asian soup  0.0000\n",
      "9              grocery  0.0156\n",
      "10             parking  0.0169\n",
      "11        bar ambiance  0.0000\n",
      "12                  uk  0.0000\n",
      "13        good service  0.0347\n",
      "14        fun ambiance  0.0000\n",
      "15               young  0.0000\n",
      "16        comfort food  0.0000\n",
      "17               greek  0.0336\n",
      "18            high end  0.0000\n",
      "19             hotwing  0.0000\n",
      "20           breakfast  0.0000\n",
      "21               sweet  0.0000\n",
      "22         wine & dine  0.0000\n",
      "23                pubs  0.0105\n",
      "24          good taste  0.0124\n",
      "25           na drinks  0.0143\n",
      "26            desserts  0.0000\n",
      "27         coffee shop  0.0197\n",
      "28             mexican  0.0000\n",
      "29             reviews  0.0616\n",
      "30            new york  0.0000\n",
      "31  general restaurant  0.0271\n",
      "32               beach  0.0000\n",
      "33            location  0.0000\n",
      "34          happy hour  0.0000\n",
      "35             amazing  0.0445\n",
      "36          vietnamese  0.0711\n",
      "37                time  0.0311\n",
      "38           vas legas  0.0179\n",
      "39            montreal  0.0203\n",
      "40                deli  0.0000\n",
      "41              buffet  0.0000\n",
      "42                 bbq  0.0000\n",
      "43              french  0.0000\n",
      "44               money  0.0245\n",
      "45         street taco  0.0000\n",
      "46               pizza  0.0000\n",
      "47  airport & delivery  0.0181\n",
      "48      burger & fries  0.0000\n"
     ]
    }
   ],
   "source": [
    "df_full = pd.merge(df_topics, df, how='left', on=['topic_name'])\n",
    "df_full = df_full.fillna(0)\n",
    "#print(df_full)"
   ]
  },
  {
   "cell_type": "code",
   "execution_count": 95,
   "metadata": {
    "collapsed": true
   },
   "outputs": [],
   "source": [
    "dfList = df['freq'].tolist()"
   ]
  },
  {
   "cell_type": "code",
   "execution_count": 63,
   "metadata": {
    "collapsed": false
   },
   "outputs": [
    {
     "name": "stdout",
     "output_type": "stream",
     "text": [
      "chinese                   0.3741999864578247\n",
      "vietnamese                0.07109999656677246\n",
      "service                   0.06239999830722809\n",
      "reviews                   0.06159999966621399\n",
      "amazing                   0.04450000077486038\n",
      "good service              0.034699998795986176\n",
      "greek                     0.03359999880194664\n",
      "time                      0.031099999323487282\n",
      "general restaurant        0.02710000053048134\n",
      "money                     0.02449999935925007\n",
      "montreal                  0.0203000009059906\n",
      "coffee shop               0.019700000062584877\n",
      "airport & delivery        0.01810000091791153\n",
      "vas legas                 0.017899999395012856\n",
      "parking                   0.016899999231100082\n",
      "grocery                   0.015599999576807022\n",
      "na drinks                 0.014299999922513962\n",
      "japanese                  0.013199999928474426\n",
      "good taste                0.012400000356137753\n",
      "smell                     0.011500000022351742\n",
      "pubs                      0.010499999858438969\n"
     ]
    }
   ],
   "source": [
    " for topic_number, freq in review_lda:\n",
    "#        if freq < min_topic_freq:\n",
    "#            break\n",
    "            \n",
    "        # print the most highly related topic names and frequencies\n",
    "    print('{:25} {}'.format(topic_names[topic_number],\n",
    "                                round(freq, 4)))"
   ]
  },
  {
   "cell_type": "code",
   "execution_count": 105,
   "metadata": {
    "collapsed": true
   },
   "outputs": [],
   "source": [
    "reviews_filepath = all_test_filepath\n",
    "\n",
    "test_df = pd.DataFrame(columns=[\"topic_name\", \"freq\", \"bus\"])"
   ]
  },
  {
   "cell_type": "code",
   "execution_count": null,
   "metadata": {
    "collapsed": false
   },
   "outputs": [
    {
     "name": "stderr",
     "output_type": "stream",
     "text": [
      "/home/rlrognstad/anaconda3/lib/python3.6/site-packages/gensim/models/phrases.py:486: UserWarning: For a faster implementation, use the gensim.models.phrases.Phraser class\n",
      "  warnings.warn(\"For a faster implementation, use the gensim.models.phrases.Phraser class\")\n"
     ]
    }
   ],
   "source": [
    "%%time\n",
    "#function to loop through all businesses and convert review to \n",
    "if 1 == 1:\n",
    "    for busi in list(range(1,len(all_bus))):\n",
    "        # parse the review text with spaCy\n",
    "        parsed_review = nlp(all_bus[busi])\n",
    "    \n",
    "        # lemmatize the text and remove punctuation and whitespace\n",
    "        unigram_review = [token.lemma_ for token in parsed_review\n",
    "                      if not punct_space(token)]\n",
    "    \n",
    "        # apply the first-order and secord-order phrase models\n",
    "        bigram_review = bigram_model[unigram_review]\n",
    "        trigram_review = trigram_model[bigram_review]\n",
    "    \n",
    "        # remove any remaining stopwords\n",
    "        trigram_review = [term for term in trigram_review\n",
    "                      if not term in spacy.lang.en.stop_words.STOP_WORDS]\n",
    "    \n",
    "        # create a bag-of-words representation\n",
    "        review_bow = trigram_dictionary.doc2bow(trigram_review)\n",
    "    \n",
    "        # create an LDA representation\n",
    "        review_lda = lda[review_bow]\n",
    "    \n",
    "        # sort with the most highly related topics first\n",
    "        review_lda = sorted(review_lda, key=lambda review_lda: -review_lda[1])\n",
    "        \n",
    "        #convert lda output to dataframe and get topic names\n",
    "        df = pd.DataFrame(columns=[\"topic_name\", \"freq\", \"bus\"])\n",
    "        for topic_number, freq in review_lda:\n",
    "            df = df.append({\n",
    "             \"topic_name\": topic_names[topic_number],\n",
    "             \"freq\":  round(freq, 4),\n",
    "             \"bus\": ''.join([list(x) for x in bus_set][busi])\n",
    "              }, ignore_index=True)\n",
    "        \n",
    "        #merge with complete topic list and replace na with zero\n",
    "        df_full = pd.merge(df_topics, df, how='left', on=['topic_name'])\n",
    "        df_full = df_full.fillna(0)\n",
    "        \n",
    "        test_df = pd.concat([test_df,df_full])\n",
    "                       "
   ]
  },
  {
   "cell_type": "code",
   "execution_count": null,
   "metadata": {
    "collapsed": true
   },
   "outputs": [],
   "source": []
  },
  {
   "cell_type": "code",
   "execution_count": null,
   "metadata": {
    "collapsed": true
   },
   "outputs": [],
   "source": []
  },
  {
   "cell_type": "code",
   "execution_count": null,
   "metadata": {
    "collapsed": true
   },
   "outputs": [],
   "source": []
  },
  {
   "cell_type": "code",
   "execution_count": 98,
   "metadata": {
    "collapsed": false
   },
   "outputs": [
    {
     "data": {
      "text/plain": [
       "\"This place is so good. I work nearby and come here often for lunch.  Their menu is 7.49 for one veg & one meat & rice or noodles, 7.99 for two veg & one meat & rice or noodles, 8.49 for one veg & two meat & rice or noodles. They also offer salads (7.49 I believe).  The rice is amazing. They have a few different kinds, but I have only tried the Jambalayan kind. It's sort of spicy but SO delicious. It is, in fact, so good, I am not willing to try the other kinds. Instead of rice, you can also get noodles.  Their vegetables include home fries, corn, mixed veggies, zucchini, mashed potatoes, and a few others. I have tried the home fries, mixed veggies, and zucchini and they are all good, but I personally like the home fries the most.  Their meats change on a daily basis, but they normally have bourbon chicken, blackened chicken, honey glazed chicken, spicy beef, rainbow shrimp, a type of fish (I forget), and a few other chicken flavours. The bourbon chicken is amazing. Ask for extra sauce over your rice.   The women here work fast, and will give you a sample if you are unsure of what you want. The servings are quite large. I find it's not the regular 'greasy Chinese food' you normally get, and instead, is probably decently healthy (you're in a food court, it's relative).   The drinks are a bit expensive, so that's why they get 4 stars. If you can, buy your food here and then go to KFC or somewhere to get a cheaper drink. I also wish the meals were about 50 cents cheaper. It's still good food for the price, so I won't complain too much. Definitely give it a try.Came here around 8:30pm which is when they start offering their end of day special.  I the Blackened fish, battered shrimp, mango salad and fried rice combo box $6.29.  The fish was very good.  Nice pepper taste and moist.  Mango salad was good too.  Shrimp was over cooked and fried rice was bland.  If you want cheap Cajun and Chinese meal then this is the place for you.\""
      ]
     },
     "execution_count": 98,
     "metadata": {},
     "output_type": "execute_result"
    }
   ],
   "source": [
    "all_bus[1]"
   ]
  },
  {
   "cell_type": "code",
   "execution_count": null,
   "metadata": {
    "collapsed": true
   },
   "outputs": [],
   "source": []
  },
  {
   "cell_type": "code",
   "execution_count": null,
   "metadata": {
    "collapsed": true
   },
   "outputs": [],
   "source": []
  },
  {
   "cell_type": "code",
   "execution_count": null,
   "metadata": {
    "collapsed": true
   },
   "outputs": [],
   "source": []
  },
  {
   "cell_type": "code",
   "execution_count": 101,
   "metadata": {
    "collapsed": false,
    "scrolled": true
   },
   "outputs": [
    {
     "data": {
      "text/plain": [
       "frozenset({'RynlRSJ7cXHe1ckIuxbMag',\n",
       "           'DGwDXazeFcD7DByweszpFA',\n",
       "           'XrpWb4vB7-1z26OreeCD2w',\n",
       "           'p4YvOzp42g3JzlXJny8F0g',\n",
       "           '7skIQa_9nrcDU1A5KPJwCQ',\n",
       "           'hloS23Thw57IITw7_DLLOQ',\n",
       "           'xeSE3ct_V9U3_ibcrpb3_g',\n",
       "           '5SI7EJB7QaUjuh7OnFkVUQ',\n",
       "           'rOPj68rUjK9tv84ShWaetg',\n",
       "           'Lij0OcvPD4LAnmklHQpDCg',\n",
       "           'zaotMgByfU9_RnxpTeqVeg',\n",
       "           'gdWy-x5KbCbMrwIwI87mMg',\n",
       "           'eOl6WS3oAjtGZpcXfv8tlA',\n",
       "           'gchI4BdZ76teMX9BsI2H-w',\n",
       "           'p1MZyPUMflxMARQ6I8X3Kw',\n",
       "           'M4Bi2eyelIP9YQuwD7a3JA',\n",
       "           'g03AjjsVjSxfBgzf04FrFg',\n",
       "           'NKx2a3_PQ9c7Ts_A6JxKWQ',\n",
       "           '8RJYiN6asLcEWWysZKEyVA',\n",
       "           'DVJkxZkLKS76Khb2y6XA6A',\n",
       "           'dvbcUnKv2awsIxog7dO4vw',\n",
       "           'PoqEm7BKF_kf73Q1zORnMQ',\n",
       "           'RruVXr3L6G5RplZ_PtDNuA',\n",
       "           'arGo97Zk7YoHbFGKDFUFKg',\n",
       "           'bqMEml5HIFSMo4CPfjlG0A',\n",
       "           'UlI0TksGFiIXtcbtg2KalQ',\n",
       "           'ZyGpQ9k1D0c4xd8k7I_RXw',\n",
       "           'DdwCeMrCPILFZ2cFyN31NQ',\n",
       "           'ZxfjACWhW25vklHpYDMWag',\n",
       "           '3_HrWm4qrzTN0gAC_CrfTQ',\n",
       "           'MAugaG_RkNvT0ojmkTvexw',\n",
       "           'QuIHYWB9l3NtyWETwwpCaQ',\n",
       "           'cY70RdP5w6gxRhY-wZ681A',\n",
       "           '7YuRqwlt_BUBlj8SgdUWZw',\n",
       "           'cKqw4NkMS2iExVOVMuPwQw',\n",
       "           'P0k48-YlKuxskB7ys2Ir0A',\n",
       "           '0u2xwNy07-z3gv0tpuJX2Q',\n",
       "           'BMXeJPcosAxfLU-6baO_0Q',\n",
       "           'a6nZdebWiAZ97jync-vnGA',\n",
       "           'SNkkuchbVtUzCwyENcai_g',\n",
       "           'aInRkpnahlx45CuM_mbafA',\n",
       "           'jllOTnaYflB6xCjoKXjkyg',\n",
       "           'XNWXyFgCGaAwvg9QML2Ypw',\n",
       "           'yrdEtp8Z-4QxbiOpPmXYpg',\n",
       "           'ptaEu7aKv1ThePlTk6fyAA',\n",
       "           'wQd7pL2NgKiBnVPaPmchIw',\n",
       "           'Uw4z3M7H4buYtTGBrzFCSg',\n",
       "           'l3jXlEDlVfKj_ECpU7tobA',\n",
       "           'Iu7gtZB3emlPXHas6uw5DQ',\n",
       "           'E-HDevNTu_UIKIx8MA_RMA',\n",
       "           'I6IOs1NVUf3d2OQB4TyKSw',\n",
       "           '6t7mlTVjDA9fhuFAZmVzAQ',\n",
       "           'yY9XOQ1Baozl8HGK4mN76w',\n",
       "           'Zy8Ge56_yyJF69wuF1xCcA',\n",
       "           'bfVpHvjir2G2Z9wVeddw4w',\n",
       "           'H5M7VSequiTztXXdQLcEEQ',\n",
       "           'BKkEMsA1MsRyDge8uwqQqQ',\n",
       "           'GMefGnN17POrLde1PPBzNg',\n",
       "           'TofYqDI2wv8Fki-LV9LrNA',\n",
       "           'PIRkcZcnUV5od-auZtrknA',\n",
       "           'AYt86zH_TpOrtmjU7v4XyQ',\n",
       "           'W7vJi6hwzBNsTdIwePZfUg',\n",
       "           'Jv5NmXlB3XuLR3yk7B8amw',\n",
       "           'zDyv4CoaYvAgQhgr1IK1sg',\n",
       "           'q-zZgXKAQFLEgMp9ZNllgQ',\n",
       "           'vodCM302JJ_P9yJt1WuH_w',\n",
       "           '74PUQMnjFFNCxDqkF7ZfBg',\n",
       "           'totrAkmNqbl56Ncjdoc9wA',\n",
       "           'GHwn0lza-JdaETNbOw98oA',\n",
       "           'MozU1DoDVybr8QmrAy-XDg',\n",
       "           'OF-mx8RSCB0K_XwY1iJjRw',\n",
       "           'SYRHkzfM3E2Pa9fq3T0WTQ',\n",
       "           '7PtwihkfQJrHYCcOkAwwEQ',\n",
       "           'YC1FXuG7IQneHnhbHT0XcQ',\n",
       "           'VzxdHqnu_OLx8md6vpkyEA',\n",
       "           'ff35pl2735rHc5UAK6Z9tw',\n",
       "           'ajjFfYbNbij-msLfX8KgLA',\n",
       "           'PZGMea3EZIG20k8mG1JJ1w',\n",
       "           'SZmm3wOx_fcC2rblUVewGA',\n",
       "           'o-_cQmyr78y49wgRLthgew',\n",
       "           'FwDthqY_Iy0Up0cpTP0AKg',\n",
       "           'j8OUTcN1RG-UCzFUW8oogg',\n",
       "           'mNnivjpQEf8A6pqNChILRg',\n",
       "           'sGNNo-V_NL5YjCHMsJqpcg',\n",
       "           'P3dBcZh_Hmr1wVWFZn2b-g',\n",
       "           't_1myTZfYeEQ07Jr8JEF5Q',\n",
       "           'LFrAZrhpRDcXav1rH0Alrg',\n",
       "           '-iQdfdTpXa3Y-WC5OJGTfw',\n",
       "           'wJYFQrlx-uRmujWM_IDFtw',\n",
       "           'Jbj4VGceJVKXOoN0zQmFzw',\n",
       "           '7qYSXx_SO4W7_PNDqtNlXg',\n",
       "           'GGefrny_-2EBZx4SJBBWWg',\n",
       "           '-9u2uFwhlj3Yq4mG5IweoA',\n",
       "           'VRTF9PAHgczBeOfuiUkBRw',\n",
       "           'hVVi6XHWC-7RVZOvK1WpOw',\n",
       "           'xkiYAerQQXL25legNhVsSw',\n",
       "           '6OhahrmtLGmkUdPfaMck0A',\n",
       "           'Hgcj-_rcTfHIEbHMUpDs4w',\n",
       "           '1Z4_zSITNVQ_Bt027R0S1g',\n",
       "           'iZfeH70e_YFLrURT8WuCYQ',\n",
       "           'lyT7-grqNhAvll39V7kzag',\n",
       "           'F1CCt2Gl6qpOB73mXi5anA',\n",
       "           'Msa288irSAKdZFSROH-Q4w',\n",
       "           'ReaPlORbBQ6UFErA2RDmxA',\n",
       "           'XLA5RQ-Afg-OgeLhSTjabQ',\n",
       "           'UDX88Dbx4l7gIq5Cr7P21A',\n",
       "           'TFsHZsmzvxF1a43WPY073w',\n",
       "           '4DBboC1xv7Lr8KYVAw9LRA',\n",
       "           'ajDnwze3tMd8c_xydIkD1A',\n",
       "           'Lm5xXugCGxDqxD8ZE2MSEA',\n",
       "           'BBFg2FmyimjiR27jO0dpQg',\n",
       "           'm-KkjBgtiRhtXA10_jwh2Q',\n",
       "           'adI5BlJCtvWq2uAwmyndXA',\n",
       "           'axGP6FXAZlBdmdN9juu1tQ',\n",
       "           'QQIwwU1tyOyKwr_sgqfYmw',\n",
       "           'NRn6yqCq3yAh7NtKBt79xQ',\n",
       "           'oH5LF3TLtaMgrg35ah0NrA',\n",
       "           'ODUKIwh0owflBiaBwzpQEQ',\n",
       "           '3P1dBNauEwkToURbq_I0Dw',\n",
       "           '7j4JCwpULz9oYb2eQb2dNg',\n",
       "           'DlKuPBPEvU2ynAYzZkmH2Q',\n",
       "           'DPT4j7kxjLt332YMwFLkww',\n",
       "           'LeqYXawjMwTf9x9Hx73R9A',\n",
       "           'dRT7tLyakasIjJ4B0Fm92Q',\n",
       "           'sZsJooAzpKqOvDysphkqpQ',\n",
       "           'cMHgw40ldvUBxTYNeZjHQg',\n",
       "           'nW27OMU438BjZF64lj97sQ',\n",
       "           '6RarrMiDbW5fnLilBJrXaQ',\n",
       "           'QYio9HySny2cMcIs8YjMCQ',\n",
       "           'K7puWAFeW3binbhnMWxjPA',\n",
       "           'EIL41z-hvVCeYHqfA9PyWQ',\n",
       "           'zMdpFu7hpvrHChR7H2XCfA',\n",
       "           'mT28BMqq4HK-E6Bxr6o1PQ',\n",
       "           '_xTuaNX0WRn2hdxmWCgs3w',\n",
       "           '1NbNo3v8XO9Sze_nqG2fyg',\n",
       "           '_HwyxfsmFIOlW3xhAOcFVA',\n",
       "           '5VeKrLlQdJjMmKGwBBvMmw',\n",
       "           'ALaBtHzn3ekGDJQoCoQgOg',\n",
       "           'irYtMNk757SfP2xpFzwJYA',\n",
       "           'ltWlvxGu8iKjyYxLIZAYXw',\n",
       "           '5X9wKjn8KneOKqemUTjB5A',\n",
       "           'OxS3vO6dFwkCz_Zjl71M-w',\n",
       "           'G6V99_DIFF10uTDSmTklpA',\n",
       "           'DGqxvWTexSLYN0u86DCpuA',\n",
       "           'np8vGHEpwEOgx_yktx2hnA',\n",
       "           'OEzqttGONowKfFTv6r4Lxg',\n",
       "           'fdLR0YxQUHuxxA-GkkHqPA',\n",
       "           '6MomUPA3w0JicziqJLumQQ',\n",
       "           '9ETbjlbD52Q6PKXjIcTqUA',\n",
       "           'ZliwQrjUnAosBLM8W_bsGQ',\n",
       "           '8pSKJ_qRUotjFl_bjH_GQA',\n",
       "           'i3jZgPgXPtXbZIjv7obagQ',\n",
       "           'kKfX_V-CouF9XyZaRh51Aw',\n",
       "           'dgiHRAOtyfa6Z5dO_4qh6A',\n",
       "           'bTujyZXBsirvchqjVP_S7w',\n",
       "           '9iNZ2o5jt-zpdMoAOgd7_g',\n",
       "           'rPL_DU1Ya9KPR0B3lQrwlw',\n",
       "           'ibNxVcSE7peefvDUGEFvzQ',\n",
       "           's2gjJKptpkmwSXYRtfptZQ',\n",
       "           'azzs6H7CcIHt_acKJF6UfQ',\n",
       "           'pjtqvDEZgadrb37NV4gqzg',\n",
       "           'mrzGyreS9XKOOTMo9LnlSA',\n",
       "           'Zvlj-r49ftG7FNCpxKoUiA',\n",
       "           't72DAe7q5iaQLlQrdgpaFQ',\n",
       "           'N3Y7EipiFIvUqN9ufL5Ghg',\n",
       "           'P9srGF_edclaYfYZjy_kgg',\n",
       "           'btkSG9BTUOIqNCx-LLbBZA',\n",
       "           '4POPYEONJpkfhWOMx_PyGg',\n",
       "           '4Bw9XffSa0AMy2SrNCS2KA',\n",
       "           'i2hPnUeiCzDyyyzLtIWqgw',\n",
       "           's5v0gnmwCasyYuLR7-qy0g',\n",
       "           '8SWZLawwzqwzbXpGQS7gBw',\n",
       "           'M4RwZL5bTBTwwbVcoaDbtw',\n",
       "           'sw59mtmBEKv5Wgn-wn3cEw',\n",
       "           'jo4nS-avhKux4IFwFCsrvw',\n",
       "           'Z6ezEudsHeYzqKCj9vWUww',\n",
       "           'VfWX3UCKvUnVktdOuR8TwA',\n",
       "           'c98EjK4wKpKrGrdZibPq2g',\n",
       "           '126Ji2PPdKL7gANDpYMMww',\n",
       "           'q-FFEFn4gHlM3kv2BLuYkg',\n",
       "           'jAl7qblSDlPoQYp5L3f3Ow',\n",
       "           'tY8SvyCXjfJ6OAW9wcXDhw',\n",
       "           'fgrMJzwI-AcdvhNZgFCgvw',\n",
       "           'ewsYllWspvnP8aP0C4ctLQ',\n",
       "           'SGyQqYXVq2Rck8ipEmJKmg',\n",
       "           'lctxueg7yoa2OQUeq3Ws2w',\n",
       "           'l4pAkHCVUKAcDvo-iNSbYA',\n",
       "           '-7d3UqQYYcBxbDH2do86sg',\n",
       "           'ELIINdJ7w8FcfcGqoGbPoA',\n",
       "           'WiLKkmQu_dlTaAxEObG7lg',\n",
       "           '26t8OwTtNwxpsrPfsELvKQ',\n",
       "           'fpM-O9Ul62xizBq9YNO_tQ',\n",
       "           'SKR7zeX_eTngMmE4FjCZFA',\n",
       "           'zC3SVx1pfr1WujB5a6GqTg',\n",
       "           'k9pQa-48qARibpa-Yf0xYQ',\n",
       "           'zjZbVmI5FGQflHL6rRMxoA',\n",
       "           'tQ-BmlXNhaykObSzU6xujA',\n",
       "           'OyiOg9GYKzHI19EbnWqL8A',\n",
       "           'U8FC3Z_L_tHEUIvkwSSAXw',\n",
       "           'vtKHBhv3yG_M035fTvcD_g',\n",
       "           'O8Nh1NB9Gbtq6xjd9oeI3A',\n",
       "           'JlQsOCa-UPw_Gu1MG7jmig',\n",
       "           'pk6-Q5vWGD_B2kUg1Lagng',\n",
       "           'ps8lgiZlaV3pir3T0qVOyg',\n",
       "           '-u5t4MPiqDernXYlwdOPPg',\n",
       "           'URf61OrDNrpWICL3XHXvmA',\n",
       "           'TgTiw8lMYoRNreSeYN9qWg',\n",
       "           'QhMhM3Mhokv6V-H0MRuYTg',\n",
       "           '_QySOnv3RBmL7GrbJ6beSw',\n",
       "           'IQnUxhO7oieEP7-5ZVJ4uA',\n",
       "           '2T8mj5_2lYL_ZS4r8xMwMQ',\n",
       "           '2bYIP52sBrmZoVzziH2kfw',\n",
       "           'CzcfYhCbzPoVEgVZfOgw8A',\n",
       "           '_gO1inMQhfXlK_S46SgGJA',\n",
       "           'rMCRX4dUo2BmOIwcf_Q0SA',\n",
       "           'odVKlMYqb4FHJXManv-VRA',\n",
       "           'Ps7wKLxW1WA1rzwvp3myVA',\n",
       "           '0PCBt3JKD6IooicImKNBzA',\n",
       "           'Ghn4p2M-TsuSXORZxO73Yg',\n",
       "           'FX4iqgJynPkfNFlkMnqUlA',\n",
       "           'FxKKhsjjPNNH3KWz8TEXaw',\n",
       "           'zWo2a6QPIuC-sSJURJ02Hw',\n",
       "           '1mdlcBxm7CThUP6OzbtXJA',\n",
       "           '6-AoulGwzWsmUe2IEGq3EA',\n",
       "           'O85SFzter9loSIy6fHM9kA',\n",
       "           'u0wSFmWfg7IFJRl-WdSrNQ',\n",
       "           'iBt37-7t5GP2ZRT81yHgew',\n",
       "           'qkffyIcgCbYkFqiKwjEzFg',\n",
       "           'M9es_YFlqEGIbWd87jFP9A',\n",
       "           'LpVNpw2-Bn9iHVON33auKw',\n",
       "           'ETFKj1VSHn5zTNddOz6FRQ',\n",
       "           'WszGD6vAZEwSKijE0UfB4Q',\n",
       "           'MzDdDpDXFyqsWTtfXrZ15g',\n",
       "           'axX1hO_lEn9C-na3mMN4Aw',\n",
       "           'UC2J3v00-n8WE34BGs2HEw',\n",
       "           'FkdG2Qsh0V2UmrEOn_ImDA',\n",
       "           'CA-kGPafhQ2I7BTmq7ZQng',\n",
       "           'ws09HDqOIfyKMN0TSp3YKQ',\n",
       "           'z4K95Y4P5nMrtJiDtXWDYA',\n",
       "           'LBVNBYNgopam1CzqPUPVvQ',\n",
       "           'Gvox18F9QxsSS9qG2O8E-A',\n",
       "           'vtruD2u_TSwJgJlOeBXp_w',\n",
       "           'YqSy_XbJaJ9-PjWx4XA2nQ',\n",
       "           '1wAIVR71cLfupzNsk13Ryg',\n",
       "           'NEJBlKEqDDll567f-mf1uQ',\n",
       "           '2xvy27yu7OmD1DRglmZxfQ',\n",
       "           'OzRGWW5R05kC0pQyUHX3lg',\n",
       "           '8kKTZ0TzLpuPbk8eNGBEGA',\n",
       "           'N6tJKe0h1NJgVm86NDg7ug',\n",
       "           'STukQhp01a__zTsHMBiyow',\n",
       "           'BgKZkKE0Xd4Lqd6QMSK14w',\n",
       "           'ibWJKyFwzm3K2UHSlc8EGA',\n",
       "           'upI-oDFUBr_P9Q_waV7rmQ',\n",
       "           'goJoOFrrwYcXn1DESHPJCA',\n",
       "           'nkubaPIxnt6ZYhjKsAe3yg',\n",
       "           'tS58M3ksle_MHc_vn4VgRA',\n",
       "           'cF98fzqrMnikhXhuSz6ruQ',\n",
       "           '6g0knzKWOR9XYLroAow5-Q',\n",
       "           'ipM9uibOguP7Jgfpo5d9Gg',\n",
       "           'gECTGhoToWi4PPxhSlJ40g',\n",
       "           'dpU5-xuWm4tCbZ1m3yl2Dg',\n",
       "           'mcgOFoQK0r687ImGmkiGcQ',\n",
       "           'mcC1MqX2bhvTv4pEuLdlpw',\n",
       "           'l_kfIryIyF_hcQsVxtmGMA',\n",
       "           'dOEMnyvSk8njKJfqsDaqMA',\n",
       "           'RvZoGW4Kxw7fJ7IO-diIWw',\n",
       "           'UahuVyihXGTLCunsiUS9Wg',\n",
       "           'ZOmf-3NN4Z59b2Fw6VAM7g',\n",
       "           'w0f2Hpn1Yf2TwoykTMoOXA',\n",
       "           'ElFjivhz41XfFiOogtTCvg',\n",
       "           'CTCD7noPctNFWROCL8ppSQ',\n",
       "           'Gg3dRjYOcfR7C7L97p0kzw',\n",
       "           'HKBmxJE8Uvh5x_qD-KK9jQ',\n",
       "           'NQRm_I1FK-r7xd1tVRcb6g',\n",
       "           'A-IqLvBfU5Gr_b9HVLETTw',\n",
       "           'x8EXXJpcbrIeaVefej2aJw',\n",
       "           'dizdLoOk0GMaSS_qQAuklQ',\n",
       "           'E0iHvHraTa-t6ka9rYL8uQ',\n",
       "           '0IbboCQAEQlROAv5PKKO_Q',\n",
       "           '_6agShdUe17ftw_xHo26IA',\n",
       "           '4VArfI_AVEfhqa1cGUBChQ',\n",
       "           'L3Wbv_0hHpW1Izi2li6Ugw',\n",
       "           'akBRGfRBDSFJ_koSZn-LVw',\n",
       "           'zsQk990PubOHjr1YcLkQFw',\n",
       "           'Iq7NqQD-sESu3vr9iEGuTA',\n",
       "           '05PTbx6aKooHkL-73PkzIQ',\n",
       "           '3ENOCklTvW26cONNkScJ5Q',\n",
       "           'LYBimndA7OQQptmaJ-Eipg',\n",
       "           '8XDnMNPIhVnupA3JtzSedg',\n",
       "           's1k42BjFaV47wXzh1Ub5ZA',\n",
       "           'XZHFaYIxGpWUX3SShfEhcg',\n",
       "           'dgTCrIlHmwijcBbOeh2aHg',\n",
       "           'ZMIcuo-aQja0ITk4-TU8Jg',\n",
       "           'qs9nL2T2guSLEudFHg71mw',\n",
       "           'PbIjlAXsM99Km2SwrDw4aw',\n",
       "           'lxlwz6rF3psUP8FBoU-Vgg',\n",
       "           'NDnRT8QPfDUq35fyhvOvCw',\n",
       "           'FgfXjEiXhb4S9Ap1WR4pYQ',\n",
       "           'u2OWmQOVGFBF_jVwuiIveA',\n",
       "           'D_ZZOi73Kp_fy8y5DFJG5Q',\n",
       "           '3vg-0VwYvK_rss-562_DiA',\n",
       "           'nqiTujxNtEpA8dPATEQRrg',\n",
       "           'wBwXSItcxp2D5Kf8taZDNg',\n",
       "           'EqFMzp3qlTuVF9UMNy9Smw',\n",
       "           'ktX1OpGJwJx1VgUNI7DYaw',\n",
       "           '7OQ7lhIsjLSmf-3012LAuw',\n",
       "           'sIHI1F0AkrVtJRiAr-DgIw',\n",
       "           'ubEa6XiMt6gOJ9xsUkbpEw',\n",
       "           'Tc-u6Gfbe78r6cUqWi0AzQ',\n",
       "           '03XOAwrGH-a1BgLmrmv9RQ',\n",
       "           '3lX1V-2qaoEqYgC4oAg2Rg',\n",
       "           '28adZ4lsuUeVB2aWzohK9g',\n",
       "           'UvddiOxKjefSvLF0Xp2TDg',\n",
       "           'bpswWvIrYkH8jbWfJWdzUg',\n",
       "           'UDucqwO8PwUOwcmUsJ-gOA',\n",
       "           'rydwhaJPcQhxHlHO0PMZMQ',\n",
       "           '_Z3XGVbiDn1VbgETp1pwLQ',\n",
       "           'EqUlVPI8t9A96BIvWdW1pw',\n",
       "           'mseBBgYcqyv6T1sfrXI-XQ',\n",
       "           'Eau1XrNg91XSzJRn_sCWTg',\n",
       "           'dEECykRQIBd_QXAZ0rBeYw',\n",
       "           'aWu1homxB6lciXU6-ZlpSQ',\n",
       "           '-T0PYhlC2vrXoG2L7LjCGg',\n",
       "           'GEw0gKy93o1Jje2WxApL9g',\n",
       "           'B7rX9AReRGFQQ6abuq6d5w',\n",
       "           'lvFmpUptBSGxVQBig0RdpA',\n",
       "           'sH-11zOhWubXobEeuMo2gg',\n",
       "           'nbVtxapTeq5HELUeNRgc6w',\n",
       "           'ocpvN411IJQk8X8_Sk6DFQ',\n",
       "           '0lgXb6kIisS0ONXiwr6_jw',\n",
       "           'e2jGy1NTv4mOms4wquE_lg',\n",
       "           'FG3ja8Wz_ukRkTL-seRBFg',\n",
       "           'vdZOiZH9sTseyll44waMuA',\n",
       "           'phslBiJbYRg0xxXUkk1baQ',\n",
       "           'hCNYJVLeOBtPzODxLHCjsQ',\n",
       "           '1kytABjYhj3naF4vLQEbYQ',\n",
       "           'DrgGy-Kr2I67Lr2qq_ANbA',\n",
       "           'KN0gPRzDvA6uVYims2KA0w',\n",
       "           'nLcg4vRa5HqplGuqxl_qrg',\n",
       "           'uarJTrBc8VsXlZm9qlQVAw',\n",
       "           'S9tvVJeZRPHZOQKyKBwMdA',\n",
       "           'aCoRJp8Zty-hY3YaHqIItA',\n",
       "           'Pb7Y3PeIq__NQk_uSgG6Vg',\n",
       "           '8MXlF26jvhrfGA9rcua2bg',\n",
       "           'C0agyAmn_iH_4WUfBdbZvw',\n",
       "           'PxnFHmhKmmxz70gsuQ5y0w',\n",
       "           'jTZYireK6pnPb6Rni0jygw',\n",
       "           'JFxSgJXC7siDE4ThlEEzMA',\n",
       "           'bRAQFWRxN4lh9WogWxLJ9g',\n",
       "           'N9jmzeBT-6vQxbpC9yl8Aw',\n",
       "           'bPfvv7TvMLxxA3__VomsxQ',\n",
       "           'cJMgxJ_GDg0a1KEkXPVaug',\n",
       "           'o8UGCgqz6kn3SrISAgJ_Ww',\n",
       "           'xlD0MntJ8B0eP_mZJSpggA',\n",
       "           'vclxHtRUZja24QFmsXdKTg',\n",
       "           'kzbH1_l7VTSfFFcwTqY6vA',\n",
       "           'O75Lh99ZO6HCIqVVR-p9wg',\n",
       "           'lYbyy6TTmpk_mlYuYAWkDg',\n",
       "           'i7R4918m7TIt7UwZwT67KQ',\n",
       "           'HxLaiPWJ0YTeqhQerHfcTw',\n",
       "           'Sc2_TGgW-qBj1nkkxBkeQQ',\n",
       "           'dCVOJZkaV2V0EwexjEzLmg',\n",
       "           'r9xW1wXycs4MPpqB-Vknzg',\n",
       "           'pfg6zkYnNvFM7Tr1TLzBvA',\n",
       "           'oSrTdvRGrJ24ofcquIFoPA',\n",
       "           'FgehNEKMgC5VW17bftRroA',\n",
       "           'Ud6M1VKg9tkAnsznVBAKgw',\n",
       "           'oc4wwBIIkxlgW2tZKPq89g',\n",
       "           'LGlgphMiiSDNlwJAyl1QCw',\n",
       "           'bRmb81XDG3E2SOHARBLTog',\n",
       "           'bK70PtUK5nGGLzP7tChaeg',\n",
       "           'FlOvCwPUrRCicfbpd1tUIQ',\n",
       "           'jdaqp6fW0TqP2TdHatB7Pw',\n",
       "           'TE_Dq5MYAItLcIWfJ2no4Q',\n",
       "           'DIUK7_PjGCOMcpS2fBiALg',\n",
       "           'lsopUiYOltljpfYcPq9Sbg',\n",
       "           'jb6yNcKwUDsIQOLYmJCcyA',\n",
       "           'kpuMEGNsjD4R5VnJa8IWTw',\n",
       "           'MOTPFzYqWF2OYzJjs1h15Q',\n",
       "           'LWqhTRCZW7amUTa_JYHtQA',\n",
       "           'JEoi9ITPZM58EnZBAubijA',\n",
       "           'KbIoL9bMYzCZDWxpWTcx0g',\n",
       "           'oZPvLHuePy8u0H0xOmaGZQ',\n",
       "           'e-F4OrM3O-5gIM_LvhT7Sg',\n",
       "           'napG4l5SlDSkXQcgJr8l9Q',\n",
       "           'u1m3qTIrhZhwNjMT6n-M8g',\n",
       "           'k3mCkkv_r8plkz6byKcLlQ',\n",
       "           'hqvqLihniz0ynit9c36JHg',\n",
       "           '6MtzIWnwN6q4Swgf2M8NLQ',\n",
       "           'utR8Ei5_c2CRAIffpYtdZQ',\n",
       "           'BIbY6hbhyTAs3_dxbETc6A',\n",
       "           'mPbD-VWOrkvYqPL4ifUhAQ',\n",
       "           '4K5NUsinIgtq-yuxdp2HdA',\n",
       "           'HT_eV18wKa8WzCz8UsTVZA',\n",
       "           'aDYj8TDy9NtG6q8GEBD8jA',\n",
       "           'qk0UvAT-0djATrPd6RlZ8g',\n",
       "           'xC8bjrXzAvKfpdXVXTXHFA',\n",
       "           'KuDmCggBq6zwxc8CSJxLdQ',\n",
       "           'iLPBZ_ic0LyiviqfXbkjwg',\n",
       "           'OBZH-vDgGIpjmXCGrcIQDw',\n",
       "           '4xtU8eji_G0Yepj3D-8I6Q',\n",
       "           'S4QVuwfzn9T2-torVnW37A',\n",
       "           'cKXMA7AoyvrFKaZzNOp0nA',\n",
       "           'yuovcAoXHuUERpOTPH-y_w',\n",
       "           'N_TYkatwxieUMJVfMwQbvQ',\n",
       "           '9S5hEYGopJF1I6VglhkUhQ',\n",
       "           'GatUelEiMO2tShY16y6Zrg',\n",
       "           'NZ3A0xYdnmIG68mZeZV6AA',\n",
       "           'AM0J_Zqno6HS_w2WMEsxNA',\n",
       "           'jQbKG_HJbcyiyOdXKC2Yow',\n",
       "           'qcOXimJzxK9S1L0OhCwzPg',\n",
       "           'fPmPROBqVT8-D-aTc6VBEQ',\n",
       "           'rMtphJbzFYA3eLx-AT62vA',\n",
       "           'guxFz70j71fTX5NGLOM4yQ',\n",
       "           'AkVPit-bonP9ctXeCSU_sg',\n",
       "           'z-IqYofY2A8HdaOKUFKNVw',\n",
       "           'sjiTzC2aoy13iPuIvk37Ew',\n",
       "           '46ud6EO8tIlgnLnhLN2Tvg',\n",
       "           'VqutAZTwEgFj7FNoTjk3CA',\n",
       "           'YoDFW8Bjbm1SK63q6JHn-w',\n",
       "           'r4HkiC71nB9k8Fe8zIORFQ',\n",
       "           'h7uxML49NQ_Wj-7zk0DSqg',\n",
       "           'OogWf7ikES5VofPrC7epRw',\n",
       "           'uCp2K_Gd5Kv4--WvB4Dtcw',\n",
       "           '_DOjM_VGK-ojgjoY6esOdg',\n",
       "           'IjyNFVZPLVej9de31KGTxA',\n",
       "           'UNPkYPoR-zPfnpTL6GVgzQ',\n",
       "           'yxAkKSctlxeJpKuiLoDqBg',\n",
       "           '4gAdbWT_B7D8HZBmsvr84A',\n",
       "           'ifE1hPph-3tdEhWdScSysg',\n",
       "           'ZfiU0tULRlH_DasCpi9Sgg',\n",
       "           'm5j14qH-kVR9AUkd9rPn_A',\n",
       "           '3AR0coEEReWxcbMxgS2DQg',\n",
       "           'MaqIoGwyD3K3b2i0VM8zOQ',\n",
       "           'nyySk4PNw04rIgEwmzFMfA',\n",
       "           'I4sn_9Nx5KTrMTKaDADQ_Q',\n",
       "           'YBu--ie7mLv3SC-ZRm_wyA',\n",
       "           'JCmnEGCE5GPQeseGDWOqeQ',\n",
       "           'upV1mQ5v0wcKUuA2AY85WQ',\n",
       "           'OmPHtR7w8hg2Z3lf7VALxw',\n",
       "           'fwqwoHhI3wnXUpfJ0P2NZQ',\n",
       "           'OdLYPceRdj07gC378sruMw',\n",
       "           'KWJZG3xsdwhkSVq3loDAYw',\n",
       "           'RckeGBEPQpGv00ivf6tcgw',\n",
       "           'gHoP4eJimaMltfUlp6EP4Q',\n",
       "           'cOZLg1c-UcB2Yj3baQDKkA',\n",
       "           'X8KLsPEgLe4FuJwRU0tPag',\n",
       "           'tyvFhEcccdYa74IK0_q-kw',\n",
       "           'AlfUYJgaZkKb7uTDUMMtLQ',\n",
       "           'ryHP2wazRMgY4j4TkH7-Bg',\n",
       "           'H6DatYLpe0lYdYb37JpMyA',\n",
       "           'S5deRiFlRPXdFFMGBGRE1g',\n",
       "           '8CiXTES9q3VEp4tCrs2qtA',\n",
       "           '4Ua5_CI0rKq3ar5hUTUprw',\n",
       "           'A3GNbAK6xMUjb0MM3Baggg',\n",
       "           'UMZeduvRW6bdpWMjvJA16A',\n",
       "           '63iOXcDVSr8Jm0C8mjzo6g',\n",
       "           'TH6mQqMfKATGjuW9SfoVSg',\n",
       "           'gGeC3-QX-ZH1kxnpmUwQ9A',\n",
       "           'am_CSSt5d7C3pIEjJpXvQw',\n",
       "           'q_c2ZvPJJxYEFPoWMKY2vQ',\n",
       "           'YjGduTmr7wTF_lPAY2Hpng',\n",
       "           'FdShh2s9nfJ1XwXqUqWrrA',\n",
       "           'MaI_EevMbWBUnK36L4pAng',\n",
       "           'q0wR-NrARFLpZK98l0YDMQ',\n",
       "           'ycOoopjieoy3nxq0iRP8hQ',\n",
       "           'OfbcjpiiBKf6Bw6W4nlL0A',\n",
       "           '7JkPRXmtRmspIX_k3zMNvg',\n",
       "           'Ztv0CWB2e3kNwfJvSGyoNA',\n",
       "           'cZbqG53WCsEyYHSocNZdLQ',\n",
       "           'nplCF1hjAn948EMAaJAazA',\n",
       "           '3sIEwr4LPEruEt2q8ImypQ',\n",
       "           'KK5hbqeLigHDYYfseCADhw',\n",
       "           '-LfTBo0oa_uD454ScEW2XA',\n",
       "           'TgjpcqIhZ4ONmp1AaxDLPQ',\n",
       "           'FmMeODTIPWj01pzNpHw9ow',\n",
       "           'hZrFndKcerOfDa3-APbIGQ',\n",
       "           'pquz4eXd3uh-BauXiIDotw',\n",
       "           'prHnRsgY-PuM7vxe8-RwEA',\n",
       "           'cXRCxeaKHyOR8SnrDXv_DA',\n",
       "           'fMOZUIQQrQH7bFi5wA7jlQ',\n",
       "           'RrSIsGVVLWY328bGjQnZaA',\n",
       "           'Mk77MGntQHU8ZYVofKBJ-w',\n",
       "           'gOzmhf8DSOlEQk_souFJOg',\n",
       "           'gNhxs9nPUSkVBSSIRQOgaA',\n",
       "           'omeNgo1ws1vEVOfWmQfjmg',\n",
       "           'JVzuemMrNWGlhTX1XNzSfg',\n",
       "           'P87jyPn6MkeO-zo3EZWL8A',\n",
       "           '_WYb1KDwRxwWfopKVWMYuQ',\n",
       "           'UO9uwYxH8VfLrhFlZXTMww',\n",
       "           '5-l_zaYVEG-ft0cwyhWpyA',\n",
       "           'QIXz6e0SZ4okLBFBsO79_Q',\n",
       "           'TeBQU-fooweqExAk2npgKg',\n",
       "           'PR82wjqOPSmhEwRI1Kw3GA',\n",
       "           'Fmij544FE1iOruoxI41kew',\n",
       "           '6eUJ3BbrP7tsEKwYhMI4_Q',\n",
       "           't_ayKppVhxr7oDuz66oJ3g',\n",
       "           'Pprj3lMHpSm_Q1Lw_j4xdQ',\n",
       "           'k3WyM7vM-4nKxJQaFBdwJA',\n",
       "           'ZYvU_i4tv4yWeXHOMLAwlA',\n",
       "           'qaaixH75PIWmbemDsDc6Qw',\n",
       "           'XFFRWQjmc41_5iuxI12xgQ',\n",
       "           '-v8Z3mdbbPs1ljLziHr2DA',\n",
       "           'I1ak-jxX4ybxasogQ09kQw',\n",
       "           'q5viyMO6EtJMmmarb4YmIA',\n",
       "           'AOrWjg7SjqrtUtp_sw6MrA',\n",
       "           '7_Eh1VvtKPmQvYNB1OTGWw',\n",
       "           'aFqPf3gy0C7SvkB3iklE7g',\n",
       "           'H45fQ69_8DpWz-yB9oPhhw',\n",
       "           '-BvX-RoDZVobhnL00XW1dA',\n",
       "           'WuiX9mOytF_8TXrR4ERQJw',\n",
       "           '_gPnYd3rGKRB6yo2DCcHmQ',\n",
       "           '0htWficVWZV20ATE8cs7YA',\n",
       "           'YunsfM_RlOAGClNM_lZFvQ',\n",
       "           '3nf-a84p8LC41_WAIvJPjg',\n",
       "           'Mj9msHM8Dncb94VV3TdbTA',\n",
       "           'fkXwJHETFfJUc-gu-pyeLw',\n",
       "           '4WGhJKDcOccXhftoAwagJw',\n",
       "           '19S0gFtg5GTX6CkiApJiAQ',\n",
       "           'Jg5a0ltJYBx1tk1kAO0d8w',\n",
       "           's8iea3FVqYDzC8cIsU4C2g',\n",
       "           'WlTeMP8p3m1b3LxkfBllLQ',\n",
       "           'ohYgabP6PqkNsF0vnZUxeg',\n",
       "           'a2IFmm1FTeFLPDG5oP5V9w',\n",
       "           'AZlnpvILz5cEWJifjr2CSQ',\n",
       "           'HHtOdJ96oXiiGihhS8ZWTg',\n",
       "           'O8S5hYJ1SMc8fA4QBtVujA',\n",
       "           '_gnSt_cqn5XMmLuAhTdC4A',\n",
       "           'Ged33xMUz2TpAgzxycGfVw',\n",
       "           'kE8hSuvO6eKtbRA1k541Jg',\n",
       "           '52-omTjba8j2Zo6Eg6_jgw',\n",
       "           'LgroNa-JH5W-wpJACXuz5A',\n",
       "           'JTFFtWy_chbsHTs95yD_2Q',\n",
       "           'VJ46ohh-N7iHKfEX1z7mcg',\n",
       "           'azoEjNRQwdqhaVjyk3UrRA',\n",
       "           'nA3DdgIQVROeQg98YCyeZw',\n",
       "           '8USUyIeN39rurnqCn5cA0w',\n",
       "           '6_JqE5olfHoz1T_m96G85g',\n",
       "           'E6efRRwdSw5W_zOKUwmqgQ',\n",
       "           '0Phpwe_bkn8GdDBcEViAbg',\n",
       "           '2d9yZ11uVa83OEQWxe4vlQ',\n",
       "           'Xl2zyEFXHSHS4Xpo6ja4BQ',\n",
       "           'B2lr7sQv1NDujuD37tTBNw',\n",
       "           'nbigRzkq5xDWi2xkCsXfug',\n",
       "           'yzjQvTWiinB8pmbCMu8vuQ',\n",
       "           '2e5vAEQh3tpW6aaSzhgd8A',\n",
       "           'pLFvCV9SsI8ZbWM_4tVtMg',\n",
       "           '02EYqwh47uVxOaOKrnx8SQ',\n",
       "           'BuS11AF9XSHEShscxQEzeg',\n",
       "           'Olp6N3_CZFlqGuqrrb15bw',\n",
       "           'maLlY0JVsUfHNK6-RUrG4g',\n",
       "           'izNFwY0XMPsmmUDaSzB9ig',\n",
       "           'z2WGmF4fu45kp_jtyuybeg',\n",
       "           'sRQJPvBil5RMLRW03ACX9Q',\n",
       "           '8XjnEhDTUtsJOUWPfbxDQA',\n",
       "           'kz5UANVmPxpllcoLnZBNhg',\n",
       "           'jxl1GXU0MI6DJSbh9907sg',\n",
       "           'aoXb8mDCyb-XbkITiIfYVA',\n",
       "           'uCL2LeNYpYTQX13o1S53Cg',\n",
       "           'L6L8bVljBvWYckGRA3Y7tA',\n",
       "           'PglC8rgguMIlT621p1BLdQ',\n",
       "           'S6pZkoM41a2GWbaxR5bYHw',\n",
       "           '9D7h2xfVJrGkkwXDsnfV_Q',\n",
       "           'qv1GkpAHu6FszLnWt-kojQ',\n",
       "           'SZD6OTT1cc-ZznfAoyKudw',\n",
       "           'SsNwqMQl0tQrZ5MvBVnceA',\n",
       "           'li5_YJhPbd4NKym2ThmY7Q',\n",
       "           'NW0mAXGryP3m-22QePN3fg',\n",
       "           '_zviKOPGw65MAnNjzFXSug',\n",
       "           'vlLM5FWRWu8uds-5y52y4Q',\n",
       "           'SI9k0AIRI8RVgK_sRe83xg',\n",
       "           'RUnq8jOzySCpRa5X64FgJQ',\n",
       "           'I81hDYqQjMaaE3p6KyRMJA',\n",
       "           'ytD9rJ-jcb8zMUCfiYCnFw',\n",
       "           'ukAUNyzUcBA4Su8UKjaJKg',\n",
       "           'YKHCSOBLCHpb5K6GgaabCQ',\n",
       "           'GAPwjahm6fywOttzPCJLNw',\n",
       "           't41_VSBs7akY2POWNtzqxw',\n",
       "           'e1UamnCdP9DdJRF6kOk80g',\n",
       "           'Bl7P1_vtiTfq6fLsEX5Z5Q',\n",
       "           'oQKOijnFplXhmobb9Qf2gQ',\n",
       "           'jF3sWSqa-6TyROZgSUGrIw',\n",
       "           'fCeJ0KNlc84SorKaSnehHQ',\n",
       "           'oljOuU-B7XUNQFPBjed2yQ',\n",
       "           'rI5hRP-34EleLRJWfapK5w',\n",
       "           'Wd312kHBbEccatedK0nNlg',\n",
       "           'qC9ivAdl47BcZdlbW7ffLg',\n",
       "           'JcAfn8YTNnoAUk9nGaioSg',\n",
       "           'grf5Gmn_GAh8ImHTi3HLPg',\n",
       "           'Fy_FojwGrizFhLWoTPxFuQ',\n",
       "           'vYz5pcA2ivh6PoLJtE9KJw',\n",
       "           'w_Cw1-80276SAhHw2LJqFQ',\n",
       "           'wtfWKqj6B_hFCb2AZhxGlA',\n",
       "           'JEVDNF6r9-nNdX9DtiJYFA',\n",
       "           '0D7Z7YRTR1Sw94XMtBycyg',\n",
       "           'e8kK01COAK614-RuKlXHug',\n",
       "           'A9aksp-YGK8FsCN9bXFLrg',\n",
       "           'bZ3-_GQZkHv5YI_zzqLNWA',\n",
       "           'b5uN4oS-VZh8i2ETkZ3-8A',\n",
       "           'g1_t8esXWq1OA1dbtTJBpA',\n",
       "           '3raBavvvua5KBnvOZknKKA',\n",
       "           'rcSam6JBbBXG2SYjJCwJ_A',\n",
       "           'cGtl3aOeXXSZ4xhWiDlV4A',\n",
       "           '0dcNFXs5yMj1n2RtkgIoHg',\n",
       "           'EHhI07dgKDyMcGIRbz7YNA',\n",
       "           'z2CVPfaG8C_rydUZCcsqbw',\n",
       "           'JHTzeOsZse-g3xkUM20nxQ',\n",
       "           'nIsfnwlnS_9TieULU4Z6JA',\n",
       "           'e7207sqC-pSn6GIf31ikhQ',\n",
       "           'oehWJ_dAlzU9C65b7zzKbQ',\n",
       "           'LoB-Ho9DRsNcWkoz_a_vJA',\n",
       "           'ZiTaYmacCUOzaYQ4DSygiw',\n",
       "           'y6rN3pUCfOkq41_m3Bk2nw',\n",
       "           'ZbrVVl1bCyrlMuVkJb9osw',\n",
       "           'XtPizI-UGjySLiQrRuNjYQ',\n",
       "           '7SemopLjhDc3IQkI-JUYdQ',\n",
       "           'BShmKdQIkKmB89fmvOe9Nw',\n",
       "           'oRRU93M-gYqcnes16GuZTw',\n",
       "           'g_5Vc87LzE40nfhFpMOrtA',\n",
       "           'oiLIeEuEDc26pf5q73uwYw',\n",
       "           'GfIvdP-fP5nj9zyRTw8V7A',\n",
       "           '6I715CbaGgu1Wu16ahmm8A',\n",
       "           'p2f4wSD_3Ua_j-uTsS6Zvw',\n",
       "           '37XExTruLjOLqnTERYy8aw',\n",
       "           'QX9_WcbCLE9IG_Aig-1Rwg',\n",
       "           'ikglIr6lytozzOh9KFqurQ',\n",
       "           'Wu_OmrEyhpllBnTNvOYSGQ',\n",
       "           'ulDxltMssBpGIEkC_A5j3Q',\n",
       "           '3XUmcXMoToEFNJQ7gp5UYQ',\n",
       "           'SOXkCLHHPMM32QNVV9VuJQ',\n",
       "           'dGJwiltTg81VuCdHl485MA',\n",
       "           'zoQH5EwgnsUzmBc88KZy8g',\n",
       "           'H_kmGpsFi5siSe6czjtoCg',\n",
       "           'YZoCp2VEeQBHVivrC5G0CA',\n",
       "           'iu-KRfucMNM1j9-EstPGXg',\n",
       "           'zVN7X8mIa24HDjF2NPlL4g',\n",
       "           'wAXYLmHuysYTz8i4VPKmaQ',\n",
       "           'EXd0QOsqz6sAOUjMJba_9w',\n",
       "           'a1XijQUPYYksu8HWk-KtUg',\n",
       "           'L92FWHOSZVuk8wjTloCigQ',\n",
       "           'klls1rEfABAUtO8J0YXSGQ',\n",
       "           'wyCFQRdX2HygoaqgqBu3qw',\n",
       "           'Aes4MuZLnFqglFJNMZxRbw',\n",
       "           'BXx77WXfoAQaJnQuHquhCw',\n",
       "           '62C_hjU5GnsTyGTa_AxhrA',\n",
       "           'Kbm27HFhtj1Twkq01yOlmQ',\n",
       "           'kPwYdRKp1-W1-tUR8iylxw',\n",
       "           'pidzGfl4l7Vw1AcBl9gzbw',\n",
       "           'LkmRdUKz7cKNls3BpKHxRA',\n",
       "           'dIQetmbkXozPh8N8a_RGpg',\n",
       "           '7MMhQfuDtRHWtouYFVvxkQ',\n",
       "           'S2_YSVQlTxu0ABRDEsze7g',\n",
       "           '-cxD1NimFldATDUsN-oa3A',\n",
       "           '0FSH-6mRF7DKjeI98snxrA',\n",
       "           'd16qDWj9zxpi0XGWBjZR8Q',\n",
       "           'FZBOSc21Z4lExHuBuw25Jg',\n",
       "           'lx4vVJndLJjRmZKQNIaXpA',\n",
       "           'vrpW_ZIjHvsAX3ByyeHjCA',\n",
       "           'fuCpY7v9ayBi8d90B1EGEQ',\n",
       "           'KpG24S0VRTvPqNh_qC-wLg',\n",
       "           '3gnQUW3pzKE32RenMfuf9A',\n",
       "           'MG0Ek3-yxtprwzY5ruGxRA',\n",
       "           'DZN44_XFktITlIUec4H69w',\n",
       "           'GmntM9NGYMvAPBJodn9ehQ',\n",
       "           'UVjCWIculD3U4j6gkHHJ6Q',\n",
       "           'N7wlv3nrhDPuDDY8yX6QvQ',\n",
       "           'P3pgWKV7j_ea-UqIaOnvvg',\n",
       "           '9ekvSQibalBglJH0ekuGlA',\n",
       "           'yhovpO3qCb4QaKT7Xm_rqw',\n",
       "           'NInPF38byaGmmWW11O5dNA',\n",
       "           'StSCYcx3VhHnm4k9lxn9Kw',\n",
       "           'nO7BvciHvf3xWXsTHienVQ',\n",
       "           '6fQXFkkw2BUARDa0EzsGnA',\n",
       "           'CRBmtsSkyh2H-U4AAEDJwg',\n",
       "           'x_8nHm0P_F62SrZ2enrwTA',\n",
       "           '3TGxq2LGP0Ma5NDLDFVlVQ',\n",
       "           'Me5FHm24cY34eDD2P0QmUw',\n",
       "           '6a-_8rDeQ3oYBp91pHebaw',\n",
       "           'ZwV28fE5wjdZ5voFMsn80Q',\n",
       "           'K5TteBnAfgj18HRnV-Yy4w',\n",
       "           'ZAo4FA93CwR-hIN6XrgMKg',\n",
       "           'WGu4NkpuGdaUo-gHRO8qxg',\n",
       "           'WS9BUR9E1I6JIIP_OTDkLg',\n",
       "           'KK_ovCevQ9pHRoYazSSsUg',\n",
       "           'd7AtQMYDUh40DeJinidFNQ',\n",
       "           'UhdlNJz_ZNb-m3kF-YLSgw',\n",
       "           'Gk3YpwgiQf47YKkAUZtQTw',\n",
       "           'bxoxAAJGE3VeGgOk-YbISw',\n",
       "           'VGwPrBPlbD24SZAT_b0JBw',\n",
       "           'VEgaaQuYvdD32gjNAjT_vg',\n",
       "           '4Yqjn0n5e3qX5UGQv-hbFw',\n",
       "           'CQDJ2y9sLxc0HfwNO5R3Ew',\n",
       "           'rRj-HQffzSe-2XDVRXRmXA',\n",
       "           'VxgjMl8tQrT4idJW_z8daA',\n",
       "           'RwJGNFavhB1u0zzCDqRxGw',\n",
       "           '2g6x4ISNiMxFnotBuwmZmw',\n",
       "           'nlTOi1bcf_kQYAZw6Fx4Mw',\n",
       "           'xGaptKX4_5cT9lGxwbZsQQ',\n",
       "           'pYL6JqKtqlMNXbWonw3yNA',\n",
       "           'WghhtS-tqDWMh_W2O13CYA',\n",
       "           '8-IjG26VnlXLg1N-0AvHrw',\n",
       "           'OVVN6Zlw1N5WuawCgP1yAA',\n",
       "           'dAmVTQ6ukuLh4UxTmBoRkg',\n",
       "           'QCUjHPu7OF_bqfjnehlQaQ',\n",
       "           'zINKP9rtvo2IUKTZoYJUvQ',\n",
       "           'TNRJvG_R1njEdid-UdCjBQ',\n",
       "           'JjsmIYvWfqwx8qkVK_QCeA',\n",
       "           'OPb0zqBiK4IwCb1dY0bbsw',\n",
       "           '-M9S1wlZTvv6T9EOo5X2Yw',\n",
       "           '2jqUYcKMYZXnpxNTkORJgQ',\n",
       "           'q4v-I9j1v7WqtxR12uEMxQ',\n",
       "           '4C0MGY5bvbk_YubDOW23Cw',\n",
       "           'yVQdrapW00dUE1_r-IC-Cw',\n",
       "           'TYkrdWi3SI-uMmGtV8kGjw',\n",
       "           'Mu4RYS7M0iGpkQ8bgzsEqw',\n",
       "           'A7jbtXYFAZhErOW7xIQinA',\n",
       "           'tnE2pii5EM-9u6iAA1lPyw',\n",
       "           '4hJHSMKyKJRl50k9EM6jkA',\n",
       "           'bEJoPcxx9QbXfXpGqEIVsw',\n",
       "           'R073RHVTWuUc_JabjD0bsA',\n",
       "           'mnOjzFuPJ1YGALDeNDdP8Q',\n",
       "           'FIxZW5OjfBotUouYzyYSjw',\n",
       "           'aN2x1eMGssXd7EnG0kiRsg',\n",
       "           'qthOdVrEBnsxec5atmh83A',\n",
       "           'A7gVn077Eb2B-yIKunLVpw',\n",
       "           'eMCxf71sTckRZw4GVGwtrw',\n",
       "           'mJYzopHZZEXVJJrsue34aQ',\n",
       "           'EW4B5bRjOdYwgRYH2uF-1Q',\n",
       "           'fspp2HRzbg268BYhbA6OxA',\n",
       "           '_63Gyd8nN_tIUrr6bG0zWA',\n",
       "           'd25EAvcnm2MHoY-rZYNslA',\n",
       "           'Xb2m_f8V4gQGblxI5tfZaA',\n",
       "           '2lnHyGbn1Nvbf7iRNDr6wg',\n",
       "           'YufWhkZQPC6As55MuXTU8g',\n",
       "           '5pmZjodq-9PZ0gDn5epHVw',\n",
       "           '5zzuzWbt9_YrL95EIHobLA',\n",
       "           'D5tiB1t8VRQOvvI-zgkq3Q',\n",
       "           'LbM7p-cI0dUCkaUzOyFMTw',\n",
       "           'wEaP8mu9YWr7J8URER0fcA',\n",
       "           'lYppFHq_lmKLfUtQBFOheg',\n",
       "           '3Dv-WQpSmdKhrDKiX9iOkA',\n",
       "           'p5zGRe5qEQ3Dh5XkyzTXPg',\n",
       "           'xdQGIbcFjfc_-1SuPYwpuw',\n",
       "           'J1vEp4AZTPZvdxG9A-u1_w',\n",
       "           'VYUBY9SLdrvaajeX8i3kCA',\n",
       "           '2C5nGjdzF0zMWvD9iVma0g',\n",
       "           'u6sbx5j-06KmPxUwY_mDqg',\n",
       "           'ii_OxGUbtwd3S0RUW9OTvA',\n",
       "           'LTil5mtFTtmQUSE1CtWDIg',\n",
       "           '9E0qxTkhpn22n6iV2fRH_w',\n",
       "           'QCjlH4E0tD1McLC5TN7MdA',\n",
       "           'WPkRg0eaJZFbyXm0uNb1ZA',\n",
       "           'XZbuPXdyA0ZtTu3AzqtQhg',\n",
       "           'znc5ZpKCPANquABEm7SJuA',\n",
       "           'G4pt2q9Tr5SkwCw3Wb43VA',\n",
       "           'ndzT1maiVwpz-7VFFzAb5Q',\n",
       "           'Wvst5nUM1Yd64cdjIPOD6w',\n",
       "           'Iv5lyi_ule9sNIOncmusIw',\n",
       "           'PcR-9sTQRK_UN7qO9rzDNw',\n",
       "           'Gtw-SpnhyNa0TwNETlysyw',\n",
       "           'MN9RMoV35ReHFIHpRv3WZQ',\n",
       "           '4JAN16nTL0wwmmjjYG2z4Q',\n",
       "           'ovhGOgdvpYsAlKOSayPAAw',\n",
       "           'SpDSWxO4rLUCRAa3K6wC1Q',\n",
       "           'fJCsDc353UC6eUn-kCBrGw',\n",
       "           '3aKmNE2coy5YLBCIu676og',\n",
       "           'fzxvmA3Ygu3yrQQ6-cEpTw',\n",
       "           'I6Xa5eF9Jv9VM6ms_dkY8A',\n",
       "           'FeigEbRVs3d_WoMVUhIT7g',\n",
       "           'AKMvsVr_9meoSmawkEBe4g',\n",
       "           'bqCRq4gUpBk0mmMC_Dnq4A',\n",
       "           'ZXqiETQpe--0ufUW9B1xCA',\n",
       "           'nyI3q0CseFbPbTobHuzgkw',\n",
       "           'RbMo9QIPDWP7nAAolS7IFA',\n",
       "           'FAdJLp0gxVQHEKc7-6Wqag',\n",
       "           'A5Jeg55tDoyUTUonkVOpdg',\n",
       "           'BmPyJ8qbussUhCu4TxiKHg',\n",
       "           'qeQDbldV5n-wUu9zflp01w',\n",
       "           'AHosGBveeXx9YjsQvdJgeg',\n",
       "           '-av1lZI1JDY_RZN2eTMnWg',\n",
       "           'vtBtIV_23V95SwIDvj_OyA',\n",
       "           'KWZCNN7VTFE4BVbIIW14Nw',\n",
       "           'nSD-uxCMb745bH3dxoko9Q',\n",
       "           'SJU-jRAZS0cXoBGUjX5GUg',\n",
       "           'R6jpwPBe9edy0P64uyaLKA',\n",
       "           'N6grzFzxleR3F3MJuFB5LA',\n",
       "           'BnNCSJO2NDvjqJVWp2EeBQ',\n",
       "           'aHGMuoyQH_33pVwr0rPsmg',\n",
       "           'Dk3H2CPh_yb6CaN11XEFMA',\n",
       "           'TIu83s4sWMdhbwimzdfzIQ',\n",
       "           'rtj550X5w4tDWcTE8oAgew',\n",
       "           '9gPw3eOL0U0RfBHPdniQ2A',\n",
       "           'DaTQLers4x_DbGPi7r_xVw',\n",
       "           'OlOe-kVpXQOk9pUBpHBFsQ',\n",
       "           '2NICrHy0I5rlEJmlt0ao9A',\n",
       "           'b4dtR83mPAcvmM2a7mqpGw',\n",
       "           'Ps-m4xYjx1dydW9EFIpi-w',\n",
       "           'CGZ-SbkqCS4f1hijfmkwpQ',\n",
       "           'se2a2QaJi8Yx_KjE1r-_sQ',\n",
       "           'BZSzoBFhkXBUQTx4Cgl5Aw',\n",
       "           'k3JMFhqUyfQte9Q0-MOmeg',\n",
       "           'PAcD5cYk9yFtgUYvejaVfQ',\n",
       "           'Mr1Z5y12WnnsUNYRxy1lFg',\n",
       "           'qxjKPzTFqhCLieWcdDbKGw',\n",
       "           'LbeJgPgKKHw5qH0f02NHEQ',\n",
       "           'bBUMib8l6Me1ZB1_Qkezkg',\n",
       "           '-F5mm0-YeCI7viSiOwVAAw',\n",
       "           'wjOwf9KLKfo8pGdWXtfbaw',\n",
       "           '5XORYO9raiXVZSGGPvjSmA',\n",
       "           'wwGQ2XLp9z_AHmKul8vlGA',\n",
       "           'EIol8eFrS4WtRUhGbOUUgA',\n",
       "           'H_DDpVqMjkJmwceBM5CcYQ',\n",
       "           'CWkKP0dTCxnZlVG56EjH0Q',\n",
       "           'aFDv1FZuUck7QKRNY6Sbjw',\n",
       "           'o4lQfS_CR3Rrjt8UYUwdDg',\n",
       "           '30uxz3C85N_QnpDoyz0ytw',\n",
       "           'RhSi82sDhswGF3MyxCpkUg',\n",
       "           'EYJwDOvEJ5LefQIWcNeotQ',\n",
       "           'vGMa_Gkp73SF4oc5IIqmDA',\n",
       "           'NHDdAZJqS3cf_K6HYxoQ9w',\n",
       "           'BfBl4TKaTrfrZY-yGSB1jQ',\n",
       "           'F64_t2Mm7SRgwUH98lZn8w',\n",
       "           'I-mDBT0rs1ReKpyO4t0ciA',\n",
       "           'Cvor72cgP6IjBhE46hrdVA',\n",
       "           'ogVW7IF0oC-YEQA_fdSPLQ',\n",
       "           '3m5Bh1AoDIDY4OwNadqSnw',\n",
       "           'eS76100l3h7Ollb5s3_M4A',\n",
       "           'pp7Oy267KiVZkgrp-f6OMQ',\n",
       "           'M5jKFdL0vLcBzdPh-mLnAQ',\n",
       "           'wpQsmMvdhefqIlxvRt_Jbg',\n",
       "           'kFzq1hy_G3GCrPZcL6p4Wg',\n",
       "           'E9aC5bLfXdQVZ5csvLuLJg',\n",
       "           'C1JNZrYl3H-YzF1dys9SoQ',\n",
       "           'OD71MBxh6lhoPx09zcepng',\n",
       "           'tWtuHpIFtQHMQq8q8DG3dA',\n",
       "           'XnUb7yulkX8akT0A5RHI8g',\n",
       "           'gEt2b4t34Zz3Q2HzkrT53g',\n",
       "           '7s8ripk5sBM4psK_Za5GyQ',\n",
       "           'HvAi1JMlVCK54NXehcbCvg',\n",
       "           'D0TsIM7U5UfvZ8dBdFi4sg',\n",
       "           '4JNXUYY8wbaaDmk3BPzlWw',\n",
       "           'hnm3Gmoi3AdL_REsKupgOA',\n",
       "           'YnLyyo9QzqpDEDYPRJFUwQ',\n",
       "           'e4KIOV59c_b4o4N5oorIxw',\n",
       "           '_MNNGWXqkXCPiKQxCHsiuQ',\n",
       "           'IBSePQdC8MwoWdMmoyegnw',\n",
       "           'm6AvIcsMjTnoMqWywpEBqQ',\n",
       "           'uuKi9e3_TuP-em0sgLIGtw',\n",
       "           'PC_bg7yJTuRQbR5K8W5S5Q',\n",
       "           '_OoQ31fIoy3dK96rP6vtFQ',\n",
       "           '0-yj2jtzLUHG2b7PpEHyog',\n",
       "           'VdQCZMAPpamXpEEO0zt0Iw',\n",
       "           'mk4RhEPPgoFoAyScFCjCbQ',\n",
       "           '-Bb3kfdHIX1qm2RvtHnOTQ',\n",
       "           'odrygFzmLuVKonG9-fpj1w',\n",
       "           'y4OeYKJM65hXeFX0Wr6woA',\n",
       "           'Y2VteDlixGh6Yr9TYSyv1Q',\n",
       "           'CIFjkjllhTPGyx9eWBwJGQ',\n",
       "           'Rq-IRtifRb5W4-jcQFJvwQ',\n",
       "           'UfJX3SnU5l6Z6tuuMieFnA',\n",
       "           'iTwYEwBqer2O4OkI_7Ef9A',\n",
       "           'jIB2ynWOgy08ofjR_lZPBQ',\n",
       "           'R6Aj51wBO68e03V9h_dwAA',\n",
       "           'A-ToCCe7d2lWM2uXGVMO7g',\n",
       "           '7IOt1SahnsyuMwTcuZgFLQ',\n",
       "           'Jhz-8IqPf_2YUWsbGFyDNA',\n",
       "           '5EIuCcoHY2evAhFMBV6G6g',\n",
       "           '8aPTNdySQ2ipjWtCJG0vnw',\n",
       "           'hasmtD3zlx4o5y45WvuMKg',\n",
       "           'xOZ7bkrttSIGS4NZm49w5Q',\n",
       "           '8a4ScB2OYz8uVtp1PWP5jg',\n",
       "           'g9i9xFh9HtPWNLMB3ru3ug',\n",
       "           'RRiKkw7WN4ZcpR8iQvFcOQ',\n",
       "           '8PZGCtgG5MZKvz9i3B9gCA',\n",
       "           'HYKTKG3X7jtLe6elxp63JQ',\n",
       "           'EgIbDz2YFo28DXQY7ik0lQ',\n",
       "           'xwmwTpzw9XSwK-UT5Ka3HQ',\n",
       "           'Ny9cKPLAHjwUEoGjSCWzEw',\n",
       "           'WEoivlVObGE03PiWvVvXYA',\n",
       "           'H1j34TgbrVZkxeww9xlJTw',\n",
       "           '-sb0ObLL_3_x5a-U3DL8ug',\n",
       "           'oN8LWCHqpLguNYW6_Fk9Cg',\n",
       "           'wD7Qg9eounsAtUZjlMZOuA',\n",
       "           'LyuDnoxI8yiPPmwcF62bfw',\n",
       "           'z8fuQ6XYwfptZy-Tm1l9aQ',\n",
       "           '2c3N10T40XI9W6EgoXNOYA',\n",
       "           'E3JyyBNcZD9re_yiVOgaVg',\n",
       "           'PaU0Z2Zho5dK6BlSz4XjiA',\n",
       "           'opjEyudWKz_AJreQs959Aw',\n",
       "           '6YGQcH6v5ndd-Q4ovVRLDQ',\n",
       "           'yb7ZtgMWSZboG_sSUx9g2A',\n",
       "           'ZZIojRV9B-mxowlogobNow',\n",
       "           'BjoG1A78mIEl6on-HNSilw',\n",
       "           'NI_4CRkYsvPTh_FvC35F-Q',\n",
       "           'zx_eg_zbs2pyDU4QmCXE1Q',\n",
       "           'RQ_sx6lNGVjSTtasK3wlQg',\n",
       "           'C0envk3zOx6mtLzrDs8tvA',\n",
       "           'Zt2cMfrgRaSbYdC0OSh4jA',\n",
       "           'Pc9CJBuQgtBU_ddPz4c-LA',\n",
       "           'TpBDhEDslXnxiRBtF5keQA',\n",
       "           'UmzMxhZpmhI4aD71KJM6Sg',\n",
       "           'ORloM7z9R9eh-G-an5DQLA',\n",
       "           'bmW6tlbIrcfxsCZ1d-kmyQ',\n",
       "           'OqhMk3pIe-q-_ixiC6TNjw',\n",
       "           '8W8UC3kBA3aaAqve2gWufw',\n",
       "           'CUivTcULsu5MJIYYNVm1zw',\n",
       "           '60z9ITTVJn1QnLnb8tyTQw',\n",
       "           'yU5IGuiwQq9QeIHF8M75WQ',\n",
       "           'YKGTLE-Q9nQl7M1NwLvFZg',\n",
       "           'PJZWfs8RSn4A5nvJ3Wzl1g',\n",
       "           'BK3CTGXxDOSiDbVmNOCiQQ',\n",
       "           'PHmyaQq6rk7VtoNfrcINag',\n",
       "           'YNUzS_mEKaEAKGyUqjqZtw',\n",
       "           'ANZG2nECmn9NS1GZ6PRsvA',\n",
       "           'r80qDv4gFhnixb2GRUmKeQ',\n",
       "           '1kDS1homhHy0gr5N95oGzw',\n",
       "           'XTumKkL8Ns3StEvW1nwcow',\n",
       "           'LpyndkMvevIQA-JHoReHNw',\n",
       "           'TZkwffx18AmMh9Yric5LjA',\n",
       "           'GJVF0797Y2fVkMZFQFM8Rg',\n",
       "           'gt_ZbWa2e8yfb4hTbHFZpA',\n",
       "           'r_KDxVcTZVEigYepnoJ6Lw',\n",
       "           'RKVYQ00LvK0_FO6Ll7lvOg',\n",
       "           'HfvnvPWbhMqtVVRlG1s41w',\n",
       "           'CMF6FWSWbKD1sIVmStqu0A',\n",
       "           'p5rpYtxS5xPQjt3MXYVEwA',\n",
       "           'w3XZf4qnRUE3cSQZVcaSMw',\n",
       "           'TlFm2cjcm9TGERDh5Wqabw',\n",
       "           'j0_DUr3vBXY-JP-b0bf93A',\n",
       "           'NJ2Oyy9MH0qxYiLnVHfPiw',\n",
       "           '0S4WFZJZhVeM3aAqKjLz1w',\n",
       "           'VRTQMh7wVgmzg96YttL3mQ',\n",
       "           'lBuvkPla_tRrPgNjNWwLIA',\n",
       "           'H-wMVXewXX8DmY7uF2pwYA',\n",
       "           '7S_xPzT2mKDGddfY2oOxSw',\n",
       "           'gOhiq0tL76I9bXMDWWsL5Q',\n",
       "           'bo4loBeLwkQqZ7HGrgxXRQ',\n",
       "           'dFArFtgDj1rIahUDHU8L7Q',\n",
       "           'iDdDQDyvjYJ-YxeUjBMFsg',\n",
       "           '2WiMyg8-DoXQ8_R5qFc2iQ',\n",
       "           'P_OfKffPc3EUSZ44lZKO-Q',\n",
       "           'iMW1yiWfUnDUo1ZFnJQh2w',\n",
       "           'GQSmxqRi_s9U9qd5gHLKAw',\n",
       "           'CBOsWj63K1_O1m2Ounz7bQ',\n",
       "           'FSTnet5qh_Tmxu1GtTk3LA',\n",
       "           'rc9SfYli96cnlPDMyJ7hyA',\n",
       "           'lAHMg3pbNUqkHbvclEZ0Zg',\n",
       "           'Yp9w4nhUowBU_IS_StFXbQ',\n",
       "           '065c76tt1dXBNmoGBymUgQ',\n",
       "           'X9tvfneZi6vq-45Z7ulvPQ',\n",
       "           'qxNKPJfuklMxwPbkHLHeWQ',\n",
       "           '_mkObKf2FTg4pRcCFZBf4w',\n",
       "           'dYQaLCEog1QpQShowSVZig',\n",
       "           'XioQVInXr_85kocwyBIziw',\n",
       "           'IQ3esF7MvIOCbeVetW51Ng',\n",
       "           'tB0zkiCxLjJwEPCRmwlVrA',\n",
       "           'wL5yGvlL1zXZ4EPJ8d0hIA',\n",
       "           'PHnlbOQx9-fsIO6t4UByYA',\n",
       "           'qtsIl9bBtsbxIGK5Zf_F-g',\n",
       "           '0cdE2vd_zmYKPvokkkkZ1g',\n",
       "           'aJGwNNWwM19OuvAvK4AKZQ',\n",
       "           '7uoVM5OAA0A-lYKOJ3narA',\n",
       "           'F2YoHXf2lbUTw6_xAgdTjQ',\n",
       "           'WG3zvUktE1l3llwq3PPVVg',\n",
       "           '8ONIgnNHGS_2USuaLcHdxQ',\n",
       "           'VJNR3RGqrgi-LRu70eL4sg',\n",
       "           'eEeKRTNSHfbpG6E9VDnJDw',\n",
       "           'aNs7wSLFBu5JtCU4OH5RXw',\n",
       "           'fi6s29AbDqLjoQ1LSe5lrg',\n",
       "           '7viKgy6DfljrNn0VEluOHw',\n",
       "           'OPcGFLP_mRt9yvgP3ALXOQ',\n",
       "           'CzaaSUgwB4TKnEOIK0r8lg',\n",
       "           'O5mryZ9DrR_cQXcKGX0qmg',\n",
       "           '8HYtFglLCaGUpd4iSZFAkg',\n",
       "           'qJqhYuqLsPR2Pjpbdb4HEQ',\n",
       "           '-ICGmF2qUVKdvOehVNgPbg',\n",
       "           'vC23Fq8lMkNiZ4F8yh3ukQ',\n",
       "           'Er81SbLAXWDWsCFoAdgDIg',\n",
       "           'Hr5h_LG9TMBLlFz_Oici0A',\n",
       "           '1VTezD8PLosh-FeNxSRQ7g',\n",
       "           'hAPlM1MJzCqiCfHbQFXXJQ',\n",
       "           'ifbCSKX1p9t0iJLc4AKhng',\n",
       "           'IdaI8orCy7pyu5mzEHaCVA',\n",
       "           'VNYoiW3QIl6Gc3CuNoGFfQ',\n",
       "           'hOv0yRX4Km89-7vJuzPteg',\n",
       "           'cQ5flA0MB40EKI78rtrNlg',\n",
       "           'glV4srljnKDQgRlpcdHF8A',\n",
       "           'ydt5yifyYhF5s430llv_Hw',\n",
       "           'c8wf_OODd5X_uAZ7Q34jcw',\n",
       "           'j3YSK-IgpNabCIzWEl7CaA',\n",
       "           'tYNK4--H4WDaUBZ13salzA',\n",
       "           'EZOoB2D8uQHV_gJoGCMTxQ',\n",
       "           'TC6P9n3noJLR8KpE-i2OyA',\n",
       "           'JOxI8OVr1ArNV5CAzKIZAA',\n",
       "           '6C_8Mh4lmLc_QEs3hHleBg',\n",
       "           'qbC4cfz-ShxEGpLS94Mk7Q',\n",
       "           'YPvoQ-DYNvshlBIJh_Xq9g',\n",
       "           'UJ38-6J_f87r9-PE0miKsQ',\n",
       "           'GEL7svZLFqx9NWq3aOtz_Q',\n",
       "           'YcMC4p9jXo9_QYLfJSH-Dw',\n",
       "           ...})"
      ]
     },
     "execution_count": 101,
     "metadata": {},
     "output_type": "execute_result"
    }
   ],
   "source": [
    "bus_set"
   ]
  },
  {
   "cell_type": "code",
   "execution_count": 103,
   "metadata": {
    "collapsed": false
   },
   "outputs": [
    {
     "data": {
      "text/plain": [
       "'DGwDXazeFcD7DByweszpFA'"
      ]
     },
     "execution_count": 103,
     "metadata": {},
     "output_type": "execute_result"
    }
   ],
   "source": [
    "''.join([list(x) for x in bus_set][1])"
   ]
  },
  {
   "cell_type": "code",
   "execution_count": 104,
   "metadata": {
    "collapsed": false,
    "scrolled": true
   },
   "outputs": [
    {
     "ename": "TypeError",
     "evalue": "'Series' objects are mutable, thus they cannot be hashed",
     "output_type": "error",
     "traceback": [
      "\u001b[0;31m---------------------------------------------------------------------------\u001b[0m",
      "\u001b[0;31mTypeError\u001b[0m                                 Traceback (most recent call last)",
      "\u001b[0;32m<ipython-input-104-d647d3123281>\u001b[0m in \u001b[0;36m<module>\u001b[0;34m()\u001b[0m\n\u001b[1;32m      1\u001b[0m \u001b[0mdf\u001b[0m \u001b[0;34m=\u001b[0m \u001b[0mpd\u001b[0m\u001b[0;34m.\u001b[0m\u001b[0mDataFrame\u001b[0m\u001b[0;34m(\u001b[0m\u001b[0mreview_lda\u001b[0m\u001b[0;34m)\u001b[0m\u001b[0;34m\u001b[0m\u001b[0m\n\u001b[1;32m      2\u001b[0m \u001b[0mdf\u001b[0m\u001b[0;34m.\u001b[0m\u001b[0mcolumns\u001b[0m \u001b[0;34m=\u001b[0m \u001b[0;34m[\u001b[0m\u001b[0;34m'topic_number'\u001b[0m\u001b[0;34m,\u001b[0m \u001b[0;34m'freq'\u001b[0m\u001b[0;34m]\u001b[0m\u001b[0;34m\u001b[0m\u001b[0m\n\u001b[0;32m----> 3\u001b[0;31m \u001b[0mdf\u001b[0m \u001b[0;34m=\u001b[0m \u001b[0mdf\u001b[0m\u001b[0;34m.\u001b[0m\u001b[0massign\u001b[0m\u001b[0;34m(\u001b[0m\u001b[0mtopic\u001b[0m\u001b[0;34m=\u001b[0m\u001b[0mtopic_names\u001b[0m\u001b[0;34m[\u001b[0m\u001b[0mdf\u001b[0m\u001b[0;34m[\u001b[0m\u001b[0;34m'topic_number'\u001b[0m\u001b[0;34m]\u001b[0m\u001b[0;34m]\u001b[0m\u001b[0;34m)\u001b[0m\u001b[0;34m\u001b[0m\u001b[0m\n\u001b[0m\u001b[1;32m      4\u001b[0m \u001b[0mprint\u001b[0m\u001b[0;34m(\u001b[0m\u001b[0mdf\u001b[0m\u001b[0;34m)\u001b[0m\u001b[0;34m\u001b[0m\u001b[0m\n",
      "\u001b[0;32m/home/rlrognstad/anaconda3/lib/python3.6/site-packages/pandas/core/generic.py\u001b[0m in \u001b[0;36m__hash__\u001b[0;34m(self)\u001b[0m\n\u001b[1;32m    875\u001b[0m     \u001b[0;32mdef\u001b[0m \u001b[0m__hash__\u001b[0m\u001b[0;34m(\u001b[0m\u001b[0mself\u001b[0m\u001b[0;34m)\u001b[0m\u001b[0;34m:\u001b[0m\u001b[0;34m\u001b[0m\u001b[0m\n\u001b[1;32m    876\u001b[0m         raise TypeError('{0!r} objects are mutable, thus they cannot be'\n\u001b[0;32m--> 877\u001b[0;31m                         ' hashed'.format(self.__class__.__name__))\n\u001b[0m\u001b[1;32m    878\u001b[0m \u001b[0;34m\u001b[0m\u001b[0m\n\u001b[1;32m    879\u001b[0m     \u001b[0;32mdef\u001b[0m \u001b[0m__iter__\u001b[0m\u001b[0;34m(\u001b[0m\u001b[0mself\u001b[0m\u001b[0;34m)\u001b[0m\u001b[0;34m:\u001b[0m\u001b[0;34m\u001b[0m\u001b[0m\n",
      "\u001b[0;31mTypeError\u001b[0m: 'Series' objects are mutable, thus they cannot be hashed"
     ]
    }
   ],
   "source": [
    "df = pd.DataFrame(review_lda)\n",
    "df.columns = ['topic_number', 'freq']\n",
    "df = df.assign(topic=topic_names[df['topic_number']])\n",
    "print(df)"
   ]
  },
  {
   "cell_type": "code",
   "execution_count": null,
   "metadata": {
    "collapsed": true
   },
   "outputs": [],
   "source": []
  },
  {
   "cell_type": "code",
   "execution_count": null,
   "metadata": {
    "collapsed": true
   },
   "outputs": [],
   "source": []
  },
  {
   "cell_type": "code",
   "execution_count": null,
   "metadata": {
    "collapsed": true
   },
   "outputs": [],
   "source": []
  }
 ],
 "metadata": {
  "kernelspec": {
   "display_name": "Python 3",
   "language": "python",
   "name": "python3"
  },
  "language_info": {
   "codemirror_mode": {
    "name": "ipython",
    "version": 3
   },
   "file_extension": ".py",
   "mimetype": "text/x-python",
   "name": "python",
   "nbconvert_exporter": "python",
   "pygments_lexer": "ipython3",
   "version": "3.6.0"
  }
 },
 "nbformat": 4,
 "nbformat_minor": 2
}
